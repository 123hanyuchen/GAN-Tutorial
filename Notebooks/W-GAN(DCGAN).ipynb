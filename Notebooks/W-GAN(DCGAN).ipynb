{
 "cells": [
  {
   "cell_type": "markdown",
   "metadata": {},
   "source": [
    "# Implementation of Wasserstein GANs\n",
    "Reference: https://arxiv.org/pdf/1701.07875.pdf"
   ]
  },
  {
   "cell_type": "code",
   "execution_count": 1,
   "metadata": {
    "collapsed": true
   },
   "outputs": [],
   "source": [
    "import torch\n",
    "import torchvision\n",
    "import torch.nn as nn\n",
    "import torch.nn.functional as F"
   ]
  },
  {
   "cell_type": "code",
   "execution_count": 2,
   "metadata": {
    "collapsed": true
   },
   "outputs": [],
   "source": [
    "from torch.autograd import Variable\n",
    "from torch.utils.data import DataLoader\n",
    "from torchvision import datasets\n",
    "from torchvision import transforms\n",
    "from torchvision.utils import save_image"
   ]
  },
  {
   "cell_type": "code",
   "execution_count": 3,
   "metadata": {
    "collapsed": true
   },
   "outputs": [],
   "source": [
    "def to_cuda(x):\n",
    "    x = Variable(x)\n",
    "    if torch.cuda.is_available():\n",
    "        return x.cuda()\n",
    "    return x"
   ]
  },
  {
   "cell_type": "code",
   "execution_count": 4,
   "metadata": {
    "collapsed": true
   },
   "outputs": [],
   "source": [
    "def to_onehot(x, num_classes=10):\n",
    "    assert isinstance(x, int) or isinstance(x.data, (torch.cuda.LongTensor, torch.LongTensor))    \n",
    "    if isinstance(x, int):\n",
    "        c = to_cuda(torch.zeros(1, num_classes))\n",
    "        c.data[0][x] = 1\n",
    "    else:\n",
    "        c = to_cuda(torch.FloatTensor(x.size(0), num_classes))\n",
    "        c.zero_()\n",
    "        c.scatter_(1, x, 1) # dim, index, src value\n",
    "    return c"
   ]
  },
  {
   "cell_type": "code",
   "execution_count": 5,
   "metadata": {
    "collapsed": true
   },
   "outputs": [],
   "source": [
    "def n_critic(step, nc=5):\n",
    "    if step < 25 or step % 500 == 0:\n",
    "        return 100\n",
    "    return nc"
   ]
  },
  {
   "cell_type": "code",
   "execution_count": 6,
   "metadata": {
    "collapsed": true
   },
   "outputs": [],
   "source": [
    "class Discriminator(nn.Module):\n",
    "    \"\"\"\n",
    "        Convolutional Discriminator for MNIST\n",
    "    \"\"\"\n",
    "    def __init__(self, in_channel=1, num_classes=1):\n",
    "        super(Discriminator, self).__init__()\n",
    "        self.layer1 = nn.Sequential(# 28 -> 14\n",
    "            nn.Conv2d(in_channel, 128, 3, stride=2, padding=1),\n",
    "            nn.BatchNorm2d(128),\n",
    "            nn.LeakyReLU(0.2),\n",
    "        )\n",
    "        self.layer2 = nn.Sequential(# 14 -> 7\n",
    "            nn.Conv2d(128, 256, 3, stride=2, padding=1),\n",
    "            nn.BatchNorm2d(256),\n",
    "            nn.LeakyReLU(0.2),\n",
    "        )\n",
    "        self.layer3 = nn.Sequential(# 7 -> 4\n",
    "            nn.Conv2d(256, 512, 3, stride=2, padding=1),\n",
    "            nn.BatchNorm2d(512),\n",
    "            nn.LeakyReLU(0.2),\n",
    "            nn.AvgPool2d(4),\n",
    "        )\n",
    "        self.layer4 = nn.Sequential(# reshape input, 512 -> 1\n",
    "            nn.Linear(512, 1),\n",
    "        )\n",
    "    \n",
    "    def forward(self, x, y=None):\n",
    "        y_ = self.layer1(x)\n",
    "        y_ = self.layer2(y_)\n",
    "        y_ = self.layer3(y_)\n",
    "        y_ = y_.view(y_.size(0), -1)\n",
    "        y_ = self.layer4(y_)\n",
    "        return y_"
   ]
  },
  {
   "cell_type": "code",
   "execution_count": 7,
   "metadata": {
    "collapsed": true
   },
   "outputs": [],
   "source": [
    "class Generator(nn.Module):\n",
    "    \"\"\"\n",
    "        Convolutional Generator for MNIST\n",
    "    \"\"\"\n",
    "    def __init__(self, input_size=100, label_size=10, num_classes=784):\n",
    "        super(Generator, self).__init__()\n",
    "        self.layer1 = nn.Sequential(\n",
    "            nn.Linear(input_size, 4*4*512),\n",
    "            nn.ReLU(),\n",
    "        )\n",
    "        self.layer2 = nn.Sequential(# input: 4 by 4, output: 7 by 7\n",
    "            nn.ConvTranspose2d(512, 256, 3, stride=2, padding=1),\n",
    "            nn.BatchNorm2d(256),\n",
    "            nn.ReLU(),\n",
    "        )\n",
    "        self.layer3 = nn.Sequential(# input: 7 by 7, output: 14 by 14\n",
    "            nn.ConvTranspose2d(256, 128, 4, stride=2, padding=1),\n",
    "            nn.BatchNorm2d(128),\n",
    "            nn.ReLU(),\n",
    "        )\n",
    "        self.layer4 = nn.Sequential(# input: 14 by 14, output: 28 by 28\n",
    "            nn.ConvTranspose2d(128, 1, 4, stride=2, padding=1),\n",
    "            nn.Tanh(),\n",
    "        )\n",
    "        \n",
    "    def forward(self, x, y=None):\n",
    "        x = x.view(x.size(0), -1)\n",
    "        y_ = self.layer1(x)\n",
    "        y_ = y_.view(y_.size(0), 512, 4, 4)\n",
    "        y_ = self.layer2(y_)\n",
    "        y_ = self.layer3(y_)\n",
    "        y_ = self.layer4(y_)\n",
    "        return y_"
   ]
  },
  {
   "cell_type": "code",
   "execution_count": 8,
   "metadata": {
    "collapsed": true
   },
   "outputs": [],
   "source": [
    "D = Discriminator().cuda()\n",
    "G = Generator().cuda()"
   ]
  },
  {
   "cell_type": "code",
   "execution_count": 9,
   "metadata": {
    "collapsed": true
   },
   "outputs": [],
   "source": [
    "transform = transforms.Compose([transforms.ToTensor(),\n",
    "                                transforms.Normalize(mean=(0.5, 0.5, 0.5),\n",
    "                                std=(0.5, 0.5, 0.5))]\n",
    ")"
   ]
  },
  {
   "cell_type": "code",
   "execution_count": 10,
   "metadata": {
    "collapsed": true
   },
   "outputs": [],
   "source": [
    "mnist = datasets.MNIST(root='../data/', train=True, transform=transform, download=True)"
   ]
  },
  {
   "cell_type": "code",
   "execution_count": 11,
   "metadata": {
    "collapsed": true
   },
   "outputs": [],
   "source": [
    "batch_size = 64"
   ]
  },
  {
   "cell_type": "code",
   "execution_count": 12,
   "metadata": {
    "collapsed": true
   },
   "outputs": [],
   "source": [
    "data_loader = DataLoader(dataset=mnist, batch_size=batch_size, shuffle=True, drop_last=True)"
   ]
  },
  {
   "cell_type": "code",
   "execution_count": 13,
   "metadata": {
    "collapsed": true
   },
   "outputs": [],
   "source": [
    "D_opt = torch.optim.RMSprop(D.parameters(), lr=0.00005)\n",
    "G_opt = torch.optim.RMSprop(G.parameters(), lr=0.00005)"
   ]
  },
  {
   "cell_type": "code",
   "execution_count": 14,
   "metadata": {
    "collapsed": true
   },
   "outputs": [],
   "source": [
    "max_epoch = 100 # need more than 100 epochs for training generator\n",
    "step = 0\n",
    "g_step = 0\n",
    "n_noise = 100"
   ]
  },
  {
   "cell_type": "code",
   "execution_count": 15,
   "metadata": {
    "collapsed": true
   },
   "outputs": [],
   "source": [
    "D_labels = to_cuda(torch.ones(batch_size)) # Discriminator Label to real\n",
    "D_fakes = to_cuda(torch.zeros(batch_size)) # Discriminator Label to fake"
   ]
  },
  {
   "cell_type": "code",
   "execution_count": 16,
   "metadata": {
    "scrolled": true
   },
   "outputs": [
    {
     "name": "stdout",
     "output_type": "stream",
     "text": [
      "Epoch: 1/100, Step: 1000, D Loss: 0.01689860410988331, G Loss: -0.01865750178694725\n",
      "Epoch: 2/100, Step: 2000, D Loss: 0.017338456586003304, G Loss: -0.018848080188035965\n",
      "Epoch: 3/100, Step: 3000, D Loss: 0.015043231658637524, G Loss: -0.017564350739121437\n",
      "Epoch: 4/100, Step: 4000, D Loss: 0.013900580815970898, G Loss: -0.017899051308631897\n",
      "Epoch: 5/100, Step: 5000, D Loss: 0.01342387218028307, G Loss: -0.01756778173148632\n",
      "Epoch: 6/100, Step: 6000, D Loss: 0.010374899953603745, G Loss: -0.017309239134192467\n",
      "Epoch: 7/100, Step: 7000, D Loss: 0.008754553273320198, G Loss: -0.016042686998844147\n",
      "Epoch: 8/100, Step: 8000, D Loss: 0.007685935590416193, G Loss: -0.013888048939406872\n",
      "Epoch: 9/100, Step: 9000, D Loss: 0.0056373123079538345, G Loss: -0.012449131347239017\n",
      "Epoch: 10/100, Step: 10000, D Loss: 0.005605174228549004, G Loss: -0.012552694417536259\n",
      "Epoch: 11/100, Step: 11000, D Loss: 0.0036423299461603165, G Loss: -0.011108871549367905\n",
      "Epoch: 12/100, Step: 12000, D Loss: 0.004931742325425148, G Loss: -0.014175193384289742\n",
      "Epoch: 13/100, Step: 13000, D Loss: 0.00545906787738204, G Loss: -0.013057611882686615\n",
      "Epoch: 14/100, Step: 14000, D Loss: 0.005225680768489838, G Loss: -0.012130196206271648\n",
      "Epoch: 16/100, Step: 15000, D Loss: 0.003517312463372946, G Loss: -0.01455545425415039\n",
      "Epoch: 17/100, Step: 16000, D Loss: 0.003520876169204712, G Loss: -0.00892765261232853\n",
      "Epoch: 18/100, Step: 17000, D Loss: 0.005119116045534611, G Loss: -0.011467782780528069\n",
      "Epoch: 19/100, Step: 18000, D Loss: 0.005335300695151091, G Loss: -0.012300853617489338\n",
      "Epoch: 20/100, Step: 19000, D Loss: 0.004471571650356054, G Loss: -0.011760038323700428\n",
      "Epoch: 21/100, Step: 20000, D Loss: 0.003880728967487812, G Loss: -0.014630288816988468\n",
      "Epoch: 22/100, Step: 21000, D Loss: 0.004324744921177626, G Loss: -0.014679910615086555\n",
      "Epoch: 23/100, Step: 22000, D Loss: 0.004315478727221489, G Loss: -0.012041592970490456\n",
      "Epoch: 24/100, Step: 23000, D Loss: 0.0035571958869695663, G Loss: -0.008737824857234955\n",
      "Epoch: 25/100, Step: 24000, D Loss: 0.0027375174686312675, G Loss: -0.011043282225728035\n",
      "Epoch: 26/100, Step: 25000, D Loss: 0.004862880799919367, G Loss: -0.013336263597011566\n",
      "Epoch: 27/100, Step: 26000, D Loss: 0.003974704071879387, G Loss: -0.011715310625731945\n",
      "Epoch: 28/100, Step: 27000, D Loss: 0.0037152771838009357, G Loss: -0.013181645423173904\n",
      "Epoch: 29/100, Step: 28000, D Loss: 0.004644693806767464, G Loss: -0.01359851285815239\n",
      "Epoch: 30/100, Step: 29000, D Loss: 0.003694801591336727, G Loss: -0.014232189394533634\n",
      "Epoch: 32/100, Step: 30000, D Loss: 0.0038591958582401276, G Loss: -0.007831698283553123\n",
      "Epoch: 33/100, Step: 31000, D Loss: 0.0049545643851161, G Loss: -0.011878537014126778\n",
      "Epoch: 34/100, Step: 32000, D Loss: 0.004053897224366665, G Loss: -0.010798990726470947\n",
      "Epoch: 35/100, Step: 33000, D Loss: 0.003361181356012821, G Loss: -0.013107615523040295\n",
      "Epoch: 36/100, Step: 34000, D Loss: 0.004206730984151363, G Loss: -0.00880004558712244\n",
      "Epoch: 37/100, Step: 35000, D Loss: 0.004138927906751633, G Loss: -0.012485508807003498\n",
      "Epoch: 38/100, Step: 36000, D Loss: 0.0037638917565345764, G Loss: -0.01104307547211647\n",
      "Epoch: 39/100, Step: 37000, D Loss: 0.004325577057898045, G Loss: -0.01171566266566515\n",
      "Epoch: 40/100, Step: 38000, D Loss: 0.004615934565663338, G Loss: -0.01187693327665329\n",
      "Epoch: 41/100, Step: 39000, D Loss: 0.004214338026940823, G Loss: -0.010445745661854744\n",
      "Epoch: 42/100, Step: 40000, D Loss: 0.0046249935403466225, G Loss: -0.011910670436918736\n",
      "Epoch: 43/100, Step: 41000, D Loss: 0.0034399954602122307, G Loss: -0.011245575733482838\n",
      "Epoch: 44/100, Step: 42000, D Loss: 0.0016686152666807175, G Loss: -0.012417079880833626\n",
      "Epoch: 45/100, Step: 43000, D Loss: 0.0038317167200148106, G Loss: -0.013135510496795177\n",
      "Epoch: 46/100, Step: 44000, D Loss: 0.0038483943790197372, G Loss: -0.009364386089146137\n",
      "Epoch: 48/100, Step: 45000, D Loss: 0.003562385216355324, G Loss: -0.010054775513708591\n",
      "Epoch: 49/100, Step: 46000, D Loss: 0.0035756947472691536, G Loss: -0.008581356145441532\n",
      "Epoch: 50/100, Step: 47000, D Loss: 0.0026523759588599205, G Loss: -0.008888764306902885\n",
      "Epoch: 51/100, Step: 48000, D Loss: 0.003430567681789398, G Loss: -0.011097672395408154\n",
      "Epoch: 52/100, Step: 49000, D Loss: 0.0034546060487627983, G Loss: -0.0125349722802639\n",
      "Epoch: 53/100, Step: 50000, D Loss: 0.004407643806189299, G Loss: -0.013268646784126759\n",
      "Epoch: 54/100, Step: 51000, D Loss: 0.0020178519189357758, G Loss: -0.008978761732578278\n",
      "Epoch: 55/100, Step: 52000, D Loss: 0.0015325597487390041, G Loss: -0.013898484408855438\n",
      "Epoch: 56/100, Step: 53000, D Loss: 0.0037773544900119305, G Loss: -0.01236932072788477\n",
      "Epoch: 57/100, Step: 54000, D Loss: 0.004422649275511503, G Loss: -0.011537841521203518\n",
      "Epoch: 58/100, Step: 55000, D Loss: 0.0042536561377346516, G Loss: -0.012743907049298286\n",
      "Epoch: 59/100, Step: 56000, D Loss: 0.003140147775411606, G Loss: -0.013144178315997124\n",
      "Epoch: 60/100, Step: 57000, D Loss: 0.0028077736496925354, G Loss: -0.011050445958971977\n",
      "Epoch: 61/100, Step: 58000, D Loss: 0.0021281996741890907, G Loss: -0.014281903393566608\n",
      "Epoch: 62/100, Step: 59000, D Loss: 0.0033337846398353577, G Loss: -0.012316378764808178\n",
      "Epoch: 64/100, Step: 60000, D Loss: 0.0012610182166099548, G Loss: -0.012671693228185177\n",
      "Epoch: 65/100, Step: 61000, D Loss: 0.002900291234254837, G Loss: -0.014195861294865608\n",
      "Epoch: 66/100, Step: 62000, D Loss: 0.0032948581501841545, G Loss: -0.013142556883394718\n",
      "Epoch: 67/100, Step: 63000, D Loss: 0.003353274427354336, G Loss: -0.009681894443929195\n",
      "Epoch: 68/100, Step: 64000, D Loss: 0.0029250076040625572, G Loss: -0.012853031046688557\n",
      "Epoch: 69/100, Step: 65000, D Loss: 0.0035852408036589622, G Loss: -0.011001846753060818\n",
      "Epoch: 70/100, Step: 66000, D Loss: 0.0014328286051750183, G Loss: -0.013650842942297459\n",
      "Epoch: 71/100, Step: 67000, D Loss: 0.0027266419492661953, G Loss: -0.012674940750002861\n",
      "Epoch: 72/100, Step: 68000, D Loss: 0.002363838255405426, G Loss: -0.01442619226872921\n",
      "Epoch: 73/100, Step: 69000, D Loss: 0.00292862206697464, G Loss: -0.011426379904150963\n",
      "Epoch: 74/100, Step: 70000, D Loss: 0.0027493564411997795, G Loss: -0.012569715268909931\n",
      "Epoch: 75/100, Step: 71000, D Loss: 0.0025720978155732155, G Loss: -0.010777726769447327\n",
      "Epoch: 76/100, Step: 72000, D Loss: 0.0033728242851793766, G Loss: -0.012724206782877445\n",
      "Epoch: 77/100, Step: 73000, D Loss: 0.003394037950783968, G Loss: -0.01304837316274643\n",
      "Epoch: 78/100, Step: 74000, D Loss: 0.0035862671211361885, G Loss: -0.01369925495237112\n",
      "Epoch: 80/100, Step: 75000, D Loss: 0.0034067975357174873, G Loss: -0.01266189943999052\n",
      "Epoch: 81/100, Step: 76000, D Loss: 0.0018473677337169647, G Loss: -0.012740520760416985\n",
      "Epoch: 82/100, Step: 77000, D Loss: 0.0035416772589087486, G Loss: -0.013048015534877777\n",
      "Epoch: 83/100, Step: 78000, D Loss: 0.0019457824528217316, G Loss: -0.008497735485434532\n",
      "Epoch: 84/100, Step: 79000, D Loss: 0.002893218770623207, G Loss: -0.012153027579188347\n",
      "Epoch: 85/100, Step: 80000, D Loss: 0.0006445478647947311, G Loss: -0.01061311736702919\n",
      "Epoch: 86/100, Step: 81000, D Loss: 0.0030759191140532494, G Loss: -0.011310882866382599\n",
      "Epoch: 87/100, Step: 82000, D Loss: 0.0031478479504585266, G Loss: -0.011931185610592365\n",
      "Epoch: 88/100, Step: 83000, D Loss: 0.0015702815726399422, G Loss: -0.010238747112452984\n",
      "Epoch: 89/100, Step: 84000, D Loss: 0.0031628627330064774, G Loss: -0.011393978260457516\n",
      "Epoch: 90/100, Step: 85000, D Loss: 0.002844073809683323, G Loss: -0.010476550087332726\n",
      "Epoch: 91/100, Step: 86000, D Loss: 0.003249675966799259, G Loss: -0.010453693568706512\n",
      "Epoch: 92/100, Step: 87000, D Loss: 0.0037367278710007668, G Loss: -0.013215921819210052\n",
      "Epoch: 93/100, Step: 88000, D Loss: 0.0027915704995393753, G Loss: -0.013205942697823048\n",
      "Epoch: 94/100, Step: 89000, D Loss: 0.002897476777434349, G Loss: -0.010975084267556667\n",
      "Epoch: 96/100, Step: 90000, D Loss: 0.0019703470170497894, G Loss: -0.01246121246367693\n",
      "Epoch: 97/100, Step: 91000, D Loss: 0.0014818646013736725, G Loss: -0.0138541953638196\n",
      "Epoch: 98/100, Step: 92000, D Loss: 0.0019642282277345657, G Loss: -0.013654918409883976\n",
      "Epoch: 99/100, Step: 93000, D Loss: 0.0012174909934401512, G Loss: -0.012387814000248909\n"
     ]
    }
   ],
   "source": [
    "for epoch in range(max_epoch):\n",
    "    for idx, (images, labels) in enumerate(data_loader):\n",
    "        step += 1\n",
    "                   \n",
    "        # Training Discriminator\n",
    "        x = to_cuda(images)\n",
    "        x_outputs = D(x)\n",
    "\n",
    "        z = to_cuda(torch.randn(batch_size, n_noise))\n",
    "        z_outputs = D(G(z))\n",
    "        D_x_loss = torch.mean(x_outputs)\n",
    "        D_z_loss = torch.mean(z_outputs)\n",
    "        D_loss = (D_x_loss - D_z_loss) * -1\n",
    "        \n",
    "        D.zero_grad()\n",
    "        D_loss.backward()\n",
    "        D_opt.step()\n",
    "        # Parameter(Weight) Clipping for K-Lipshitz constraint\n",
    "        for p in D.parameters():\n",
    "            p.data.clamp_(-0.01, 0.01)\n",
    "                    \n",
    "        if step % n_critic(g_step) == 0:\n",
    "            g_step += 1\n",
    "            # Training Generator\n",
    "            z = to_cuda(torch.randn(batch_size, n_noise))\n",
    "            z_outputs = D(G(z))\n",
    "            G_loss = -torch.mean(z_outputs, 0)\n",
    "\n",
    "            D.zero_grad()\n",
    "            G.zero_grad()\n",
    "            G_loss.backward()\n",
    "            G_opt.step()\n",
    "        \n",
    "        if step % 1000 == 0:\n",
    "            print('Epoch: {}/{}, Step: {}, D Loss: {}, G Loss: {}'.format(epoch, max_epoch, step, -D_loss.data[0], -G_loss.data[0]))"
   ]
  },
  {
   "cell_type": "code",
   "execution_count": 17,
   "metadata": {
    "collapsed": true
   },
   "outputs": [],
   "source": [
    "import scipy.misc"
   ]
  },
  {
   "cell_type": "code",
   "execution_count": 44,
   "metadata": {},
   "outputs": [
    {
     "name": "stderr",
     "output_type": "stream",
     "text": [
      "/home/yangyangii/anaconda3/lib/python3.6/site-packages/ipykernel_launcher.py:5: DeprecationWarning: `toimage` is deprecated!\n",
      "`toimage` is deprecated in SciPy 1.0.0, and will be removed in 1.2.0.\n",
      "Use Pillow's ``Image.fromarray`` directly instead.\n",
      "  \"\"\"\n"
     ]
    },
    {
     "data": {
      "image/png": "[encoded data removed]",
      "text/plain": [
       "<PIL.Image.Image image mode=L size=28x28 at 0x7FC5DCF0A4A8>"
      ]
     },
     "execution_count": 44,
     "metadata": {},
     "output_type": "execute_result"
    }
   ],
   "source": [
    "# generation to image\n",
    "z = to_cuda(torch.randn(1, n_noise))\n",
    "fakeimg = G(z).view(28, 28)\n",
    "img = fakeimg.cpu().data.numpy()\n",
    "scipy.misc.toimage(img)"
   ]
  },
  {
   "cell_type": "code",
   "execution_count": 15,
   "metadata": {
    "collapsed": true
   },
   "outputs": [],
   "source": [
    "def save_checkpoint(state, file_name='checkpoint.pth.tar'):\n",
    "    torch.save(state, file_name)"
   ]
  },
  {
   "cell_type": "code",
   "execution_count": 16,
   "metadata": {
    "collapsed": true
   },
   "outputs": [],
   "source": [
    "# Saving params.\n",
    "# torch.save(D.state_dict(), 'D_c.pkl')\n",
    "# torch.save(G.state_dict(), 'G_c.pkl')\n",
    "save_checkpoint({'epoch': epoch + 1, 'state_dict':D.state_dict(), 'optimizer' : D_opt.state_dict()}, 'D_dc.pth.tar')\n",
    "save_checkpoint({'epoch': epoch + 1, 'state_dict':G.state_dict(), 'optimizer' : G_opt.state_dict()}, 'G_dc.pth.tar')"
   ]
  },
  {
   "cell_type": "code",
   "execution_count": null,
   "metadata": {
    "collapsed": true
   },
   "outputs": [],
   "source": []
  }
 ],
 "metadata": {
  "kernelspec": {
   "display_name": "Python 3",
   "language": "python",
   "name": "python3"
  },
  "language_info": {
   "codemirror_mode": {
    "name": "ipython",
    "version": 3
   },
   "file_extension": ".py",
   "mimetype": "text/x-python",
   "name": "python",
   "nbconvert_exporter": "python",
   "pygments_lexer": "ipython3",
   "version": "3.6.1"
  }
 },
 "nbformat": 4,
 "nbformat_minor": 2
}
