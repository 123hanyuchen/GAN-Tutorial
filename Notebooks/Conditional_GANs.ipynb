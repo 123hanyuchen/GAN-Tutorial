{
 "cells": [
  {
   "cell_type": "markdown",
   "metadata": {},
   "source": [
    "# Implementation of Conditional GANs\n",
    "Reference: https://arxiv.org/pdf/1411.1784.pdf"
   ]
  },
  {
   "cell_type": "code",
   "execution_count": 1,
   "metadata": {
    "collapsed": true
   },
   "outputs": [],
   "source": [
    "import torch\n",
    "import torchvision\n",
    "import torch.nn as nn\n",
    "import torch.nn.functional as F"
   ]
  },
  {
   "cell_type": "code",
   "execution_count": 2,
   "metadata": {
    "collapsed": true
   },
   "outputs": [],
   "source": [
    "from torch.utils.data import DataLoader\n",
    "from torchvision import datasets\n",
    "from torchvision import transforms\n",
    "from torchvision.utils import save_image"
   ]
  },
  {
   "cell_type": "code",
   "execution_count": 3,
   "metadata": {
    "collapsed": true
   },
   "outputs": [],
   "source": [
    "import numpy as np\n",
    "import datetime\n",
    "import scipy.misc"
   ]
  },
  {
   "cell_type": "code",
   "execution_count": 4,
   "metadata": {
    "collapsed": true
   },
   "outputs": [],
   "source": [
    "MODEL_NAME = 'ConditionalGAN'\n",
    "DEVICE = torch.device(\"cuda:0\" if torch.cuda.is_available() else \"cpu\")"
   ]
  },
  {
   "cell_type": "code",
   "execution_count": 5,
   "metadata": {
    "collapsed": true
   },
   "outputs": [],
   "source": [
    "def to_cuda(x):\n",
    "    return x.to(DEVICE)"
   ]
  },
  {
   "cell_type": "code",
   "execution_count": 6,
   "metadata": {
    "collapsed": true
   },
   "outputs": [],
   "source": [
    "def to_onehot(x, num_classes=10):\n",
    "    assert isinstance(x, int) or isinstance(x, (torch.LongTensor, torch.cuda.LongTensor))\n",
    "    if isinstance(x, int):\n",
    "        c = torch.zeros(1, num_classes).long()\n",
    "        c[0][x] = 1\n",
    "    else:\n",
    "        x = x.cpu()\n",
    "        c = torch.LongTensor(x.size(0), num_classes)\n",
    "        c.zero_()\n",
    "        c.scatter_(1, x, 1) # dim, index, src value\n",
    "    return c"
   ]
  },
  {
   "cell_type": "code",
   "execution_count": 7,
   "metadata": {
    "collapsed": true
   },
   "outputs": [],
   "source": [
    "def get_sample_image(G, n_noise=100):\n",
    "    \"\"\"\n",
    "        save sample 100 images\n",
    "    \"\"\"\n",
    "    for num in range(10):\n",
    "        c = to_cuda(to_onehot(num))\n",
    "        for i in range(10):\n",
    "            z = to_cuda(torch.randn(1, n_noise))\n",
    "            y_hat = G(z,c)\n",
    "            line_img = torch.cat((line_img, y_hat.view(28, 28)), dim=1) if i > 0 else y_hat.view(28, 28)\n",
    "        all_img = torch.cat((all_img, line_img), dim=0) if num > 0 else line_img\n",
    "    img = all_img.cpu().data.numpy()\n",
    "    return img"
   ]
  },
  {
   "cell_type": "code",
   "execution_count": 8,
   "metadata": {
    "collapsed": true
   },
   "outputs": [],
   "source": [
    "class Discriminator(nn.Module):\n",
    "    \"\"\"\n",
    "        Simple Discriminator w/ MLP\n",
    "    \"\"\"\n",
    "    def __init__(self, input_size=784, label_size=10, num_classes=1):\n",
    "        super(Discriminator, self).__init__()\n",
    "        self.layer1 = nn.Sequential(\n",
    "            nn.Linear(input_size+label_size, 200),\n",
    "            nn.ReLU(),\n",
    "            nn.Dropout(),\n",
    "        )\n",
    "        self.layer2 = nn.Sequential(\n",
    "            nn.Linear(200, 200),\n",
    "            nn.ReLU(),\n",
    "            nn.Dropout(),\n",
    "        )\n",
    "        self.layer3 = nn.Sequential(\n",
    "            nn.Linear(200, num_classes),\n",
    "            nn.Sigmoid(),\n",
    "        )\n",
    "    \n",
    "    def forward(self, x, y):        \n",
    "        x, y = x.view(x.size(0), -1), y.view(y.size(0), -1).float()\n",
    "        v = torch.cat((x, y), 1) # v: [input, label] concatenated vector\n",
    "        y_ = self.layer1(v)\n",
    "        y_ = self.layer2(y_)\n",
    "        y_ = self.layer3(y_)\n",
    "        return y_"
   ]
  },
  {
   "cell_type": "code",
   "execution_count": 9,
   "metadata": {
    "collapsed": true
   },
   "outputs": [],
   "source": [
    "class Generator(nn.Module):\n",
    "    \"\"\"\n",
    "        Simple Generator w/ MLP\n",
    "    \"\"\"\n",
    "    def __init__(self, input_size=100, label_size=10, num_classes=784):\n",
    "        super(Generator, self).__init__()\n",
    "        self.layer = nn.Sequential(\n",
    "            nn.Linear(input_size+label_size, 200),\n",
    "            nn.LeakyReLU(0.2),\n",
    "            nn.Linear(200, 200),\n",
    "            nn.LeakyReLU(0.2),\n",
    "            nn.Linear(200, num_classes),\n",
    "            nn.Tanh()\n",
    "        )\n",
    "        \n",
    "    def forward(self, x, y):\n",
    "        x, y = x.view(x.size(0), -1), y.view(y.size(0), -1).float()\n",
    "        v = torch.cat((x, y), 1) # v: [input, label] concatenated vector\n",
    "        y_ = self.layer(v)\n",
    "        y_ = y_.view(x.size(0), 1, 28, 28)\n",
    "        return y_"
   ]
  },
  {
   "cell_type": "code",
   "execution_count": 10,
   "metadata": {
    "collapsed": true
   },
   "outputs": [],
   "source": [
    "D = to_cuda(Discriminator())\n",
    "G = to_cuda(Generator())"
   ]
  },
  {
   "cell_type": "code",
   "execution_count": 11,
   "metadata": {
    "collapsed": true
   },
   "outputs": [],
   "source": [
    "transform = transforms.Compose([transforms.ToTensor(),\n",
    "                                transforms.Normalize(mean=(0.5, 0.5, 0.5),\n",
    "                                std=(0.5, 0.5, 0.5))]\n",
    ")"
   ]
  },
  {
   "cell_type": "code",
   "execution_count": 12,
   "metadata": {
    "collapsed": true
   },
   "outputs": [],
   "source": [
    "mnist = datasets.MNIST(root='../data/', train=True, transform=transform, download=True)"
   ]
  },
  {
   "cell_type": "code",
   "execution_count": 13,
   "metadata": {
    "collapsed": true
   },
   "outputs": [],
   "source": [
    "batch_size = 64\n",
    "condition_size = 10"
   ]
  },
  {
   "cell_type": "code",
   "execution_count": 14,
   "metadata": {
    "collapsed": true
   },
   "outputs": [],
   "source": [
    "data_loader = DataLoader(dataset=mnist, batch_size=batch_size, shuffle=True, drop_last=True)"
   ]
  },
  {
   "cell_type": "code",
   "execution_count": 15,
   "metadata": {
    "collapsed": true
   },
   "outputs": [],
   "source": [
    "criterion = nn.BCELoss()\n",
    "D_opt = torch.optim.Adam(D.parameters())\n",
    "G_opt = torch.optim.Adam(G.parameters())"
   ]
  },
  {
   "cell_type": "code",
   "execution_count": 16,
   "metadata": {
    "collapsed": true
   },
   "outputs": [],
   "source": [
    "max_epoch = 100 # need more than 200 epochs for training generator\n",
    "step = 0\n",
    "n_critic = 5 # for training more k steps about Discriminator\n",
    "n_noise = 100"
   ]
  },
  {
   "cell_type": "code",
   "execution_count": 17,
   "metadata": {
    "collapsed": true
   },
   "outputs": [],
   "source": [
    "D_labels = to_cuda(torch.ones(batch_size)) # Discriminator Label to real\n",
    "D_fakes = to_cuda(torch.zeros(batch_size)) # Discriminator Label to fake"
   ]
  },
  {
   "cell_type": "code",
   "execution_count": 18,
   "metadata": {
    "scrolled": true
   },
   "outputs": [
    {
     "name": "stderr",
     "output_type": "stream",
     "text": [
      "/home/yangyangii/anaconda3/lib/python3.6/site-packages/torch/nn/functional.py:1474: UserWarning: Using a target size (torch.Size([64])) that is different to the input size (torch.Size([64, 1])) is deprecated. Please ensure they have the same size.\n",
      "  \"Please ensure they have the same size.\".format(target.size(), input.size()))\n",
      "/home/yangyangii/anaconda3/lib/python3.6/site-packages/ipykernel_launcher.py:36: DeprecationWarning: `imsave` is deprecated!\n",
      "`imsave` is deprecated in SciPy 1.0.0, and will be removed in 1.2.0.\n",
      "Use ``imageio.imwrite`` instead.\n",
      "/home/yangyangii/anaconda3/lib/python3.6/site-packages/ipykernel_launcher.py:31: UserWarning: invalid index of a 0-dim tensor. This will be an error in PyTorch 0.5. Use tensor.item() to convert a 0-dim tensor to a Python number\n"
     ]
    },
    {
     "name": "stdout",
     "output_type": "stream",
     "text": [
      "Epoch: 1/100, Step: 1000, D Loss: 0.006886022165417671, G Loss: 6.892054080963135\n",
      "Epoch: 2/100, Step: 2000, D Loss: 0.019143888726830482, G Loss: 4.3445024490356445\n",
      "Epoch: 3/100, Step: 3000, D Loss: 0.19308042526245117, G Loss: 3.904717445373535\n",
      "Epoch: 4/100, Step: 4000, D Loss: 0.22286486625671387, G Loss: 3.072611093521118\n",
      "Epoch: 5/100, Step: 5000, D Loss: 0.35640907287597656, G Loss: 2.4632222652435303\n",
      "Epoch: 6/100, Step: 6000, D Loss: 0.3854143023490906, G Loss: 3.1006641387939453\n",
      "Epoch: 7/100, Step: 7000, D Loss: 0.5886667370796204, G Loss: 2.7281479835510254\n",
      "Epoch: 8/100, Step: 8000, D Loss: 0.4883541464805603, G Loss: 2.679180383682251\n",
      "Epoch: 9/100, Step: 9000, D Loss: 0.48615679144859314, G Loss: 2.7146453857421875\n",
      "Epoch: 10/100, Step: 10000, D Loss: 0.40296006202697754, G Loss: 3.209959030151367\n",
      "Epoch: 11/100, Step: 11000, D Loss: 0.593424916267395, G Loss: 2.9037342071533203\n",
      "Epoch: 12/100, Step: 12000, D Loss: 0.3914448022842407, G Loss: 3.405048370361328\n",
      "Epoch: 13/100, Step: 13000, D Loss: 0.4649445414543152, G Loss: 4.105511665344238\n",
      "Epoch: 14/100, Step: 14000, D Loss: 0.5052280426025391, G Loss: 3.17435359954834\n",
      "Epoch: 16/100, Step: 15000, D Loss: 0.3953028917312622, G Loss: 3.4302940368652344\n",
      "Epoch: 17/100, Step: 16000, D Loss: 0.5957463979721069, G Loss: 2.9505090713500977\n",
      "Epoch: 18/100, Step: 17000, D Loss: 0.5655984878540039, G Loss: 3.681025266647339\n",
      "Epoch: 19/100, Step: 18000, D Loss: 0.7440735697746277, G Loss: 2.2607672214508057\n",
      "Epoch: 20/100, Step: 19000, D Loss: 0.6899160146713257, G Loss: 2.201277732849121\n",
      "Epoch: 21/100, Step: 20000, D Loss: 0.6734725832939148, G Loss: 2.036346197128296\n",
      "Epoch: 22/100, Step: 21000, D Loss: 0.6364381313323975, G Loss: 2.5342252254486084\n",
      "Epoch: 23/100, Step: 22000, D Loss: 0.7114566564559937, G Loss: 1.9314815998077393\n",
      "Epoch: 24/100, Step: 23000, D Loss: 0.7777721881866455, G Loss: 2.0298047065734863\n",
      "Epoch: 25/100, Step: 24000, D Loss: 0.7349454164505005, G Loss: 1.6763299703598022\n",
      "Epoch: 26/100, Step: 25000, D Loss: 0.9619559049606323, G Loss: 1.4130668640136719\n",
      "Epoch: 27/100, Step: 26000, D Loss: 0.9342426657676697, G Loss: 1.2352533340454102\n",
      "Epoch: 28/100, Step: 27000, D Loss: 0.8583098649978638, G Loss: 1.5451703071594238\n",
      "Epoch: 29/100, Step: 28000, D Loss: 0.996813952922821, G Loss: 1.067806363105774\n",
      "Epoch: 30/100, Step: 29000, D Loss: 1.1295727491378784, G Loss: 1.2622926235198975\n",
      "Epoch: 32/100, Step: 30000, D Loss: 0.9795352816581726, G Loss: 1.2614853382110596\n",
      "Epoch: 33/100, Step: 31000, D Loss: 1.1585311889648438, G Loss: 1.2224161624908447\n",
      "Epoch: 34/100, Step: 32000, D Loss: 1.1205193996429443, G Loss: 1.0572903156280518\n",
      "Epoch: 35/100, Step: 33000, D Loss: 1.0875178575515747, G Loss: 1.2414038181304932\n",
      "Epoch: 36/100, Step: 34000, D Loss: 1.0913751125335693, G Loss: 1.290439486503601\n",
      "Epoch: 37/100, Step: 35000, D Loss: 1.0237562656402588, G Loss: 1.1240589618682861\n",
      "Epoch: 38/100, Step: 36000, D Loss: 1.1549257040023804, G Loss: 1.2215921878814697\n",
      "Epoch: 39/100, Step: 37000, D Loss: 1.214949369430542, G Loss: 1.3828370571136475\n",
      "Epoch: 40/100, Step: 38000, D Loss: 1.206092357635498, G Loss: 1.2516000270843506\n",
      "Epoch: 41/100, Step: 39000, D Loss: 0.8902715444564819, G Loss: 1.0903385877609253\n",
      "Epoch: 42/100, Step: 40000, D Loss: 1.1632741689682007, G Loss: 0.9453587532043457\n",
      "Epoch: 43/100, Step: 41000, D Loss: 1.1798570156097412, G Loss: 1.169321060180664\n",
      "Epoch: 44/100, Step: 42000, D Loss: 1.0903959274291992, G Loss: 1.0817259550094604\n",
      "Epoch: 45/100, Step: 43000, D Loss: 1.1086457967758179, G Loss: 1.1266088485717773\n",
      "Epoch: 46/100, Step: 44000, D Loss: 1.209303617477417, G Loss: 1.0147278308868408\n",
      "Epoch: 48/100, Step: 45000, D Loss: 1.0831202268600464, G Loss: 1.0031596422195435\n",
      "Epoch: 49/100, Step: 46000, D Loss: 1.1775376796722412, G Loss: 1.0262336730957031\n",
      "Epoch: 50/100, Step: 47000, D Loss: 1.3407506942749023, G Loss: 0.9957830905914307\n",
      "Epoch: 51/100, Step: 48000, D Loss: 1.0991344451904297, G Loss: 1.12868332862854\n",
      "Epoch: 52/100, Step: 49000, D Loss: 1.2345271110534668, G Loss: 0.9203516244888306\n",
      "Epoch: 53/100, Step: 50000, D Loss: 1.0848358869552612, G Loss: 1.1280947923660278\n",
      "Epoch: 54/100, Step: 51000, D Loss: 1.1345019340515137, G Loss: 1.0270953178405762\n",
      "Epoch: 55/100, Step: 52000, D Loss: 1.2290782928466797, G Loss: 1.1559863090515137\n",
      "Epoch: 56/100, Step: 53000, D Loss: 1.2853671312332153, G Loss: 1.0714623928070068\n",
      "Epoch: 57/100, Step: 54000, D Loss: 1.1057195663452148, G Loss: 1.1647392511367798\n",
      "Epoch: 58/100, Step: 55000, D Loss: 1.0373034477233887, G Loss: 1.1498786211013794\n",
      "Epoch: 59/100, Step: 56000, D Loss: 1.239804983139038, G Loss: 0.9346458911895752\n",
      "Epoch: 60/100, Step: 57000, D Loss: 1.2065551280975342, G Loss: 0.9490383863449097\n",
      "Epoch: 61/100, Step: 58000, D Loss: 1.210353136062622, G Loss: 0.9172385334968567\n",
      "Epoch: 62/100, Step: 59000, D Loss: 1.2412891387939453, G Loss: 0.9770523309707642\n",
      "Epoch: 64/100, Step: 60000, D Loss: 1.166922926902771, G Loss: 0.9191452264785767\n",
      "Epoch: 65/100, Step: 61000, D Loss: 1.221456527709961, G Loss: 0.8139527440071106\n",
      "Epoch: 66/100, Step: 62000, D Loss: 1.1867060661315918, G Loss: 0.8887845873832703\n",
      "Epoch: 67/100, Step: 63000, D Loss: 1.1078007221221924, G Loss: 0.8756977319717407\n",
      "Epoch: 68/100, Step: 64000, D Loss: 1.207710862159729, G Loss: 0.9907646179199219\n",
      "Epoch: 69/100, Step: 65000, D Loss: 1.1671717166900635, G Loss: 0.8613163232803345\n",
      "Epoch: 70/100, Step: 66000, D Loss: 1.1045856475830078, G Loss: 0.9437369108200073\n",
      "Epoch: 71/100, Step: 67000, D Loss: 1.1639118194580078, G Loss: 1.340670108795166\n",
      "Epoch: 72/100, Step: 68000, D Loss: 1.1143561601638794, G Loss: 1.1326298713684082\n",
      "Epoch: 73/100, Step: 69000, D Loss: 1.321090817451477, G Loss: 0.8958954215049744\n",
      "Epoch: 74/100, Step: 70000, D Loss: 1.3132655620574951, G Loss: 0.9787368774414062\n",
      "Epoch: 75/100, Step: 71000, D Loss: 1.138634443283081, G Loss: 0.9236207604408264\n",
      "Epoch: 76/100, Step: 72000, D Loss: 1.3145413398742676, G Loss: 0.8595181703567505\n",
      "Epoch: 77/100, Step: 73000, D Loss: 1.3670549392700195, G Loss: 0.7834475040435791\n",
      "Epoch: 78/100, Step: 74000, D Loss: 1.2186461687088013, G Loss: 0.8779712915420532\n",
      "Epoch: 80/100, Step: 75000, D Loss: 1.164361596107483, G Loss: 1.0379977226257324\n",
      "Epoch: 81/100, Step: 76000, D Loss: 1.1347061395645142, G Loss: 1.0712788105010986\n",
      "Epoch: 82/100, Step: 77000, D Loss: 1.195711612701416, G Loss: 0.852565586566925\n",
      "Epoch: 83/100, Step: 78000, D Loss: 1.1672208309173584, G Loss: 0.8915978670120239\n",
      "Epoch: 84/100, Step: 79000, D Loss: 1.1467621326446533, G Loss: 0.941338300704956\n",
      "Epoch: 85/100, Step: 80000, D Loss: 1.388185977935791, G Loss: 0.9547291398048401\n",
      "Epoch: 86/100, Step: 81000, D Loss: 1.3540401458740234, G Loss: 0.9978368878364563\n",
      "Epoch: 87/100, Step: 82000, D Loss: 1.2106298208236694, G Loss: 0.8715139031410217\n",
      "Epoch: 88/100, Step: 83000, D Loss: 1.1725172996520996, G Loss: 1.0138347148895264\n",
      "Epoch: 89/100, Step: 84000, D Loss: 1.2235270738601685, G Loss: 0.9603337049484253\n",
      "Epoch: 90/100, Step: 85000, D Loss: 1.1297473907470703, G Loss: 1.0583233833312988\n",
      "Epoch: 91/100, Step: 86000, D Loss: 1.1975650787353516, G Loss: 0.9240584373474121\n",
      "Epoch: 92/100, Step: 87000, D Loss: 1.3087842464447021, G Loss: 0.8660781383514404\n",
      "Epoch: 93/100, Step: 88000, D Loss: 1.1962897777557373, G Loss: 1.0627784729003906\n",
      "Epoch: 94/100, Step: 89000, D Loss: 1.3058876991271973, G Loss: 1.0225555896759033\n",
      "Epoch: 96/100, Step: 90000, D Loss: 1.2765047550201416, G Loss: 1.1564221382141113\n",
      "Epoch: 97/100, Step: 91000, D Loss: 1.2899242639541626, G Loss: 0.9084200263023376\n",
      "Epoch: 98/100, Step: 92000, D Loss: 1.307404637336731, G Loss: 0.8357136249542236\n",
      "Epoch: 99/100, Step: 93000, D Loss: 1.2784039974212646, G Loss: 0.9521782398223877\n"
     ]
    }
   ],
   "source": [
    "for epoch in range(max_epoch):\n",
    "    for idx, (images, labels) in enumerate(data_loader):\n",
    "        step += 1\n",
    "        # Training Discriminator\n",
    "        x = to_cuda(images)\n",
    "        y = labels.view(batch_size, 1)\n",
    "        y = to_cuda(to_onehot(y))\n",
    "        x_outputs = D(x, y)\n",
    "        D_x_loss = criterion(x_outputs, D_labels)\n",
    "\n",
    "        z = to_cuda(torch.randn(batch_size, n_noise))\n",
    "        z_outputs = D(G(z, y), y)\n",
    "        D_z_loss = criterion(z_outputs, D_fakes)\n",
    "        D_loss = D_x_loss + D_z_loss\n",
    "        \n",
    "        D.zero_grad()\n",
    "        D_loss.backward()\n",
    "        D_opt.step()\n",
    "        \n",
    "        if step % n_critic == 0:\n",
    "            # Training Generator\n",
    "            z = to_cuda(torch.randn(batch_size, n_noise))\n",
    "            z_outputs = D(G(z, y), y)\n",
    "            G_loss = criterion(z_outputs, D_labels)\n",
    "\n",
    "            G.zero_grad()\n",
    "            G_loss.backward()\n",
    "            G_opt.step()\n",
    "        \n",
    "        if step % 1000 == 0:\n",
    "            print('Epoch: {}/{}, Step: {}, D Loss: {}, G Loss: {}'.format(epoch, max_epoch, step, D_loss.data[0], G_loss.data[0]))\n",
    "            \n",
    "        if epoch % 5 == 0:\n",
    "            G.eval()\n",
    "            img = get_sample_image(G)\n",
    "            scipy.misc.imsave('sample/{}_epoch_{}_type1.jpg'.format(MODEL_NAME, epoch), img)\n",
    "            G.train()"
   ]
  },
  {
   "cell_type": "code",
   "execution_count": null,
   "metadata": {
    "collapsed": true
   },
   "outputs": [],
   "source": []
  },
  {
   "cell_type": "markdown",
   "metadata": {},
   "source": [
    "## Sample"
   ]
  },
  {
   "cell_type": "code",
   "execution_count": 19,
   "metadata": {},
   "outputs": [
    {
     "name": "stderr",
     "output_type": "stream",
     "text": [
      "/home/yangyangii/anaconda3/lib/python3.6/site-packages/ipykernel_launcher.py:3: DeprecationWarning: `toimage` is deprecated!\n",
      "`toimage` is deprecated in SciPy 1.0.0, and will be removed in 1.2.0.\n",
      "Use Pillow's ``Image.fromarray`` directly instead.\n",
      "  This is separate from the ipykernel package so we can avoid doing imports until\n"
     ]
    },
    {
     "data": {
      "image/png": "[encoded data removed]",
      "text/plain": [
       "<PIL.Image.Image image mode=L size=280x280 at 0x7F6278CBE978>"
      ]
     },
     "execution_count": 19,
     "metadata": {},
     "output_type": "execute_result"
    }
   ],
   "source": [
    "# generation to image\n",
    "G.eval()\n",
    "scipy.misc.toimage(get_sample_image(G))"
   ]
  },
  {
   "cell_type": "code",
   "execution_count": null,
   "metadata": {
    "collapsed": true
   },
   "outputs": [],
   "source": []
  },
  {
   "cell_type": "code",
   "execution_count": null,
   "metadata": {
    "collapsed": true
   },
   "outputs": [],
   "source": []
  },
  {
   "cell_type": "code",
   "execution_count": 40,
   "metadata": {
    "collapsed": true
   },
   "outputs": [],
   "source": [
    "def save_checkpoint(state, file_name='checkpoint.pth.tar'):\n",
    "    torch.save(state, file_name)"
   ]
  },
  {
   "cell_type": "code",
   "execution_count": 41,
   "metadata": {
    "collapsed": true
   },
   "outputs": [],
   "source": [
    "# Saving params.\n",
    "# torch.save(D.state_dict(), 'D_c.pkl')\n",
    "# torch.save(G.state_dict(), 'G_c.pkl')\n",
    "save_checkpoint({'epoch': epoch + 1, 'state_dict':D.state_dict(), 'optimizer' : D_opt.state_dict()}, 'D_c.pth.tar')\n",
    "save_checkpoint({'epoch': epoch + 1, 'state_dict':G.state_dict(), 'optimizer' : G_opt.state_dict()}, 'G_c.pth.tar')"
   ]
  },
  {
   "cell_type": "code",
   "execution_count": null,
   "metadata": {
    "collapsed": true
   },
   "outputs": [],
   "source": []
  }
 ],
 "metadata": {
  "kernelspec": {
   "display_name": "Python 3",
   "language": "python",
   "name": "python3"
  },
  "language_info": {
   "codemirror_mode": {
    "name": "ipython",
    "version": 3
   },
   "file_extension": ".py",
   "mimetype": "text/x-python",
   "name": "python",
   "nbconvert_exporter": "python",
   "pygments_lexer": "ipython3",
   "version": "3.6.1"
  }
 },
 "nbformat": 4,
 "nbformat_minor": 2
}
