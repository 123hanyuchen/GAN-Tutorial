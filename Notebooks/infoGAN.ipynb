{
 "cells": [
  {
   "cell_type": "markdown",
   "metadata": {},
   "source": [
    "# Implementation of infoGANs\n",
    "Reference: https://arxiv.org/pdf/1606.03657.pdf"
   ]
  },
  {
   "cell_type": "code",
   "execution_count": 1,
   "metadata": {
    "collapsed": true
   },
   "outputs": [],
   "source": [
    "import torch\n",
    "import torchvision\n",
    "import torch.nn as nn\n",
    "import torch.nn.functional as F"
   ]
  },
  {
   "cell_type": "code",
   "execution_count": 2,
   "metadata": {
    "collapsed": true
   },
   "outputs": [],
   "source": [
    "from torch.autograd import Variable\n",
    "from torch.utils.data import DataLoader\n",
    "from torchvision import datasets\n",
    "from torchvision import transforms\n",
    "from torchvision.utils import save_image"
   ]
  },
  {
   "cell_type": "code",
   "execution_count": 3,
   "metadata": {
    "collapsed": true
   },
   "outputs": [],
   "source": [
    "import numpy as np\n",
    "import datetime\n",
    "import scipy.misc"
   ]
  },
  {
   "cell_type": "code",
   "execution_count": 4,
   "metadata": {
    "collapsed": true
   },
   "outputs": [],
   "source": [
    "def get_sample_image():\n",
    "    \"\"\"\n",
    "        save sample 100 images\n",
    "    \"\"\"\n",
    "    images = []\n",
    "    # continuous code\n",
    "    for cc_type in range(2):\n",
    "        for num in range(10):\n",
    "            fix_z = torch.randn(1, n_noise)\n",
    "            z = to_cuda_var(fix_z)\n",
    "            cc = -1\n",
    "            for i in range(10):\n",
    "                cc += 0.2\n",
    "                c_discrete = to_cuda_var(to_onehot(num)) # (B,10)\n",
    "                c_continuous = to_cuda_var(torch.zeros(1, n_c_continuous))\n",
    "                c_continuous.data[:,cc_type].add_(cc)\n",
    "                c = torch.cat((c_discrete.float(), c_continuous), 1)\n",
    "                y_hat = G(z, c)\n",
    "                line_img = torch.cat((line_img, y_hat.view(28, 28)), dim=1) if i > 0 else y_hat.view(28, 28)\n",
    "            all_img = torch.cat((all_img, line_img), dim=0) if num > 0 else line_img\n",
    "        img = all_img.cpu().data.numpy()\n",
    "        images.append(img)\n",
    "    # discrete code\n",
    "    for num in range(10):\n",
    "        c_discrete = to_cuda_var(to_onehot(num)) # (B,10)\n",
    "        for i in range(10):\n",
    "            z = to_cuda_var(torch.randn(1, n_noise))\n",
    "            c_continuous = to_cuda_var(torch.zeros(1, n_c_continuous))\n",
    "            c = torch.cat((c_discrete.float(), c_continuous), 1)\n",
    "            y_hat = G(z, c)\n",
    "            line_img = torch.cat((line_img, y_hat.view(28, 28)), dim=1) if i > 0 else y_hat.view(28, 28)\n",
    "        all_img = torch.cat((all_img, line_img), dim=0) if num > 0 else line_img\n",
    "    img = all_img.cpu().data.numpy()\n",
    "    images.append(img)\n",
    "    return images[0], images[1], images[2]"
   ]
  },
  {
   "cell_type": "code",
   "execution_count": 5,
   "metadata": {
    "collapsed": true
   },
   "outputs": [],
   "source": [
    "def to_cuda_var(x):\n",
    "    if torch.cuda.is_available():\n",
    "        return Variable(x).cuda()\n",
    "    return Variable(x)"
   ]
  },
  {
   "cell_type": "code",
   "execution_count": 6,
   "metadata": {
    "collapsed": true
   },
   "outputs": [],
   "source": [
    "def to_onehot(x, num_classes=10):\n",
    "    assert isinstance(x, int) or isinstance(x, (torch.LongTensor, torch.cuda.LongTensor))\n",
    "    if isinstance(x, int):\n",
    "        c = torch.zeros(1, num_classes).long()\n",
    "        c[0][x] = 1\n",
    "    else:\n",
    "        x = x.cpu()\n",
    "        c = torch.LongTensor(x.size(0), num_classes)\n",
    "        c.zero_()\n",
    "        c.scatter_(1, x, 1) # dim, index, src value\n",
    "    return c"
   ]
  },
  {
   "cell_type": "code",
   "execution_count": 7,
   "metadata": {
    "collapsed": true
   },
   "outputs": [],
   "source": [
    "def sample_noise(batch_size, n_noise, n_c_discrete, n_c_continuous, label=None, supervised=False):\n",
    "    z = to_cuda_var(torch.randn(batch_size, n_noise))\n",
    "    if supervised:\n",
    "        c_discrete = to_cuda_var(to_onehot(label)) # (B,10)\n",
    "    else:\n",
    "        c_discrete = to_cuda_var(to_onehot(torch.LongTensor(batch_size, 1).random_(0, n_c_discrete))) # (B,10)\n",
    "    c_continuous = to_cuda_var(torch.zeros(batch_size, n_c_continuous).uniform_(-1, 1)) # (B,2)\n",
    "    c = torch.cat((c_discrete.float(), c_continuous), 1)\n",
    "    return z, c"
   ]
  },
  {
   "cell_type": "code",
   "execution_count": 8,
   "metadata": {
    "collapsed": true
   },
   "outputs": [],
   "source": [
    "def log_gaussian(c, mu, var):\n",
    "    \"\"\"\n",
    "        criterion for Q(condition classifier)\n",
    "    \"\"\"\n",
    "    return -((c - mu)**2)/(2*var+1e-8) - 0.5*torch.log(2*np.pi*var+1e-8)"
   ]
  },
  {
   "cell_type": "code",
   "execution_count": 9,
   "metadata": {
    "collapsed": true
   },
   "outputs": [],
   "source": [
    "class Discriminator(nn.Module):\n",
    "    \"\"\"\n",
    "        Convolutional Discriminator for MNIST\n",
    "    \"\"\"\n",
    "    def __init__(self, in_channel=1):\n",
    "        super(Discriminator, self).__init__()\n",
    "        self.layer1 = nn.Sequential(# 28 -> 14\n",
    "            nn.Conv2d(in_channel, 64, 3, stride=2, padding=1, bias=False),\n",
    "            nn.BatchNorm2d(64),\n",
    "            nn.LeakyReLU(0.1),\n",
    "        )\n",
    "        self.layer2 = nn.Sequential(# 14 -> 7\n",
    "            nn.Conv2d(64, 128, 3, stride=2, padding=1, bias=False),\n",
    "            nn.BatchNorm2d(128),\n",
    "            nn.LeakyReLU(0.1),\n",
    "        )\n",
    "        self.layer3 = nn.Sequential(#\n",
    "            nn.Linear(128*7*7, 1024),\n",
    "            nn.BatchNorm1d(1024),\n",
    "            nn.LeakyReLU(0.1),\n",
    "        )\n",
    "        self.fc = nn.Sequential(\n",
    "            nn.Linear(1024, 1),\n",
    "            nn.Sigmoid(),\n",
    "        )\n",
    "    \n",
    "    def forward(self, x):\n",
    "        y_ = self.layer1(x)\n",
    "        y_ = self.layer2(y_)\n",
    "        y_ = y_.view(y_.size(0), -1)\n",
    "        y_ = self.layer3(y_)\n",
    "        d = self.fc(y_) # Real / Fake        \n",
    "        return d, y_ # return with top layer features for Q"
   ]
  },
  {
   "cell_type": "code",
   "execution_count": 13,
   "metadata": {
    "collapsed": true
   },
   "outputs": [],
   "source": [
    "class Qrator(nn.Module):\n",
    "    \"\"\"\n",
    "        Regularization Network for increasing Mutual Information\n",
    "    \"\"\"\n",
    "    def __init__(self):\n",
    "        super(Qrator, self).__init__()\n",
    "        self.fc = nn.Sequential(\n",
    "            nn.Linear(1024, 128),\n",
    "            nn.BatchNorm1d(128),\n",
    "            nn.LeakyReLU(0.1),\n",
    "            nn.Linear(128, 14),\n",
    "        )\n",
    "        \n",
    "    def forward(self, x):\n",
    "        # Seperate code\n",
    "        c = self.fc(x)\n",
    "        c_discrete = F.softmax(c[:, :10]) # Digit Label {0~9}\n",
    "        c_mu = c[:, 10:12] # mu & var of Rotation & Thickness\n",
    "        c_var = c[:, 12:14].exp() # mu & var of Rotation & Thickness\n",
    "        return c_discrete, c_mu, c_var"
   ]
  },
  {
   "cell_type": "code",
   "execution_count": 11,
   "metadata": {
    "collapsed": true
   },
   "outputs": [],
   "source": [
    "class Generator(nn.Module):\n",
    "    \"\"\"\n",
    "        Convolutional Generator for MNIST\n",
    "    \"\"\"\n",
    "    def __init__(self, input_size=62, code_size=12, num_classes=784):\n",
    "        super(Generator, self).__init__()\n",
    "        self.layer1 = nn.Sequential(\n",
    "            nn.Linear(input_size+code_size, 1024),\n",
    "            nn.BatchNorm1d(1024),\n",
    "            nn.ReLU(),\n",
    "        )\n",
    "        self.layer2 = nn.Sequential(\n",
    "            nn.Linear(1024, 7*7*128),\n",
    "            nn.BatchNorm1d(7*7*128),\n",
    "            nn.ReLU(),\n",
    "        )\n",
    "        self.layer3 = nn.Sequential(# input: 7 by 7, output: 14 by 14\n",
    "            nn.ConvTranspose2d(128, 64, 4, stride=2, padding=1, bias=False),\n",
    "            nn.BatchNorm2d(64),\n",
    "            nn.ReLU(),\n",
    "        )\n",
    "        self.layer4 = nn.Sequential(# input: 14 by 14, output: 28 by 28\n",
    "            nn.ConvTranspose2d(64, 1, 4, stride=2, padding=1, bias=False),\n",
    "            nn.Tanh(),\n",
    "        )\n",
    "        \n",
    "    def forward(self, z, c):\n",
    "        z = z.view(z.size(0), -1)\n",
    "        c = c.view(c.size(0), -1)\n",
    "        noise = torch.cat((z, c), 1)\n",
    "#         print(noise.size())\n",
    "        x_ = self.layer1(noise)\n",
    "        x_ = self.layer2(x_)\n",
    "        x_ = x_.view(x_.size(0), 128, 7, 7)\n",
    "        x_ = self.layer3(x_)\n",
    "        x_ = self.layer4(x_)\n",
    "        return x_"
   ]
  },
  {
   "cell_type": "code",
   "execution_count": 14,
   "metadata": {},
   "outputs": [],
   "source": [
    "D = Discriminator().cuda()\n",
    "G = Generator().cuda()\n",
    "Q = Qrator().cuda()\n",
    "# D.load_state_dict('D_dc.pkl')\n",
    "# G.load_state_dict('G_dc.pkl')"
   ]
  },
  {
   "cell_type": "code",
   "execution_count": 15,
   "metadata": {
    "collapsed": true
   },
   "outputs": [],
   "source": [
    "transform = transforms.Compose([transforms.ToTensor(),\n",
    "                                transforms.Normalize(mean=(0.5, 0.5, 0.5),\n",
    "                                std=(0.5, 0.5, 0.5))]\n",
    ")"
   ]
  },
  {
   "cell_type": "code",
   "execution_count": 16,
   "metadata": {
    "collapsed": true
   },
   "outputs": [],
   "source": [
    "mnist = datasets.MNIST(root='../data/', train=True, transform=transform, download=True)"
   ]
  },
  {
   "cell_type": "code",
   "execution_count": 17,
   "metadata": {
    "collapsed": true
   },
   "outputs": [],
   "source": [
    "batch_size = 128"
   ]
  },
  {
   "cell_type": "code",
   "execution_count": 18,
   "metadata": {
    "collapsed": true
   },
   "outputs": [],
   "source": [
    "data_loader = DataLoader(dataset=mnist, batch_size=batch_size, shuffle=True, drop_last=True)"
   ]
  },
  {
   "cell_type": "code",
   "execution_count": 19,
   "metadata": {
    "collapsed": true
   },
   "outputs": [],
   "source": [
    "bce_loss = nn.BCELoss()\n",
    "ce_loss = nn.CrossEntropyLoss()\n",
    "\n",
    "D_opt = torch.optim.Adam(D.parameters(), lr=2e-4, betas=(0.5, 0.99))\n",
    "# G_opt = torch.optim.Adam(G.parameters(), lr=1e-3, betas=(0.5, 0.99))\n",
    "G_opt = torch.optim.Adam([{'params':G.parameters()}, {'params':Q.parameters()}], lr=1e-3, betas=(0.5, 0.99))"
   ]
  },
  {
   "cell_type": "code",
   "execution_count": 20,
   "metadata": {
    "collapsed": true
   },
   "outputs": [],
   "source": [
    "max_epoch = 105 # need more than 20 epochs for training generator\n",
    "step = 0\n",
    "n_critic = 1 # for training more k steps about Discriminator\n",
    "n_noise = 62\n",
    "n_c_discrete, n_c_continuous = 10, 2\n",
    "\n",
    "D_labels = to_cuda_var(torch.ones(batch_size)) # Discriminator Label to real\n",
    "D_fakes = to_cuda_var(torch.zeros(batch_size)) # Discriminator Label to fake"
   ]
  },
  {
   "cell_type": "code",
   "execution_count": 22,
   "metadata": {
    "scrolled": true
   },
   "outputs": [
    {
     "name": "stderr",
     "output_type": "stream",
     "text": [
      "/home/yangyangii/anaconda3/lib/python3.6/site-packages/torch/nn/functional.py:1189: UserWarning: Using a target size (torch.Size([128])) that is different to the input size (torch.Size([128, 1])) is deprecated. Please ensure they have the same size.\n",
      "  \"Please ensure they have the same size.\".format(target.size(), input.size()))\n",
      "/home/yangyangii/anaconda3/lib/python3.6/site-packages/ipykernel_launcher.py:43: DeprecationWarning: `imsave` is deprecated!\n",
      "`imsave` is deprecated in SciPy 1.0.0, and will be removed in 1.2.0.\n",
      "Use ``imageio.imwrite`` instead.\n",
      "/home/yangyangii/anaconda3/lib/python3.6/site-packages/ipykernel_launcher.py:44: DeprecationWarning: `imsave` is deprecated!\n",
      "`imsave` is deprecated in SciPy 1.0.0, and will be removed in 1.2.0.\n",
      "Use ``imageio.imwrite`` instead.\n",
      "/home/yangyangii/anaconda3/lib/python3.6/site-packages/ipykernel_launcher.py:45: DeprecationWarning: `imsave` is deprecated!\n",
      "`imsave` is deprecated in SciPy 1.0.0, and will be removed in 1.2.0.\n",
      "Use ``imageio.imwrite`` instead.\n",
      "/home/yangyangii/anaconda3/lib/python3.6/site-packages/ipykernel_launcher.py:17: UserWarning: Implicit dimension choice for softmax has been deprecated. Change the call to include dim=X as an argument.\n"
     ]
    },
    {
     "name": "stdout",
     "output_type": "stream",
     "text": [
      "Epoch: 2/200, Step: 1000, D Loss: 0.3780098557472229, G Loss: 1.7853507995605469, Q Loss: 3.8619868755340576, Time: 2018-05-05 19:24:50\n",
      "Epoch: 4/200, Step: 2000, D Loss: 0.7211685180664062, G Loss: 1.691239833831787, Q Loss: 3.3395743370056152, Time: 2018-05-05 19:25:19\n",
      "Epoch: 6/200, Step: 3000, D Loss: 0.7582706212997437, G Loss: 1.412711501121521, Q Loss: 3.0302205085754395, Time: 2018-05-05 19:28:41\n",
      "Epoch: 8/200, Step: 4000, D Loss: 0.6191341876983643, G Loss: 1.6487994194030762, Q Loss: 3.2237048149108887, Time: 2018-05-05 19:29:10\n",
      "Epoch: 10/200, Step: 5000, D Loss: 0.7058660387992859, G Loss: 1.470022439956665, Q Loss: 3.007896661758423, Time: 2018-05-05 19:31:42\n",
      "Epoch: 12/200, Step: 6000, D Loss: 1.1128296852111816, G Loss: 1.6825504302978516, Q Loss: 3.2425475120544434, Time: 2018-05-05 19:32:59\n",
      "Epoch: 14/200, Step: 7000, D Loss: 0.5996794700622559, G Loss: 1.8286118507385254, Q Loss: 3.3309996128082275, Time: 2018-05-05 19:33:28\n",
      "Epoch: 17/200, Step: 8000, D Loss: 0.6679326295852661, G Loss: 1.5934456586837769, Q Loss: 3.1062231063842773, Time: 2018-05-05 19:36:50\n",
      "Epoch: 19/200, Step: 9000, D Loss: 0.4878779351711273, G Loss: 1.5787019729614258, Q Loss: 3.0773978233337402, Time: 2018-05-05 19:37:19\n",
      "Epoch: 21/200, Step: 10000, D Loss: 0.5675308704376221, G Loss: 1.82259202003479, Q Loss: 3.3500113487243652, Time: 2018-05-05 19:40:39\n",
      "Epoch: 23/200, Step: 11000, D Loss: 0.6354643702507019, G Loss: 2.3788187503814697, Q Loss: 3.915231943130493, Time: 2018-05-05 19:41:08\n",
      "Epoch: 25/200, Step: 12000, D Loss: 0.40944424271583557, G Loss: 2.7976341247558594, Q Loss: 4.285034656524658, Time: 2018-05-05 19:43:43\n",
      "Epoch: 27/200, Step: 13000, D Loss: 0.3982531726360321, G Loss: 1.9638664722442627, Q Loss: 3.4555928707122803, Time: 2018-05-05 19:44:58\n",
      "Epoch: 29/200, Step: 14000, D Loss: 0.3724324703216553, G Loss: 2.1217355728149414, Q Loss: 3.6278395652770996, Time: 2018-05-05 19:45:27\n",
      "Epoch: 32/200, Step: 15000, D Loss: 0.35887742042541504, G Loss: 2.192018508911133, Q Loss: 3.7224910259246826, Time: 2018-05-05 19:48:48\n",
      "Epoch: 34/200, Step: 16000, D Loss: 0.6104475855827332, G Loss: 2.905351161956787, Q Loss: 4.364333152770996, Time: 2018-05-05 19:49:17\n",
      "Epoch: 36/200, Step: 17000, D Loss: 0.364896684885025, G Loss: 2.323561429977417, Q Loss: 3.7901506423950195, Time: 2018-05-05 19:52:18\n",
      "Epoch: 38/200, Step: 18000, D Loss: 0.5034592151641846, G Loss: 2.60172176361084, Q Loss: 4.073018550872803, Time: 2018-05-05 19:52:42\n",
      "Epoch: 40/200, Step: 19000, D Loss: 0.32345014810562134, G Loss: 2.385361671447754, Q Loss: 3.8546853065490723, Time: 2018-05-05 19:54:03\n",
      "Epoch: 42/200, Step: 20000, D Loss: 0.502538800239563, G Loss: 4.451206207275391, Q Loss: 5.944471836090088, Time: 2018-05-05 19:55:06\n",
      "Epoch: 44/200, Step: 21000, D Loss: 0.36191654205322266, G Loss: 3.529402256011963, Q Loss: 5.0528082847595215, Time: 2018-05-05 19:55:31\n",
      "Epoch: 47/200, Step: 22000, D Loss: 0.34481164813041687, G Loss: 3.5976603031158447, Q Loss: 5.045721054077148, Time: 2018-05-05 19:57:28\n",
      "Epoch: 49/200, Step: 23000, D Loss: 0.26041093468666077, G Loss: 2.682615280151367, Q Loss: 4.175515651702881, Time: 2018-05-05 19:57:53\n",
      "Epoch: 51/200, Step: 24000, D Loss: 0.37404945492744446, G Loss: 2.936443328857422, Q Loss: 4.414009094238281, Time: 2018-05-05 19:59:51\n",
      "Epoch: 53/200, Step: 25000, D Loss: 0.2633275091648102, G Loss: 3.470643997192383, Q Loss: 4.928657531738281, Time: 2018-05-05 20:00:16\n",
      "Epoch: 55/200, Step: 26000, D Loss: 0.3819361627101898, G Loss: 2.8732213973999023, Q Loss: 4.338116645812988, Time: 2018-05-05 20:01:33\n",
      "Epoch: 57/200, Step: 27000, D Loss: 0.3249199092388153, G Loss: 2.846627950668335, Q Loss: 4.290555000305176, Time: 2018-05-05 20:02:39\n",
      "Epoch: 59/200, Step: 28000, D Loss: 0.3609444499015808, G Loss: 3.114635944366455, Q Loss: 4.60159158706665, Time: 2018-05-05 20:03:03\n",
      "Epoch: 61/200, Step: 29000, D Loss: 0.4012563228607178, G Loss: 3.6448769569396973, Q Loss: 5.121261119842529, Time: 2018-05-05 20:05:01\n",
      "Epoch: 64/200, Step: 30000, D Loss: 0.3257409334182739, G Loss: 3.360978364944458, Q Loss: 4.822029113769531, Time: 2018-05-05 20:05:26\n",
      "Epoch: 66/200, Step: 31000, D Loss: 0.33932024240493774, G Loss: 3.3319625854492188, Q Loss: 4.811866760253906, Time: 2018-05-05 20:07:26\n",
      "Epoch: 68/200, Step: 32000, D Loss: 0.21659556031227112, G Loss: 3.1230177879333496, Q Loss: 4.605996131896973, Time: 2018-05-05 20:07:50\n",
      "Epoch: 70/200, Step: 33000, D Loss: 0.3903496563434601, G Loss: 4.451780319213867, Q Loss: 5.9139862060546875, Time: 2018-05-05 20:09:03\n",
      "Epoch: 72/200, Step: 34000, D Loss: 0.2345469892024994, G Loss: 3.3034842014312744, Q Loss: 4.786586284637451, Time: 2018-05-05 20:10:13\n",
      "Epoch: 74/200, Step: 35000, D Loss: 0.3412920832633972, G Loss: 3.6373634338378906, Q Loss: 5.1159491539001465, Time: 2018-05-05 20:10:38\n",
      "Epoch: 76/200, Step: 36000, D Loss: 0.18397511541843414, G Loss: 3.255157470703125, Q Loss: 4.731169700622559, Time: 2018-05-05 20:12:35\n",
      "Epoch: 79/200, Step: 37000, D Loss: 0.145782932639122, G Loss: 4.718683242797852, Q Loss: 6.163109302520752, Time: 2018-05-05 20:13:00\n",
      "Epoch: 81/200, Step: 38000, D Loss: 0.28161031007766724, G Loss: 4.898027420043945, Q Loss: 6.3471269607543945, Time: 2018-05-05 20:14:57\n",
      "Epoch: 83/200, Step: 39000, D Loss: 0.278846800327301, G Loss: 3.838620662689209, Q Loss: 5.285276889801025, Time: 2018-05-05 20:15:22\n",
      "Epoch: 85/200, Step: 40000, D Loss: 0.2921009659767151, G Loss: 3.3034424781799316, Q Loss: 4.765033721923828, Time: 2018-05-05 20:16:31\n",
      "Epoch: 87/200, Step: 41000, D Loss: 0.15897831320762634, G Loss: 3.813464403152466, Q Loss: 5.302363395690918, Time: 2018-05-05 20:17:45\n",
      "Epoch: 89/200, Step: 42000, D Loss: 0.209835022687912, G Loss: 3.4436044692993164, Q Loss: 4.88347053527832, Time: 2018-05-05 20:18:10\n",
      "Epoch: 91/200, Step: 43000, D Loss: 0.4357212781906128, G Loss: 5.821027755737305, Q Loss: 7.266417026519775, Time: 2018-05-05 20:20:08\n",
      "Epoch: 94/200, Step: 44000, D Loss: 0.14540314674377441, G Loss: 4.599456787109375, Q Loss: 6.075197219848633, Time: 2018-05-05 20:20:33\n",
      "Epoch: 96/200, Step: 45000, D Loss: 0.25038665533065796, G Loss: 3.7792434692382812, Q Loss: 5.254385948181152, Time: 2018-05-05 20:22:30\n",
      "Epoch: 98/200, Step: 46000, D Loss: 0.1842930167913437, G Loss: 4.120527744293213, Q Loss: 5.568233489990234, Time: 2018-05-05 20:22:55\n",
      "Epoch: 100/200, Step: 47000, D Loss: 0.25184839963912964, G Loss: 5.2413787841796875, Q Loss: 6.676495552062988, Time: 2018-05-05 20:23:59\n",
      "Epoch: 102/200, Step: 48000, D Loss: 0.180250346660614, G Loss: 3.9477953910827637, Q Loss: 5.406440258026123, Time: 2018-05-05 20:25:18\n",
      "Epoch: 104/200, Step: 49000, D Loss: 0.15829038619995117, G Loss: 5.563594818115234, Q Loss: 6.992403030395508, Time: 2018-05-05 20:25:43\n",
      "Epoch: 106/200, Step: 50000, D Loss: 0.17597348988056183, G Loss: 4.546335697174072, Q Loss: 5.994983673095703, Time: 2018-05-05 20:27:42\n",
      "Epoch: 108/200, Step: 51000, D Loss: 0.16603009402751923, G Loss: 5.224867343902588, Q Loss: 6.679120063781738, Time: 2018-05-05 20:28:06\n",
      "Epoch: 111/200, Step: 52000, D Loss: 0.10422281175851822, G Loss: 4.491456985473633, Q Loss: 5.984611511230469, Time: 2018-05-05 20:30:04\n",
      "Epoch: 113/200, Step: 53000, D Loss: 0.12192803621292114, G Loss: 4.287060737609863, Q Loss: 5.741971015930176, Time: 2018-05-05 20:30:29\n",
      "Epoch: 115/200, Step: 54000, D Loss: 0.1579684168100357, G Loss: 3.7952842712402344, Q Loss: 5.228765487670898, Time: 2018-05-05 20:31:29\n",
      "Epoch: 117/200, Step: 55000, D Loss: 0.19244077801704407, G Loss: 5.1914262771606445, Q Loss: 6.659775257110596, Time: 2018-05-05 20:32:51\n",
      "Epoch: 119/200, Step: 56000, D Loss: 0.27183058857917786, G Loss: 4.1183857917785645, Q Loss: 5.569522380828857, Time: 2018-05-05 20:33:16\n",
      "Epoch: 121/200, Step: 57000, D Loss: 0.1354580521583557, G Loss: 4.989733695983887, Q Loss: 6.455249309539795, Time: 2018-05-05 20:35:15\n",
      "Epoch: 123/200, Step: 58000, D Loss: 0.22256237268447876, G Loss: 5.681981086730957, Q Loss: 7.1217360496521, Time: 2018-05-05 20:35:39\n",
      "Epoch: 126/200, Step: 59000, D Loss: 0.14741568267345428, G Loss: 5.255537986755371, Q Loss: 6.672921180725098, Time: 2018-05-05 20:37:38\n",
      "Epoch: 128/200, Step: 60000, D Loss: 0.11740465462207794, G Loss: 4.6915178298950195, Q Loss: 6.1554951667785645, Time: 2018-05-05 20:38:03\n"
     ]
    },
    {
     "name": "stdout",
     "output_type": "stream",
     "text": [
      "Epoch: 130/200, Step: 61000, D Loss: 0.22682470083236694, G Loss: 4.091072082519531, Q Loss: 5.571869850158691, Time: 2018-05-05 20:38:59\n",
      "Epoch: 132/200, Step: 62000, D Loss: 0.13977500796318054, G Loss: 5.321469306945801, Q Loss: 6.768302917480469, Time: 2018-05-05 20:40:29\n",
      "Epoch: 134/200, Step: 63000, D Loss: 0.12810447812080383, G Loss: 5.937180995941162, Q Loss: 7.402705192565918, Time: 2018-05-05 20:40:53\n",
      "Epoch: 136/200, Step: 64000, D Loss: 0.19408255815505981, G Loss: 5.489245891571045, Q Loss: 6.945627212524414, Time: 2018-05-05 20:42:53\n",
      "Epoch: 138/200, Step: 65000, D Loss: 0.15603268146514893, G Loss: 5.0622878074646, Q Loss: 6.530234336853027, Time: 2018-05-05 20:43:18\n",
      "Epoch: 141/200, Step: 66000, D Loss: 0.18864531815052032, G Loss: 5.30040168762207, Q Loss: 6.7147650718688965, Time: 2018-05-05 20:45:16\n",
      "Epoch: 143/200, Step: 67000, D Loss: 0.1315631866455078, G Loss: 6.050332546234131, Q Loss: 7.509021759033203, Time: 2018-05-05 20:45:41\n",
      "Epoch: 145/200, Step: 68000, D Loss: 0.2263355702161789, G Loss: 4.897282600402832, Q Loss: 6.345466136932373, Time: 2018-05-05 20:46:33\n",
      "Epoch: 147/200, Step: 69000, D Loss: 0.2898719608783722, G Loss: 4.306859493255615, Q Loss: 5.781412601470947, Time: 2018-05-05 20:48:04\n",
      "Epoch: 149/200, Step: 70000, D Loss: 0.12073177844285965, G Loss: 4.493406295776367, Q Loss: 5.946254730224609, Time: 2018-05-05 20:48:29\n",
      "Epoch: 151/200, Step: 71000, D Loss: 0.1337706446647644, G Loss: 5.648816108703613, Q Loss: 7.088446617126465, Time: 2018-05-05 20:50:27\n",
      "Epoch: 153/200, Step: 72000, D Loss: 0.17770537734031677, G Loss: 5.637709140777588, Q Loss: 7.078378200531006, Time: 2018-05-05 20:50:51\n",
      "Epoch: 155/200, Step: 73000, D Loss: 0.35013842582702637, G Loss: 4.727227687835693, Q Loss: 6.188772678375244, Time: 2018-05-05 20:52:47\n",
      "Epoch: 158/200, Step: 74000, D Loss: 0.2159644216299057, G Loss: 4.240058898925781, Q Loss: 5.686642169952393, Time: 2018-05-05 20:53:14\n",
      "Epoch: 160/200, Step: 75000, D Loss: 0.13844171166419983, G Loss: 5.518153190612793, Q Loss: 6.982666015625, Time: 2018-05-05 20:54:02\n",
      "Epoch: 162/200, Step: 76000, D Loss: 0.12554994225502014, G Loss: 5.617964267730713, Q Loss: 7.084892749786377, Time: 2018-05-05 20:55:36\n",
      "Epoch: 164/200, Step: 77000, D Loss: 0.1453327089548111, G Loss: 5.088271141052246, Q Loss: 6.517178535461426, Time: 2018-05-05 20:56:01\n",
      "Epoch: 166/200, Step: 78000, D Loss: 0.11288636177778244, G Loss: 5.595117568969727, Q Loss: 7.021124362945557, Time: 2018-05-05 20:57:59\n",
      "Epoch: 168/200, Step: 79000, D Loss: 0.12973889708518982, G Loss: 5.807324409484863, Q Loss: 7.254178524017334, Time: 2018-05-05 20:58:24\n",
      "Epoch: 170/200, Step: 80000, D Loss: 0.15150287747383118, G Loss: 5.7837724685668945, Q Loss: 7.227630138397217, Time: 2018-05-05 21:00:16\n",
      "Epoch: 173/200, Step: 81000, D Loss: 0.04790807142853737, G Loss: 6.416250228881836, Q Loss: 7.844350337982178, Time: 2018-05-05 21:00:47\n",
      "Epoch: 175/200, Step: 82000, D Loss: 0.11483080685138702, G Loss: 5.986275672912598, Q Loss: 7.418560028076172, Time: 2018-05-05 21:01:32\n",
      "Epoch: 177/200, Step: 83000, D Loss: 0.17131420969963074, G Loss: 6.696157455444336, Q Loss: 8.139029502868652, Time: 2018-05-05 21:03:10\n",
      "Epoch: 179/200, Step: 84000, D Loss: 0.11309130489826202, G Loss: 5.451635837554932, Q Loss: 6.896932125091553, Time: 2018-05-05 21:03:34\n",
      "Epoch: 181/200, Step: 85000, D Loss: 0.3093680143356323, G Loss: 4.905205726623535, Q Loss: 6.34299898147583, Time: 2018-05-05 21:05:32\n",
      "Epoch: 183/200, Step: 86000, D Loss: 0.15201517939567566, G Loss: 5.553977966308594, Q Loss: 7.044052600860596, Time: 2018-05-05 21:05:56\n",
      "Epoch: 185/200, Step: 87000, D Loss: 0.09983379393815994, G Loss: 6.541373252868652, Q Loss: 7.97838020324707, Time: 2018-05-05 21:07:44\n",
      "Epoch: 188/200, Step: 88000, D Loss: 0.08470243215560913, G Loss: 5.566253185272217, Q Loss: 7.016882419586182, Time: 2018-05-05 21:08:18\n",
      "Epoch: 190/200, Step: 89000, D Loss: 0.0698627233505249, G Loss: 6.663608074188232, Q Loss: 8.111780166625977, Time: 2018-05-05 21:08:59\n",
      "Epoch: 192/200, Step: 90000, D Loss: 0.08473005145788193, G Loss: 6.132242202758789, Q Loss: 7.572262287139893, Time: 2018-05-05 21:10:41\n",
      "Epoch: 194/200, Step: 91000, D Loss: 0.0924898087978363, G Loss: 6.227427959442139, Q Loss: 7.681253433227539, Time: 2018-05-05 21:11:06\n",
      "Epoch: 196/200, Step: 92000, D Loss: 0.12982520461082458, G Loss: 6.870656490325928, Q Loss: 8.335701942443848, Time: 2018-05-05 21:13:05\n",
      "Epoch: 198/200, Step: 93000, D Loss: 0.05602467060089111, G Loss: 5.604537010192871, Q Loss: 7.028090953826904, Time: 2018-05-05 21:13:29\n"
     ]
    }
   ],
   "source": [
    "for epoch in range(max_epoch):\n",
    "    for idx, (images, labels) in enumerate(data_loader):\n",
    "        step += 1\n",
    "        labels = labels.view(batch_size, 1)\n",
    "        # Training Discriminator\n",
    "        x = to_cuda_var(images)\n",
    "        x_outputs, _, = D(x)\n",
    "        D_x_loss = bce_loss(x_outputs, D_labels)\n",
    "\n",
    "        z, c = sample_noise(batch_size, n_noise, n_c_discrete, n_c_continuous, label=labels, supervised=True)\n",
    "        z_outputs, _, = D(G(z, c))\n",
    "        D_z_loss = bce_loss(z_outputs, D_fakes)\n",
    "        D_loss = D_x_loss + D_z_loss\n",
    "        \n",
    "        D_opt.zero_grad()\n",
    "        D_loss.backward()\n",
    "        D_opt.step()\n",
    "\n",
    "        if step > 500:\n",
    "            # Training Generator\n",
    "            z, c = sample_noise(batch_size, n_noise, n_c_discrete, n_c_continuous, label=labels, supervised=True)\n",
    "            c_discrete_label = torch.max(c[:, :-2], 1)[1].view(-1, 1)\n",
    "            \n",
    "            z_outputs, features = D(G(z, c)) # (B,1), (B,10), (B,4)\n",
    "            c_discrete_out, cc_mu, cc_var = Q(features)\n",
    "            \n",
    "            G_loss = bce_loss(z_outputs, D_labels)\n",
    "            Q_loss_discrete = ce_loss(c_discrete_out, c_discrete_label.view(-1))\n",
    "            Q_loss_continuous = -torch.mean(torch.sum(log_gaussian(c[:, -2:], cc_mu, cc_var), 1)) # N(x | mu,var) -> (B, 2) -> (,1)\n",
    "\n",
    "            GnQ_loss = G_loss + Q_loss_discrete + Q_loss_continuous*0.1\n",
    "\n",
    "            G_opt.zero_grad()\n",
    "            GnQ_loss.backward()\n",
    "            G_opt.step()\n",
    "        \n",
    "        if step % 1000 == 0:\n",
    "            print('Epoch: {}/{}, Step: {}, D Loss: {}, G Loss: {}, DnQ Loss: {}, Time: {}'\\\n",
    "                  .format(epoch, max_epoch, step, D_loss.data[0], G_loss.data[0], GnQ_loss.data[0], str(datetime.datetime.today())[:-7]))\n",
    "            \n",
    "        if epoch % 5 == 0:\n",
    "            G.eval()\n",
    "            img1, img2, img3 = get_sample_image()\n",
    "            scipy.misc.imsave('sample2/epoch_{}_type1.jpg'.format(epoch), img1)\n",
    "            scipy.misc.imsave('sample2/epoch_{}_type2.jpg'.format(epoch), img2)\n",
    "            scipy.misc.imsave('sample2/epoch_{}_type3.jpg'.format(epoch), img3)\n",
    "            G.train()"
   ]
  },
  {
   "cell_type": "code",
   "execution_count": null,
   "metadata": {
    "collapsed": true
   },
   "outputs": [],
   "source": []
  },
  {
   "cell_type": "markdown",
   "metadata": {},
   "source": [
    "# Sample"
   ]
  },
  {
   "cell_type": "code",
   "execution_count": 24,
   "metadata": {
    "scrolled": false
   },
   "outputs": [
    {
     "name": "stderr",
     "output_type": "stream",
     "text": [
      "/home/yangyangii/anaconda3/lib/python3.6/site-packages/ipykernel_launcher.py:3: DeprecationWarning: `toimage` is deprecated!\n",
      "`toimage` is deprecated in SciPy 1.0.0, and will be removed in 1.2.0.\n",
      "Use Pillow's ``Image.fromarray`` directly instead.\n",
      "  This is separate from the ipykernel package so we can avoid doing imports until\n"
     ]
    },
    {
     "data": {
      "image/png": "[encoded data removed]",
      "text/plain": [
       "<PIL.Image.Image image mode=L size=280x280 at 0x7F94F0D12E80>"
      ]
     },
     "execution_count": 24,
     "metadata": {},
     "output_type": "execute_result"
    }
   ],
   "source": [
    "# generation to image\n",
    "G.eval()\n",
    "scipy.misc.toimage(get_sample_image()[0])"
   ]
  },
  {
   "cell_type": "code",
   "execution_count": 25,
   "metadata": {},
   "outputs": [
    {
     "name": "stderr",
     "output_type": "stream",
     "text": [
      "/home/yangyangii/anaconda3/lib/python3.6/site-packages/ipykernel_launcher.py:1: DeprecationWarning: `toimage` is deprecated!\n",
      "`toimage` is deprecated in SciPy 1.0.0, and will be removed in 1.2.0.\n",
      "Use Pillow's ``Image.fromarray`` directly instead.\n",
      "  \"\"\"Entry point for launching an IPython kernel.\n"
     ]
    },
    {
     "data": {
      "image/png": "[encoded data removed]",
      "text/plain": [
       "<PIL.Image.Image image mode=L size=280x280 at 0x7F94F0D12400>"
      ]
     },
     "execution_count": 25,
     "metadata": {},
     "output_type": "execute_result"
    }
   ],
   "source": [
    "scipy.misc.toimage(get_sample_image()[1])"
   ]
  },
  {
   "cell_type": "code",
   "execution_count": null,
   "metadata": {
    "collapsed": true
   },
   "outputs": [],
   "source": []
  },
  {
   "cell_type": "code",
   "execution_count": null,
   "metadata": {
    "collapsed": true
   },
   "outputs": [],
   "source": []
  },
  {
   "cell_type": "code",
   "execution_count": 81,
   "metadata": {
    "collapsed": true
   },
   "outputs": [],
   "source": [
    "def save_checkpoint(state, file_name='checkpoint.pth.tar'):\n",
    "    torch.save(state, file_name)"
   ]
  },
  {
   "cell_type": "code",
   "execution_count": 82,
   "metadata": {
    "collapsed": true
   },
   "outputs": [],
   "source": [
    "# Saving params.\n",
    "# torch.save(D.state_dict(), 'D_c.pkl')\n",
    "# torch.save(G.state_dict(), 'G_c.pkl')\n",
    "save_checkpoint({'epoch': epoch + 1, 'state_dict':DnQ.state_dict(), 'optimizer' : DnQ_opt.state_dict()}, 'DnQ_info.pth.tar')\n",
    "save_checkpoint({'epoch': epoch + 1, 'state_dict':G.state_dict(), 'optimizer' : G_opt.state_dict()}, 'G_info.pth.tar')"
   ]
  }
 ],
 "metadata": {
  "kernelspec": {
   "display_name": "Python 3",
   "language": "python",
   "name": "python3"
  },
  "language_info": {
   "codemirror_mode": {
    "name": "ipython",
    "version": 3
   },
   "file_extension": ".py",
   "mimetype": "text/x-python",
   "name": "python",
   "nbconvert_exporter": "python",
   "pygments_lexer": "ipython3",
   "version": "3.6.1"
  }
 },
 "nbformat": 4,
 "nbformat_minor": 2
}
