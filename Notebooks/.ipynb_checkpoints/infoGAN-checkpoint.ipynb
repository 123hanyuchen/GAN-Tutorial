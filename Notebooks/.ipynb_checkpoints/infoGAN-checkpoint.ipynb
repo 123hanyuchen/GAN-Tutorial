{
 "cells": [
  {
   "cell_type": "markdown",
   "metadata": {},
   "source": [
    "# Implementation of infoGANs\n",
    "Reference: https://arxiv.org/pdf/1606.03657.pdf"
   ]
  },
  {
   "cell_type": "code",
   "execution_count": 1,
   "metadata": {},
   "outputs": [],
   "source": [
    "import torch\n",
    "import torchvision\n",
    "import torch.nn as nn\n",
    "import torch.nn.functional as F"
   ]
  },
  {
   "cell_type": "code",
   "execution_count": 2,
   "metadata": {},
   "outputs": [],
   "source": [
    "from torch.utils.data import DataLoader\n",
    "from torchvision import datasets\n",
    "from torchvision import transforms\n",
    "from torchvision.utils import save_image"
   ]
  },
  {
   "cell_type": "code",
   "execution_count": 3,
   "metadata": {},
   "outputs": [],
   "source": [
    "import numpy as np\n",
    "import datetime\n",
    "import scipy.misc"
   ]
  },
  {
   "cell_type": "code",
   "execution_count": 4,
   "metadata": {},
   "outputs": [],
   "source": [
    "from tensorboardX import SummaryWriter"
   ]
  },
  {
   "cell_type": "code",
   "execution_count": 5,
   "metadata": {},
   "outputs": [],
   "source": [
    "MODEL_NAME = 'infoGAN'\n",
    "DEVICE = torch.device('cuda' if torch.cuda.is_available() else 'cpu')"
   ]
  },
  {
   "cell_type": "code",
   "execution_count": 6,
   "metadata": {},
   "outputs": [],
   "source": [
    "def get_sample_image():\n",
    "    \"\"\"\n",
    "        save sample 100 images\n",
    "    \"\"\"\n",
    "    images = []\n",
    "    # continuous code\n",
    "    for cc_type in range(2):\n",
    "        for num in range(10):\n",
    "            fix_z = torch.randn(1, n_noise)\n",
    "            z = to_cuda(fix_z)\n",
    "            cc = -1\n",
    "            for i in range(10):\n",
    "                cc += 0.2\n",
    "                c_discrete = to_cuda(to_onehot(num)) # (B,10)\n",
    "                c_continuous = to_cuda(torch.zeros(1, n_c_continuous))\n",
    "                c_continuous.data[:,cc_type].add_(cc)\n",
    "                c = torch.cat((c_discrete.float(), c_continuous), 1)\n",
    "                y_hat = G(z, c)\n",
    "                line_img = torch.cat((line_img, y_hat.view(28, 28)), dim=1) if i > 0 else y_hat.view(28, 28)\n",
    "            all_img = torch.cat((all_img, line_img), dim=0) if num > 0 else line_img\n",
    "        img = all_img.cpu().data.numpy()\n",
    "        images.append(img)\n",
    "    # discrete code\n",
    "    for num in range(10):\n",
    "        c_discrete = to_cuda(to_onehot(num)) # (B,10)\n",
    "        for i in range(10):\n",
    "            z = to_cuda(torch.randn(1, n_noise))\n",
    "            c_continuous = to_cuda(torch.zeros(1, n_c_continuous))\n",
    "            c = torch.cat((c_discrete.float(), c_continuous), 1)\n",
    "            y_hat = G(z, c)\n",
    "            line_img = torch.cat((line_img, y_hat.view(28, 28)), dim=1) if i > 0 else y_hat.view(28, 28)\n",
    "        all_img = torch.cat((all_img, line_img), dim=0) if num > 0 else line_img\n",
    "    img = all_img.cpu().data.numpy()\n",
    "    images.append(img)\n",
    "    return images[0], images[1], images[2]"
   ]
  },
  {
   "cell_type": "code",
   "execution_count": 7,
   "metadata": {},
   "outputs": [],
   "source": [
    "def to_cuda(x):\n",
    "    return x.to(DEVICE)"
   ]
  },
  {
   "cell_type": "code",
   "execution_count": 8,
   "metadata": {},
   "outputs": [],
   "source": [
    "def to_onehot(x, num_classes=10):\n",
    "    assert isinstance(x, int) or isinstance(x, (torch.LongTensor, torch.cuda.LongTensor))\n",
    "    if isinstance(x, int):\n",
    "        c = torch.zeros(1, num_classes).long()\n",
    "        c[0][x] = 1\n",
    "    else:\n",
    "        x = x.cpu()\n",
    "        c = torch.LongTensor(x.size(0), num_classes)\n",
    "        c.zero_()\n",
    "        c.scatter_(1, x, 1) # dim, index, src value\n",
    "    return c"
   ]
  },
  {
   "cell_type": "code",
   "execution_count": 9,
   "metadata": {},
   "outputs": [],
   "source": [
    "def sample_noise(batch_size, n_noise, n_c_discrete, n_c_continuous, label=None, supervised=False):\n",
    "    z = to_cuda(torch.randn(batch_size, n_noise))\n",
    "    if supervised:\n",
    "        c_discrete = to_cuda(to_onehot(label)) # (B,10)\n",
    "    else:\n",
    "        c_discrete = to_cuda(to_onehot(torch.LongTensor(batch_size, 1).random_(0, n_c_discrete))) # (B,10)\n",
    "    c_continuous = to_cuda(torch.zeros(batch_size, n_c_continuous).uniform_(-1, 1)) # (B,2)\n",
    "    c = torch.cat((c_discrete.float(), c_continuous), 1)\n",
    "    return z, c"
   ]
  },
  {
   "cell_type": "code",
   "execution_count": 10,
   "metadata": {},
   "outputs": [],
   "source": [
    "def log_gaussian(c, mu, var):\n",
    "    \"\"\"\n",
    "        criterion for Q(condition classifier)\n",
    "    \"\"\"\n",
    "    return -((c - mu)**2)/(2*var+1e-8) - 0.5*torch.log(2*np.pi*var+1e-8)"
   ]
  },
  {
   "cell_type": "code",
   "execution_count": 11,
   "metadata": {},
   "outputs": [],
   "source": [
    "class Discriminator(nn.Module):\n",
    "    \"\"\"\n",
    "        Convolutional Discriminator for MNIST\n",
    "    \"\"\"\n",
    "    def __init__(self, in_channel=1):\n",
    "        super(Discriminator, self).__init__()\n",
    "        self.layer1 = nn.Sequential(# 28 -> 14\n",
    "            nn.Conv2d(in_channel, 64, 3, stride=2, padding=1, bias=False),\n",
    "            nn.BatchNorm2d(64),\n",
    "            nn.LeakyReLU(0.1),\n",
    "        )\n",
    "        self.layer2 = nn.Sequential(# 14 -> 7\n",
    "            nn.Conv2d(64, 128, 3, stride=2, padding=1, bias=False),\n",
    "            nn.BatchNorm2d(128),\n",
    "            nn.LeakyReLU(0.1),\n",
    "        )\n",
    "        self.layer3 = nn.Sequential(#\n",
    "            nn.Linear(128*7*7, 1024),\n",
    "            nn.BatchNorm1d(1024),\n",
    "            nn.LeakyReLU(0.1),\n",
    "        )\n",
    "        self.fc = nn.Sequential(\n",
    "            nn.Linear(1024, 1),\n",
    "            nn.Sigmoid(),\n",
    "        )\n",
    "    \n",
    "    def forward(self, x):\n",
    "        y_ = self.layer1(x)\n",
    "        y_ = self.layer2(y_)\n",
    "        y_ = y_.view(y_.size(0), -1)\n",
    "        y_ = self.layer3(y_)\n",
    "        d = self.fc(y_) # Real / Fake        \n",
    "        return d, y_ # return with top layer features for Q"
   ]
  },
  {
   "cell_type": "code",
   "execution_count": 12,
   "metadata": {},
   "outputs": [],
   "source": [
    "class Qrator(nn.Module):\n",
    "    \"\"\"\n",
    "        Regularization Network for increasing Mutual Information\n",
    "    \"\"\"\n",
    "    def __init__(self):\n",
    "        super(Qrator, self).__init__()\n",
    "        self.fc = nn.Sequential(\n",
    "            nn.Linear(1024, 128),\n",
    "            nn.BatchNorm1d(128),\n",
    "            nn.LeakyReLU(0.1),\n",
    "            nn.Linear(128, 14),\n",
    "        )\n",
    "        \n",
    "    def forward(self, x):\n",
    "        # Seperate code\n",
    "        c = self.fc(x)\n",
    "        c_discrete = F.softmax(c[:, :10]) # Digit Label {0~9}\n",
    "        c_mu = c[:, 10:12] # mu & var of Rotation & Thickness\n",
    "        c_var = c[:, 12:14].exp() # mu & var of Rotation & Thickness\n",
    "        return c_discrete, c_mu, c_var"
   ]
  },
  {
   "cell_type": "code",
   "execution_count": 13,
   "metadata": {},
   "outputs": [],
   "source": [
    "class Generator(nn.Module):\n",
    "    \"\"\"\n",
    "        Convolutional Generator for MNIST\n",
    "    \"\"\"\n",
    "    def __init__(self, input_size=62, code_size=12, num_classes=784):\n",
    "        super(Generator, self).__init__()\n",
    "        self.layer1 = nn.Sequential(\n",
    "            nn.Linear(input_size+code_size, 1024),\n",
    "            nn.BatchNorm1d(1024),\n",
    "            nn.ReLU(),\n",
    "        )\n",
    "        self.layer2 = nn.Sequential(\n",
    "            nn.Linear(1024, 7*7*128),\n",
    "            nn.BatchNorm1d(7*7*128),\n",
    "            nn.ReLU(),\n",
    "        )\n",
    "        self.layer3 = nn.Sequential(# input: 7 by 7, output: 14 by 14\n",
    "            nn.ConvTranspose2d(128, 64, 4, stride=2, padding=1, bias=False),\n",
    "            nn.BatchNorm2d(64),\n",
    "            nn.ReLU(),\n",
    "        )\n",
    "        self.layer4 = nn.Sequential(# input: 14 by 14, output: 28 by 28\n",
    "            nn.ConvTranspose2d(64, 1, 4, stride=2, padding=1, bias=False),\n",
    "            nn.Tanh(),\n",
    "        )\n",
    "        \n",
    "    def forward(self, z, c):\n",
    "        z = z.view(z.size(0), -1)\n",
    "        c = c.view(c.size(0), -1)\n",
    "        noise = torch.cat((z, c), 1)\n",
    "#         print(noise.size())\n",
    "        x_ = self.layer1(noise)\n",
    "        x_ = self.layer2(x_)\n",
    "        x_ = x_.view(x_.size(0), 128, 7, 7)\n",
    "        x_ = self.layer3(x_)\n",
    "        x_ = self.layer4(x_)\n",
    "        return x_"
   ]
  },
  {
   "cell_type": "code",
   "execution_count": 14,
   "metadata": {},
   "outputs": [],
   "source": [
    "D = to_cuda(Discriminator())\n",
    "G = to_cuda(Generator())\n",
    "Q = to_cuda(Qrator())\n",
    "# D.load_state_dict('D_dc.pkl')\n",
    "# G.load_state_dict('G_dc.pkl')"
   ]
  },
  {
   "cell_type": "code",
   "execution_count": 15,
   "metadata": {},
   "outputs": [],
   "source": [
    "transform = transforms.Compose([transforms.ToTensor(),\n",
    "                                transforms.Normalize(mean=(0.5, 0.5, 0.5),\n",
    "                                std=(0.5, 0.5, 0.5))]\n",
    ")"
   ]
  },
  {
   "cell_type": "code",
   "execution_count": 16,
   "metadata": {},
   "outputs": [],
   "source": [
    "mnist = datasets.MNIST(root='../data/', train=True, transform=transform, download=True)"
   ]
  },
  {
   "cell_type": "code",
   "execution_count": 17,
   "metadata": {},
   "outputs": [],
   "source": [
    "batch_size = 128"
   ]
  },
  {
   "cell_type": "code",
   "execution_count": 18,
   "metadata": {},
   "outputs": [],
   "source": [
    "data_loader = DataLoader(dataset=mnist, batch_size=batch_size, shuffle=True, drop_last=True)"
   ]
  },
  {
   "cell_type": "code",
   "execution_count": 19,
   "metadata": {},
   "outputs": [],
   "source": [
    "bce_loss = nn.BCELoss()\n",
    "ce_loss = nn.CrossEntropyLoss()\n",
    "\n",
    "D_opt = torch.optim.Adam(D.parameters(), lr=2e-4, betas=(0.5, 0.99))\n",
    "G_opt = torch.optim.Adam([{'params':G.parameters()}, {'params':Q.parameters()}], lr=1e-3, betas=(0.5, 0.99))"
   ]
  },
  {
   "cell_type": "code",
   "execution_count": 20,
   "metadata": {},
   "outputs": [],
   "source": [
    "max_epoch = 200 # need more than 200 epochs for training generator\n",
    "step = 0\n",
    "n_critic = 1 # for training more k steps about Discriminator\n",
    "n_noise = 62\n",
    "n_c_discrete, n_c_continuous = 10, 2\n",
    "\n",
    "D_labels = to_cuda(torch.ones(batch_size)) # Discriminator Label to real\n",
    "D_fakes = to_cuda(torch.zeros(batch_size)) # Discriminator Label to fake"
   ]
  },
  {
   "cell_type": "code",
   "execution_count": 21,
   "metadata": {},
   "outputs": [],
   "source": [
    "writer = SummaryWriter()"
   ]
  },
  {
   "cell_type": "code",
   "execution_count": 22,
   "metadata": {
    "scrolled": true
   },
   "outputs": [
    {
     "name": "stderr",
     "output_type": "stream",
     "text": [
      "/home/ubuntu/anaconda3/envs/pytorch_p36/lib/python3.6/site-packages/torch/nn/functional.py:1474: UserWarning: Using a target size (torch.Size([128])) that is different to the input size (torch.Size([128, 1])) is deprecated. Please ensure they have the same size.\n",
      "  \"Please ensure they have the same size.\".format(target.size(), input.size()))\n",
      "/home/ubuntu/anaconda3/envs/pytorch_p36/lib/python3.6/site-packages/ipykernel/__main__.py:52: DeprecationWarning: `imsave` is deprecated!\n",
      "`imsave` is deprecated in SciPy 1.0.0, and will be removed in 1.2.0.\n",
      "Use ``imageio.imwrite`` instead.\n",
      "/home/ubuntu/anaconda3/envs/pytorch_p36/lib/python3.6/site-packages/ipykernel/__main__.py:53: DeprecationWarning: `imsave` is deprecated!\n",
      "`imsave` is deprecated in SciPy 1.0.0, and will be removed in 1.2.0.\n",
      "Use ``imageio.imwrite`` instead.\n",
      "/home/ubuntu/anaconda3/envs/pytorch_p36/lib/python3.6/site-packages/ipykernel/__main__.py:54: DeprecationWarning: `imsave` is deprecated!\n",
      "`imsave` is deprecated in SciPy 1.0.0, and will be removed in 1.2.0.\n",
      "Use ``imageio.imwrite`` instead.\n",
      "/home/ubuntu/anaconda3/envs/pytorch_p36/lib/python3.6/site-packages/ipykernel/__main__.py:17: UserWarning: Implicit dimension choice for softmax has been deprecated. Change the call to include dim=X as an argument.\n",
      "/home/ubuntu/anaconda3/envs/pytorch_p36/lib/python3.6/site-packages/ipykernel/__main__.py:47: UserWarning: invalid index of a 0-dim tensor. This will be an error in PyTorch 0.5. Use tensor.item() to convert a 0-dim tensor to a Python number\n"
     ]
    },
    {
     "name": "stdout",
     "output_type": "stream",
     "text": [
      "Epoch: 2/200, Step: 1000, D Loss: 0.5892293453216553, G Loss: 1.9682375192642212, DnQ Loss: 4.170025825500488, Time: 2018-07-26 09:59:46\n",
      "Epoch: 4/200, Step: 2000, D Loss: 0.708458423614502, G Loss: 1.4690847396850586, DnQ Loss: 3.3633322715759277, Time: 2018-07-26 10:00:46\n",
      "Epoch: 6/200, Step: 3000, D Loss: 0.6872333884239197, G Loss: 1.845062255859375, DnQ Loss: 3.4502015113830566, Time: 2018-07-26 10:03:30\n",
      "Epoch: 8/200, Step: 4000, D Loss: 0.830052375793457, G Loss: 1.6734484434127808, DnQ Loss: 3.3200511932373047, Time: 2018-07-26 10:04:31\n",
      "Epoch: 10/200, Step: 5000, D Loss: 0.5874881744384766, G Loss: 1.6532411575317383, DnQ Loss: 3.2790403366088867, Time: 2018-07-26 10:06:42\n",
      "Epoch: 12/200, Step: 6000, D Loss: 0.5144498944282532, G Loss: 1.9863836765289307, DnQ Loss: 3.6047587394714355, Time: 2018-07-26 10:08:16\n",
      "Epoch: 14/200, Step: 7000, D Loss: 0.5166445374488831, G Loss: 2.0501909255981445, DnQ Loss: 3.666076183319092, Time: 2018-07-26 10:09:16\n",
      "Epoch: 17/200, Step: 8000, D Loss: 0.7232256531715393, G Loss: 1.8520524501800537, DnQ Loss: 3.4613075256347656, Time: 2018-07-26 10:12:01\n",
      "Epoch: 19/200, Step: 9000, D Loss: 0.38806599378585815, G Loss: 1.9545485973358154, DnQ Loss: 3.555298328399658, Time: 2018-07-26 10:13:01\n",
      "Epoch: 21/200, Step: 10000, D Loss: 0.38737136125564575, G Loss: 2.47236967086792, DnQ Loss: 4.084980487823486, Time: 2018-07-26 10:15:44\n",
      "Epoch: 23/200, Step: 11000, D Loss: 0.3878263235092163, G Loss: 2.6117966175079346, DnQ Loss: 4.205841064453125, Time: 2018-07-26 10:16:45\n",
      "Epoch: 25/200, Step: 12000, D Loss: 0.31315162777900696, G Loss: 2.7067923545837402, DnQ Loss: 4.294432163238525, Time: 2018-07-26 10:18:51\n",
      "Epoch: 27/200, Step: 13000, D Loss: 0.3600426912307739, G Loss: 2.795471668243408, DnQ Loss: 4.42520809173584, Time: 2018-07-26 10:20:28\n",
      "Epoch: 29/200, Step: 14000, D Loss: 0.4449305236339569, G Loss: 2.330098867416382, DnQ Loss: 3.905961036682129, Time: 2018-07-26 10:21:28\n",
      "Epoch: 32/200, Step: 15000, D Loss: 0.4535546898841858, G Loss: 3.014770030975342, DnQ Loss: 4.637598514556885, Time: 2018-07-26 10:24:11\n",
      "Epoch: 34/200, Step: 16000, D Loss: 0.39490997791290283, G Loss: 2.7346549034118652, DnQ Loss: 4.3527679443359375, Time: 2018-07-26 10:25:11\n",
      "Epoch: 36/200, Step: 17000, D Loss: 0.31511467695236206, G Loss: 2.510228395462036, DnQ Loss: 4.142974853515625, Time: 2018-07-26 10:27:53\n",
      "Epoch: 38/200, Step: 18000, D Loss: 0.32230427861213684, G Loss: 3.013399839401245, DnQ Loss: 4.631993293762207, Time: 2018-07-26 10:28:54\n",
      "Epoch: 40/200, Step: 19000, D Loss: 0.28438904881477356, G Loss: 2.6448233127593994, DnQ Loss: 4.233609199523926, Time: 2018-07-26 10:30:55\n",
      "Epoch: 42/200, Step: 20000, D Loss: 0.28809791803359985, G Loss: 3.2395734786987305, DnQ Loss: 4.8783345222473145, Time: 2018-07-26 10:32:36\n",
      "Epoch: 44/200, Step: 21000, D Loss: 0.16820316016674042, G Loss: 3.31142258644104, DnQ Loss: 4.937121391296387, Time: 2018-07-26 10:33:37\n",
      "Epoch: 47/200, Step: 22000, D Loss: 0.3699856698513031, G Loss: 3.4723808765411377, DnQ Loss: 5.073979377746582, Time: 2018-07-26 10:36:19\n",
      "Epoch: 49/200, Step: 23000, D Loss: 0.17416080832481384, G Loss: 3.8589181900024414, DnQ Loss: 5.434059143066406, Time: 2018-07-26 10:37:19\n",
      "Epoch: 51/200, Step: 24000, D Loss: 0.21121585369110107, G Loss: 4.342646598815918, DnQ Loss: 5.951751232147217, Time: 2018-07-26 10:40:02\n",
      "Epoch: 53/200, Step: 25000, D Loss: 0.2752082943916321, G Loss: 3.727207660675049, DnQ Loss: 5.330127239227295, Time: 2018-07-26 10:41:02\n",
      "Epoch: 55/200, Step: 26000, D Loss: 0.40805482864379883, G Loss: 3.085566759109497, DnQ Loss: 4.678311347961426, Time: 2018-07-26 10:42:59\n",
      "Epoch: 57/200, Step: 27000, D Loss: 0.27158188819885254, G Loss: 3.4737701416015625, DnQ Loss: 5.04591703414917, Time: 2018-07-26 10:44:44\n",
      "Epoch: 59/200, Step: 28000, D Loss: 0.14124198257923126, G Loss: 3.8034322261810303, DnQ Loss: 5.381387710571289, Time: 2018-07-26 10:45:45\n",
      "Epoch: 61/200, Step: 29000, D Loss: 0.23578187823295593, G Loss: 3.0574393272399902, DnQ Loss: 4.586233139038086, Time: 2018-07-26 10:48:27\n",
      "Epoch: 64/200, Step: 30000, D Loss: 0.30749356746673584, G Loss: 4.742072582244873, DnQ Loss: 6.34334135055542, Time: 2018-07-26 10:49:27\n",
      "Epoch: 66/200, Step: 31000, D Loss: 0.17006409168243408, G Loss: 3.7509193420410156, DnQ Loss: 5.3504958152771, Time: 2018-07-26 10:52:10\n",
      "Epoch: 68/200, Step: 32000, D Loss: 0.135118305683136, G Loss: 3.434586524963379, DnQ Loss: 4.9943037033081055, Time: 2018-07-26 10:53:10\n",
      "Epoch: 70/200, Step: 33000, D Loss: 0.19349724054336548, G Loss: 4.507892608642578, DnQ Loss: 6.082639694213867, Time: 2018-07-26 10:55:03\n",
      "Epoch: 72/200, Step: 34000, D Loss: 0.15949536859989166, G Loss: 3.784757614135742, DnQ Loss: 5.294369697570801, Time: 2018-07-26 10:56:53\n",
      "Epoch: 74/200, Step: 35000, D Loss: 0.35264265537261963, G Loss: 3.191781520843506, DnQ Loss: 4.778092384338379, Time: 2018-07-26 10:57:53\n",
      "Epoch: 76/200, Step: 36000, D Loss: 0.13245098292827606, G Loss: 5.148659706115723, DnQ Loss: 6.762896537780762, Time: 2018-07-26 11:00:35\n",
      "Epoch: 79/200, Step: 37000, D Loss: 0.17761139571666718, G Loss: 4.519185543060303, DnQ Loss: 6.092964172363281, Time: 2018-07-26 11:01:36\n",
      "Epoch: 81/200, Step: 38000, D Loss: 0.12354463338851929, G Loss: 4.209667682647705, DnQ Loss: 5.790190696716309, Time: 2018-07-26 11:04:18\n",
      "Epoch: 83/200, Step: 39000, D Loss: 0.12389959394931793, G Loss: 4.967517852783203, DnQ Loss: 6.506527900695801, Time: 2018-07-26 11:05:19\n",
      "Epoch: 85/200, Step: 40000, D Loss: 0.11769548058509827, G Loss: 4.654539585113525, DnQ Loss: 6.218760013580322, Time: 2018-07-26 11:07:07\n",
      "Epoch: 87/200, Step: 41000, D Loss: 0.17766264081001282, G Loss: 5.433535099029541, DnQ Loss: 7.013236045837402, Time: 2018-07-26 11:09:01\n",
      "Epoch: 89/200, Step: 42000, D Loss: 0.12965495884418488, G Loss: 5.064608573913574, DnQ Loss: 6.655802249908447, Time: 2018-07-26 11:10:02\n",
      "Epoch: 91/200, Step: 43000, D Loss: 0.4076714515686035, G Loss: 2.079008102416992, DnQ Loss: 3.726595401763916, Time: 2018-07-26 11:12:44\n"
     ]
    },
    {
     "ename": "KeyboardInterrupt",
     "evalue": "",
     "output_type": "error",
     "traceback": [
      "\u001b[0;31m---------------------------------------------------------------------------\u001b[0m",
      "\u001b[0;31mKeyboardInterrupt\u001b[0m                         Traceback (most recent call last)",
      "\u001b[0;32m<ipython-input-22-ad2b4a265cdb>\u001b[0m in \u001b[0;36m<module>\u001b[0;34m()\u001b[0m\n\u001b[1;32m      8\u001b[0m         \u001b[0mD_x_loss\u001b[0m \u001b[0;34m=\u001b[0m \u001b[0mbce_loss\u001b[0m\u001b[0;34m(\u001b[0m\u001b[0mx_outputs\u001b[0m\u001b[0;34m,\u001b[0m \u001b[0mD_labels\u001b[0m\u001b[0;34m)\u001b[0m\u001b[0;34m\u001b[0m\u001b[0m\n\u001b[1;32m      9\u001b[0m \u001b[0;34m\u001b[0m\u001b[0m\n\u001b[0;32m---> 10\u001b[0;31m         \u001b[0mz\u001b[0m\u001b[0;34m,\u001b[0m \u001b[0mc\u001b[0m \u001b[0;34m=\u001b[0m \u001b[0msample_noise\u001b[0m\u001b[0;34m(\u001b[0m\u001b[0mbatch_size\u001b[0m\u001b[0;34m,\u001b[0m \u001b[0mn_noise\u001b[0m\u001b[0;34m,\u001b[0m \u001b[0mn_c_discrete\u001b[0m\u001b[0;34m,\u001b[0m \u001b[0mn_c_continuous\u001b[0m\u001b[0;34m,\u001b[0m \u001b[0mlabel\u001b[0m\u001b[0;34m=\u001b[0m\u001b[0mlabels\u001b[0m\u001b[0;34m,\u001b[0m \u001b[0msupervised\u001b[0m\u001b[0;34m=\u001b[0m\u001b[0;32mTrue\u001b[0m\u001b[0;34m)\u001b[0m\u001b[0;34m\u001b[0m\u001b[0m\n\u001b[0m\u001b[1;32m     11\u001b[0m         \u001b[0mz_outputs\u001b[0m\u001b[0;34m,\u001b[0m \u001b[0m_\u001b[0m\u001b[0;34m,\u001b[0m \u001b[0;34m=\u001b[0m \u001b[0mD\u001b[0m\u001b[0;34m(\u001b[0m\u001b[0mG\u001b[0m\u001b[0;34m(\u001b[0m\u001b[0mz\u001b[0m\u001b[0;34m,\u001b[0m \u001b[0mc\u001b[0m\u001b[0;34m)\u001b[0m\u001b[0;34m)\u001b[0m\u001b[0;34m\u001b[0m\u001b[0m\n\u001b[1;32m     12\u001b[0m         \u001b[0mD_z_loss\u001b[0m \u001b[0;34m=\u001b[0m \u001b[0mbce_loss\u001b[0m\u001b[0;34m(\u001b[0m\u001b[0mz_outputs\u001b[0m\u001b[0;34m,\u001b[0m \u001b[0mD_fakes\u001b[0m\u001b[0;34m)\u001b[0m\u001b[0;34m\u001b[0m\u001b[0m\n",
      "\u001b[0;32m<ipython-input-9-b3034113e324>\u001b[0m in \u001b[0;36msample_noise\u001b[0;34m(batch_size, n_noise, n_c_discrete, n_c_continuous, label, supervised)\u001b[0m\n\u001b[1;32m      2\u001b[0m     \u001b[0mz\u001b[0m \u001b[0;34m=\u001b[0m \u001b[0mto_cuda\u001b[0m\u001b[0;34m(\u001b[0m\u001b[0mtorch\u001b[0m\u001b[0;34m.\u001b[0m\u001b[0mrandn\u001b[0m\u001b[0;34m(\u001b[0m\u001b[0mbatch_size\u001b[0m\u001b[0;34m,\u001b[0m \u001b[0mn_noise\u001b[0m\u001b[0;34m)\u001b[0m\u001b[0;34m)\u001b[0m\u001b[0;34m\u001b[0m\u001b[0m\n\u001b[1;32m      3\u001b[0m     \u001b[0;32mif\u001b[0m \u001b[0msupervised\u001b[0m\u001b[0;34m:\u001b[0m\u001b[0;34m\u001b[0m\u001b[0m\n\u001b[0;32m----> 4\u001b[0;31m         \u001b[0mc_discrete\u001b[0m \u001b[0;34m=\u001b[0m \u001b[0mto_cuda\u001b[0m\u001b[0;34m(\u001b[0m\u001b[0mto_onehot\u001b[0m\u001b[0;34m(\u001b[0m\u001b[0mlabel\u001b[0m\u001b[0;34m)\u001b[0m\u001b[0;34m)\u001b[0m \u001b[0;31m# (B,10)\u001b[0m\u001b[0;34m\u001b[0m\u001b[0m\n\u001b[0m\u001b[1;32m      5\u001b[0m     \u001b[0;32melse\u001b[0m\u001b[0;34m:\u001b[0m\u001b[0;34m\u001b[0m\u001b[0m\n\u001b[1;32m      6\u001b[0m         \u001b[0mc_discrete\u001b[0m \u001b[0;34m=\u001b[0m \u001b[0mto_cuda\u001b[0m\u001b[0;34m(\u001b[0m\u001b[0mto_onehot\u001b[0m\u001b[0;34m(\u001b[0m\u001b[0mtorch\u001b[0m\u001b[0;34m.\u001b[0m\u001b[0mLongTensor\u001b[0m\u001b[0;34m(\u001b[0m\u001b[0mbatch_size\u001b[0m\u001b[0;34m,\u001b[0m \u001b[0;36m1\u001b[0m\u001b[0;34m)\u001b[0m\u001b[0;34m.\u001b[0m\u001b[0mrandom_\u001b[0m\u001b[0;34m(\u001b[0m\u001b[0;36m0\u001b[0m\u001b[0;34m,\u001b[0m \u001b[0mn_c_discrete\u001b[0m\u001b[0;34m)\u001b[0m\u001b[0;34m)\u001b[0m\u001b[0;34m)\u001b[0m \u001b[0;31m# (B,10)\u001b[0m\u001b[0;34m\u001b[0m\u001b[0m\n",
      "\u001b[0;32m<ipython-input-7-f3f77abf2fa8>\u001b[0m in \u001b[0;36mto_cuda\u001b[0;34m(x)\u001b[0m\n\u001b[1;32m      1\u001b[0m \u001b[0;32mdef\u001b[0m \u001b[0mto_cuda\u001b[0m\u001b[0;34m(\u001b[0m\u001b[0mx\u001b[0m\u001b[0;34m)\u001b[0m\u001b[0;34m:\u001b[0m\u001b[0;34m\u001b[0m\u001b[0m\n\u001b[0;32m----> 2\u001b[0;31m     \u001b[0;32mreturn\u001b[0m \u001b[0mx\u001b[0m\u001b[0;34m.\u001b[0m\u001b[0mto\u001b[0m\u001b[0;34m(\u001b[0m\u001b[0mDEVICE\u001b[0m\u001b[0;34m)\u001b[0m\u001b[0;34m\u001b[0m\u001b[0m\n\u001b[0m",
      "\u001b[0;31mKeyboardInterrupt\u001b[0m: "
     ]
    }
   ],
   "source": [
    "for epoch in range(max_epoch+1):\n",
    "    for idx, (images, labels) in enumerate(data_loader):\n",
    "        step += 1\n",
    "        labels = labels.view(batch_size, 1)\n",
    "        # Training Discriminator\n",
    "        x = to_cuda(images)\n",
    "        x_outputs, _, = D(x)\n",
    "        D_x_loss = bce_loss(x_outputs, D_labels)\n",
    "\n",
    "        z, c = sample_noise(batch_size, n_noise, n_c_discrete, n_c_continuous, label=labels, supervised=True)\n",
    "        z_outputs, _, = D(G(z, c))\n",
    "        D_z_loss = bce_loss(z_outputs, D_fakes)\n",
    "        D_loss = D_x_loss + D_z_loss\n",
    "        \n",
    "        D_opt.zero_grad()\n",
    "        D_loss.backward()\n",
    "        D_opt.step()\n",
    "\n",
    "        if step > 500:\n",
    "            # Training Generator\n",
    "            z, c = sample_noise(batch_size, n_noise, n_c_discrete, n_c_continuous, label=labels, supervised=True)\n",
    "            c_discrete_label = torch.max(c[:, :-2], 1)[1].view(-1, 1)\n",
    "            \n",
    "            z_outputs, features = D(G(z, c)) # (B,1), (B,10), (B,4)\n",
    "            c_discrete_out, cc_mu, cc_var = Q(features)\n",
    "            \n",
    "            G_loss = bce_loss(z_outputs, D_labels)\n",
    "            Q_loss_discrete = ce_loss(c_discrete_out, c_discrete_label.view(-1))\n",
    "            Q_loss_continuous = -torch.mean(torch.sum(log_gaussian(c[:, -2:], cc_mu, cc_var), 1)) # N(x | mu,var) -> (B, 2) -> (,1)\n",
    "            mutual_info_loss = Q_loss_discrete + Q_loss_continuous*0.1\n",
    "            \n",
    "            GnQ_loss = G_loss + mutual_info_loss\n",
    "\n",
    "            G_opt.zero_grad()\n",
    "            GnQ_loss.backward()\n",
    "            G_opt.step()\n",
    "\n",
    "        if step > 500 and step % 100 == 0:\n",
    "            writer.add_scalar('loss/total', GnQ_loss, step)\n",
    "            writer.add_scalar('loss/Q_discrete', Q_loss_discrete, step)\n",
    "            writer.add_scalar('loss/Q_continuous', Q_loss_continuous, step)\n",
    "            writer.add_scalar('loss/Q', mutual_info_loss, step)\n",
    "            writer.add_histogram('output/mu', cc_mu)\n",
    "            writer.add_histogram('output/var', cc_var)\n",
    "        \n",
    "        if step % 1000 == 0:\n",
    "            print('Epoch: {}/{}, Step: {}, D Loss: {}, G Loss: {}, GnQ Loss: {}, Time: {}'\\\n",
    "                  .format(epoch, max_epoch, step, D_loss.data[0], G_loss.data[0], GnQ_loss.data[0], str(datetime.datetime.today())[:-7]))\n",
    "            \n",
    "        if epoch % 5 == 0:\n",
    "            G.eval()\n",
    "            img1, img2, img3 = get_sample_image()\n",
    "            scipy.misc.imsave('sample/{}_epoch_{}_type1.jpg'.format(MODEL_NAME, epoch), img1)\n",
    "            scipy.misc.imsave('sample/{}_epoch_{}_type2.jpg'.format(MODEL_NAME, epoch), img2)\n",
    "            scipy.misc.imsave('sample/{}_epoch_{}_type3.jpg'.format(MODEL_NAME, epoch), img3)\n",
    "            G.train()\n",
    "writer.export_scalars_to_json(\"./all_summary.json\")\n",
    "writer.close()"
   ]
  },
  {
   "cell_type": "code",
   "execution_count": null,
   "metadata": {
    "collapsed": true
   },
   "outputs": [],
   "source": []
  },
  {
   "cell_type": "markdown",
   "metadata": {},
   "source": [
    "# Sample"
   ]
  },
  {
   "cell_type": "code",
   "execution_count": 21,
   "metadata": {
    "scrolled": true
   },
   "outputs": [
    {
     "name": "stderr",
     "output_type": "stream",
     "text": [
      "/home/yangyangii/anaconda3/lib/python3.6/site-packages/ipykernel_launcher.py:3: DeprecationWarning: `toimage` is deprecated!\n",
      "`toimage` is deprecated in SciPy 1.0.0, and will be removed in 1.2.0.\n",
      "Use Pillow's ``Image.fromarray`` directly instead.\n",
      "  This is separate from the ipykernel package so we can avoid doing imports until\n"
     ]
    },
    {
     "data": {
      "image/png": "[encoded data removed]",
      "text/plain": [
       "<PIL.Image.Image image mode=L size=280x280 at 0x7F6954A4A198>"
      ]
     },
     "execution_count": 21,
     "metadata": {},
     "output_type": "execute_result"
    }
   ],
   "source": [
    "# generation to image\n",
    "G.eval()\n",
    "scipy.misc.toimage(get_sample_image()[0])"
   ]
  },
  {
   "cell_type": "code",
   "execution_count": 22,
   "metadata": {},
   "outputs": [
    {
     "name": "stderr",
     "output_type": "stream",
     "text": [
      "/home/yangyangii/anaconda3/lib/python3.6/site-packages/ipykernel_launcher.py:1: DeprecationWarning: `toimage` is deprecated!\n",
      "`toimage` is deprecated in SciPy 1.0.0, and will be removed in 1.2.0.\n",
      "Use Pillow's ``Image.fromarray`` directly instead.\n",
      "  \"\"\"Entry point for launching an IPython kernel.\n"
     ]
    },
    {
     "data": {
      "image/png": "[encoded data removed]",
      "text/plain": [
       "<PIL.Image.Image image mode=L size=280x280 at 0x7F6954A4A400>"
      ]
     },
     "execution_count": 22,
     "metadata": {},
     "output_type": "execute_result"
    }
   ],
   "source": [
    "scipy.misc.toimage(get_sample_image()[1])"
   ]
  },
  {
   "cell_type": "code",
   "execution_count": null,
   "metadata": {
    "collapsed": true
   },
   "outputs": [],
   "source": []
  },
  {
   "cell_type": "code",
   "execution_count": null,
   "metadata": {
    "collapsed": true
   },
   "outputs": [],
   "source": []
  },
  {
   "cell_type": "code",
   "execution_count": 81,
   "metadata": {
    "collapsed": true
   },
   "outputs": [],
   "source": [
    "def save_checkpoint(state, file_name='checkpoint.pth.tar'):\n",
    "    torch.save(state, file_name)"
   ]
  },
  {
   "cell_type": "code",
   "execution_count": 82,
   "metadata": {
    "collapsed": true
   },
   "outputs": [],
   "source": [
    "# Saving params.\n",
    "# torch.save(D.state_dict(), 'D_c.pkl')\n",
    "# torch.save(G.state_dict(), 'G_c.pkl')\n",
    "save_checkpoint({'epoch': epoch + 1, 'state_dict':DnQ.state_dict(), 'optimizer' : DnQ_opt.state_dict()}, 'DnQ_info.pth.tar')\n",
    "save_checkpoint({'epoch': epoch + 1, 'state_dict':G.state_dict(), 'optimizer' : G_opt.state_dict()}, 'G_info.pth.tar')"
   ]
  }
 ],
 "metadata": {
  "kernelspec": {
   "display_name": "Python [default]",
   "language": "python",
   "name": "python3"
  },
  "language_info": {
   "codemirror_mode": {
    "name": "ipython",
    "version": 3
   },
   "file_extension": ".py",
   "mimetype": "text/x-python",
   "name": "python",
   "nbconvert_exporter": "python",
   "pygments_lexer": "ipython3",
   "version": "3.6.6"
  }
 },
 "nbformat": 4,
 "nbformat_minor": 2
}
