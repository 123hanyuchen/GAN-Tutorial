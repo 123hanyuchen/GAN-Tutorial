{
 "cells": [
  {
   "cell_type": "markdown",
   "metadata": {},
   "source": [
    "# Implementation of Wasserstein GANs\n",
    "Reference: https://arxiv.org/pdf/1701.07875.pdf"
   ]
  },
  {
   "cell_type": "code",
   "execution_count": 22,
   "metadata": {
    "collapsed": true
   },
   "outputs": [],
   "source": [
    "import torch\n",
    "import torchvision\n",
    "import torch.nn as nn\n",
    "import torch.nn.functional as F"
   ]
  },
  {
   "cell_type": "code",
   "execution_count": 3,
   "metadata": {
    "collapsed": true
   },
   "outputs": [],
   "source": [
    "from torch.utils.data import DataLoader\n",
    "from torchvision import datasets\n",
    "from torchvision import transforms\n",
    "from torchvision.utils import save_image"
   ]
  },
  {
   "cell_type": "code",
   "execution_count": 5,
   "metadata": {
    "collapsed": true
   },
   "outputs": [],
   "source": [
    "import numpy as np\n",
    "import datetime\n",
    "import scipy.misc"
   ]
  },
  {
   "cell_type": "code",
   "execution_count": 6,
   "metadata": {
    "collapsed": true
   },
   "outputs": [],
   "source": [
    "MODEL_NAME = 'W-GAN'\n",
    "DEVICE = torch.device(\"cuda:0\" if torch.cuda.is_available() else \"cpu\")"
   ]
  },
  {
   "cell_type": "code",
   "execution_count": 4,
   "metadata": {
    "collapsed": true
   },
   "outputs": [],
   "source": [
    "def to_cuda(x):\n",
    "    return x.to(DEVICE)"
   ]
  },
  {
   "cell_type": "code",
   "execution_count": 21,
   "metadata": {
    "collapsed": true
   },
   "outputs": [],
   "source": [
    "def get_sample_image(G, n_noise=100):\n",
    "    \"\"\"\n",
    "        save sample 100 images\n",
    "    \"\"\"\n",
    "    for num in range(10):\n",
    "        for i in range(10):\n",
    "            z = to_cuda(torch.randn(1, n_noise))\n",
    "            y_hat = G(z)\n",
    "            line_img = torch.cat((line_img, y_hat.view(28, 28)), dim=1) if i > 0 else y_hat.view(28, 28)\n",
    "        all_img = torch.cat((all_img, line_img), dim=0) if num > 0 else line_img\n",
    "    img = all_img.cpu().data.numpy()\n",
    "    return img"
   ]
  },
  {
   "cell_type": "code",
   "execution_count": 8,
   "metadata": {
    "collapsed": true
   },
   "outputs": [],
   "source": [
    "def n_critic(step, nc=5):\n",
    "    if step < 25 or step % 500 == 0:\n",
    "        return 100\n",
    "    return nc"
   ]
  },
  {
   "cell_type": "code",
   "execution_count": 10,
   "metadata": {
    "collapsed": true
   },
   "outputs": [],
   "source": [
    "class Discriminator(nn.Module):\n",
    "    \"\"\"\n",
    "        Convolutional Discriminator for MNIST\n",
    "    \"\"\"\n",
    "    def __init__(self, in_channel=1, num_classes=1):\n",
    "        super(Discriminator, self).__init__()\n",
    "        self.layer1 = nn.Sequential(# 28 -> 14\n",
    "            nn.Conv2d(in_channel, 128, 3, stride=2, padding=1),\n",
    "            nn.BatchNorm2d(128),\n",
    "            nn.LeakyReLU(0.2),\n",
    "        )\n",
    "        self.layer2 = nn.Sequential(# 14 -> 7\n",
    "            nn.Conv2d(128, 256, 3, stride=2, padding=1),\n",
    "            nn.BatchNorm2d(256),\n",
    "            nn.LeakyReLU(0.2),\n",
    "        )\n",
    "        self.layer3 = nn.Sequential(# 7 -> 4\n",
    "            nn.Conv2d(256, 512, 3, stride=2, padding=1),\n",
    "            nn.BatchNorm2d(512),\n",
    "            nn.LeakyReLU(0.2),\n",
    "            nn.AvgPool2d(4),\n",
    "        )\n",
    "        self.layer4 = nn.Sequential(# reshape input, 512 -> 1\n",
    "            nn.Linear(512, 1),\n",
    "        )\n",
    "    \n",
    "    def forward(self, x, y=None):\n",
    "        y_ = self.layer1(x)\n",
    "        y_ = self.layer2(y_)\n",
    "        y_ = self.layer3(y_)\n",
    "        y_ = y_.view(y_.size(0), -1)\n",
    "        y_ = self.layer4(y_)\n",
    "        return y_"
   ]
  },
  {
   "cell_type": "code",
   "execution_count": 11,
   "metadata": {
    "collapsed": true
   },
   "outputs": [],
   "source": [
    "class Generator(nn.Module):\n",
    "    \"\"\"\n",
    "        Convolutional Generator for MNIST\n",
    "    \"\"\"\n",
    "    def __init__(self, input_size=100, label_size=10, num_classes=784):\n",
    "        super(Generator, self).__init__()\n",
    "        self.layer1 = nn.Sequential(\n",
    "            nn.Linear(input_size, 4*4*512),\n",
    "            nn.ReLU(),\n",
    "        )\n",
    "        self.layer2 = nn.Sequential(# input: 4 by 4, output: 7 by 7\n",
    "            nn.ConvTranspose2d(512, 256, 3, stride=2, padding=1),\n",
    "            nn.BatchNorm2d(256),\n",
    "            nn.ReLU(),\n",
    "        )\n",
    "        self.layer3 = nn.Sequential(# input: 7 by 7, output: 14 by 14\n",
    "            nn.ConvTranspose2d(256, 128, 4, stride=2, padding=1),\n",
    "            nn.BatchNorm2d(128),\n",
    "            nn.ReLU(),\n",
    "        )\n",
    "        self.layer4 = nn.Sequential(# input: 14 by 14, output: 28 by 28\n",
    "            nn.ConvTranspose2d(128, 1, 4, stride=2, padding=1),\n",
    "            nn.Tanh(),\n",
    "        )\n",
    "        \n",
    "    def forward(self, x, y=None):\n",
    "        x = x.view(x.size(0), -1)\n",
    "        y_ = self.layer1(x)\n",
    "        y_ = y_.view(y_.size(0), 512, 4, 4)\n",
    "        y_ = self.layer2(y_)\n",
    "        y_ = self.layer3(y_)\n",
    "        y_ = self.layer4(y_)\n",
    "        return y_"
   ]
  },
  {
   "cell_type": "code",
   "execution_count": 12,
   "metadata": {
    "collapsed": true
   },
   "outputs": [],
   "source": [
    "D = to_cuda(Discriminator())\n",
    "G = to_cuda(Generator())"
   ]
  },
  {
   "cell_type": "code",
   "execution_count": 13,
   "metadata": {
    "collapsed": true
   },
   "outputs": [],
   "source": [
    "transform = transforms.Compose([transforms.ToTensor(),\n",
    "                                transforms.Normalize(mean=(0.5, 0.5, 0.5),\n",
    "                                std=(0.5, 0.5, 0.5))]\n",
    ")"
   ]
  },
  {
   "cell_type": "code",
   "execution_count": 14,
   "metadata": {
    "collapsed": true
   },
   "outputs": [],
   "source": [
    "mnist = datasets.MNIST(root='../data/', train=True, transform=transform, download=True)"
   ]
  },
  {
   "cell_type": "code",
   "execution_count": 15,
   "metadata": {
    "collapsed": true
   },
   "outputs": [],
   "source": [
    "batch_size = 64"
   ]
  },
  {
   "cell_type": "code",
   "execution_count": 16,
   "metadata": {
    "collapsed": true
   },
   "outputs": [],
   "source": [
    "data_loader = DataLoader(dataset=mnist, batch_size=batch_size, shuffle=True, drop_last=True)"
   ]
  },
  {
   "cell_type": "code",
   "execution_count": 17,
   "metadata": {
    "collapsed": true
   },
   "outputs": [],
   "source": [
    "D_opt = torch.optim.RMSprop(D.parameters(), lr=0.00005)\n",
    "G_opt = torch.optim.RMSprop(G.parameters(), lr=0.00005)"
   ]
  },
  {
   "cell_type": "code",
   "execution_count": 18,
   "metadata": {
    "collapsed": true
   },
   "outputs": [],
   "source": [
    "max_epoch = 100 # need more than 100 epochs for training generator\n",
    "step = 0\n",
    "g_step = 0\n",
    "n_noise = 100"
   ]
  },
  {
   "cell_type": "code",
   "execution_count": 19,
   "metadata": {
    "collapsed": true
   },
   "outputs": [],
   "source": [
    "D_labels = to_cuda(torch.ones(batch_size)) # Discriminator Label to real\n",
    "D_fakes = to_cuda(torch.zeros(batch_size)) # Discriminator Label to fake"
   ]
  },
  {
   "cell_type": "code",
   "execution_count": 20,
   "metadata": {
    "scrolled": true
   },
   "outputs": [
    {
     "name": "stderr",
     "output_type": "stream",
     "text": [
      "/home/yangyangii/anaconda3/lib/python3.6/site-packages/ipykernel_launcher.py:35: UserWarning: invalid index of a 0-dim tensor. This will be an error in PyTorch 0.5. Use tensor.item() to convert a 0-dim tensor to a Python number\n"
     ]
    },
    {
     "name": "stdout",
     "output_type": "stream",
     "text": [
      "Epoch: 1/100, Step: 1000, D Loss: 0.017095103859901428, G Loss: 0.0012036400148645043\n",
      "Epoch: 2/100, Step: 2000, D Loss: 0.017718082293868065, G Loss: 0.0010331009980291128\n",
      "Epoch: 3/100, Step: 3000, D Loss: 0.01676984131336212, G Loss: 0.0014365429524332285\n",
      "Epoch: 4/100, Step: 4000, D Loss: 0.017174312844872475, G Loss: 0.0011718133464455605\n",
      "Epoch: 5/100, Step: 5000, D Loss: 0.0161919966340065, G Loss: 0.001780262216925621\n",
      "Epoch: 6/100, Step: 6000, D Loss: 0.015564285218715668, G Loss: 0.0021006797906011343\n",
      "Epoch: 7/100, Step: 7000, D Loss: 0.01441947277635336, G Loss: 0.0016755735268816352\n",
      "Epoch: 8/100, Step: 8000, D Loss: 0.013035103678703308, G Loss: 0.004355377517640591\n",
      "Epoch: 9/100, Step: 9000, D Loss: 0.011423908174037933, G Loss: 0.005288329441100359\n",
      "Epoch: 10/100, Step: 10000, D Loss: 0.009811108000576496, G Loss: 0.00740552693605423\n",
      "Epoch: 11/100, Step: 11000, D Loss: 0.0062982444651424885, G Loss: 0.00891021080315113\n",
      "Epoch: 12/100, Step: 12000, D Loss: 0.006212606094777584, G Loss: 0.005945890676230192\n",
      "Epoch: 13/100, Step: 13000, D Loss: 0.006212278734892607, G Loss: 0.007014018017798662\n",
      "Epoch: 14/100, Step: 14000, D Loss: 0.005641893949359655, G Loss: 0.006965085864067078\n",
      "Epoch: 16/100, Step: 15000, D Loss: 0.00362998154014349, G Loss: 0.005111436825245619\n",
      "Epoch: 17/100, Step: 16000, D Loss: 0.004781945142894983, G Loss: 0.007309706415981054\n",
      "Epoch: 18/100, Step: 17000, D Loss: 0.004777746275067329, G Loss: 0.007408544886857271\n",
      "Epoch: 19/100, Step: 18000, D Loss: 0.004522006493061781, G Loss: 0.011191782541573048\n",
      "Epoch: 20/100, Step: 19000, D Loss: 0.004619752988219261, G Loss: 0.005575903691351414\n",
      "Epoch: 21/100, Step: 20000, D Loss: 0.005341837182641029, G Loss: 0.007312762551009655\n",
      "Epoch: 22/100, Step: 21000, D Loss: 0.0037459549494087696, G Loss: 0.007383616641163826\n",
      "Epoch: 23/100, Step: 22000, D Loss: 0.004641314037144184, G Loss: 0.008066583424806595\n",
      "Epoch: 24/100, Step: 23000, D Loss: 0.004237289074808359, G Loss: 0.00889979861676693\n",
      "Epoch: 25/100, Step: 24000, D Loss: 0.004978441167622805, G Loss: 0.007680696435272694\n",
      "Epoch: 26/100, Step: 25000, D Loss: 0.005037606693804264, G Loss: 0.007861769758164883\n",
      "Epoch: 27/100, Step: 26000, D Loss: 0.0048180194571614265, G Loss: 0.0075431400910019875\n",
      "Epoch: 28/100, Step: 27000, D Loss: 0.004710689187049866, G Loss: 0.007582136895507574\n",
      "Epoch: 29/100, Step: 28000, D Loss: 0.003275794442743063, G Loss: 0.006114882882684469\n",
      "Epoch: 30/100, Step: 29000, D Loss: 0.0044602761045098305, G Loss: 0.006917014252394438\n",
      "Epoch: 32/100, Step: 30000, D Loss: 0.0050470950081944466, G Loss: 0.007981812581419945\n",
      "Epoch: 33/100, Step: 31000, D Loss: 0.004296053666621447, G Loss: 0.00953397061675787\n",
      "Epoch: 34/100, Step: 32000, D Loss: 0.0036704232916235924, G Loss: 0.00802873820066452\n",
      "Epoch: 35/100, Step: 33000, D Loss: 0.004317857325077057, G Loss: 0.009919054806232452\n",
      "Epoch: 36/100, Step: 34000, D Loss: 0.00444765854626894, G Loss: 0.0070645129308104515\n",
      "Epoch: 37/100, Step: 35000, D Loss: 0.003688267432153225, G Loss: 0.010517027229070663\n",
      "Epoch: 38/100, Step: 36000, D Loss: 0.003485596738755703, G Loss: 0.009144770912826061\n",
      "Epoch: 39/100, Step: 37000, D Loss: 0.004654351621866226, G Loss: 0.010864799842238426\n",
      "Epoch: 40/100, Step: 38000, D Loss: 0.004087996669113636, G Loss: 0.008814678527414799\n",
      "Epoch: 41/100, Step: 39000, D Loss: 0.003688453696668148, G Loss: 0.005800905171781778\n",
      "Epoch: 42/100, Step: 40000, D Loss: 0.004471421241760254, G Loss: 0.007220920640975237\n",
      "Epoch: 43/100, Step: 41000, D Loss: 0.0011820853687822819, G Loss: 0.00892453733831644\n",
      "Epoch: 44/100, Step: 42000, D Loss: 0.003922449424862862, G Loss: 0.007114448118954897\n",
      "Epoch: 45/100, Step: 43000, D Loss: 0.003725891001522541, G Loss: 0.010768559761345387\n",
      "Epoch: 46/100, Step: 44000, D Loss: 0.00424626050516963, G Loss: 0.011058535426855087\n",
      "Epoch: 48/100, Step: 45000, D Loss: 0.003845646046102047, G Loss: 0.006555677391588688\n",
      "Epoch: 49/100, Step: 46000, D Loss: 0.0010075252503156662, G Loss: 0.00661526108160615\n",
      "Epoch: 50/100, Step: 47000, D Loss: 0.0045084524899721146, G Loss: 0.005415306892246008\n",
      "Epoch: 51/100, Step: 48000, D Loss: 0.003477826714515686, G Loss: 0.0071071782149374485\n",
      "Epoch: 52/100, Step: 49000, D Loss: 0.003758378326892853, G Loss: 0.011344050988554955\n",
      "Epoch: 53/100, Step: 50000, D Loss: 0.003629712387919426, G Loss: 0.007133109495043755\n",
      "Epoch: 54/100, Step: 51000, D Loss: 0.003319219686090946, G Loss: 0.006767055951058865\n",
      "Epoch: 55/100, Step: 52000, D Loss: 0.002521377056837082, G Loss: 0.005623972043395042\n",
      "Epoch: 56/100, Step: 53000, D Loss: 0.0016114357858896255, G Loss: 0.008253226988017559\n",
      "Epoch: 57/100, Step: 54000, D Loss: 0.0014292681589722633, G Loss: 0.0051069860346615314\n",
      "Epoch: 58/100, Step: 55000, D Loss: 0.00421134103089571, G Loss: 0.005537733435630798\n",
      "Epoch: 59/100, Step: 56000, D Loss: 0.003657897002995014, G Loss: 0.008418651297688484\n",
      "Epoch: 60/100, Step: 57000, D Loss: 0.00418879697099328, G Loss: 0.008272944018244743\n",
      "Epoch: 61/100, Step: 58000, D Loss: 0.001546916551887989, G Loss: 0.005647771060466766\n",
      "Epoch: 62/100, Step: 59000, D Loss: 0.0033005140721797943, G Loss: 0.007231779396533966\n",
      "Epoch: 64/100, Step: 60000, D Loss: 0.0037263259291648865, G Loss: 0.0071566407568752766\n",
      "Epoch: 65/100, Step: 61000, D Loss: 0.0014628907665610313, G Loss: 0.008985018357634544\n",
      "Epoch: 66/100, Step: 62000, D Loss: 0.0034910072572529316, G Loss: 0.010030691511929035\n",
      "Epoch: 67/100, Step: 63000, D Loss: 0.002602776512503624, G Loss: 0.0065298425033688545\n",
      "Epoch: 68/100, Step: 64000, D Loss: 0.002012825571000576, G Loss: 0.009188207797706127\n",
      "Epoch: 69/100, Step: 65000, D Loss: 0.002189699560403824, G Loss: 0.005816130433231592\n",
      "Epoch: 70/100, Step: 66000, D Loss: 0.003337102010846138, G Loss: 0.007955323904752731\n",
      "Epoch: 71/100, Step: 67000, D Loss: 0.003009013831615448, G Loss: 0.00924259889870882\n",
      "Epoch: 72/100, Step: 68000, D Loss: 0.0029889503493905067, G Loss: 0.008836918510496616\n",
      "Epoch: 73/100, Step: 69000, D Loss: 0.003313112072646618, G Loss: 0.007900867611169815\n",
      "Epoch: 74/100, Step: 70000, D Loss: 0.0016475627198815346, G Loss: 0.005016975570470095\n",
      "Epoch: 75/100, Step: 71000, D Loss: 0.0026766289956867695, G Loss: 0.011429517529904842\n",
      "Epoch: 76/100, Step: 72000, D Loss: 0.00344892218708992, G Loss: 0.008072358556091785\n",
      "Epoch: 77/100, Step: 73000, D Loss: 0.0024153385311365128, G Loss: 0.006387073080986738\n",
      "Epoch: 78/100, Step: 74000, D Loss: 0.002808341756463051, G Loss: 0.007961754687130451\n",
      "Epoch: 80/100, Step: 75000, D Loss: 0.0034742197021842003, G Loss: 0.009409801103174686\n",
      "Epoch: 81/100, Step: 76000, D Loss: 0.003199690952897072, G Loss: 0.010087288916110992\n",
      "Epoch: 82/100, Step: 77000, D Loss: 0.003479333594441414, G Loss: 0.006972766947001219\n",
      "Epoch: 83/100, Step: 78000, D Loss: 0.003515101969242096, G Loss: 0.006964800879359245\n",
      "Epoch: 84/100, Step: 79000, D Loss: 0.0030983304604887962, G Loss: 0.008661916479468346\n",
      "Epoch: 85/100, Step: 80000, D Loss: 0.0007901140488684177, G Loss: 0.007582593709230423\n",
      "Epoch: 86/100, Step: 81000, D Loss: 0.002078126184642315, G Loss: 0.008972479030489922\n",
      "Epoch: 87/100, Step: 82000, D Loss: 0.003320087678730488, G Loss: 0.009346419014036655\n",
      "Epoch: 88/100, Step: 83000, D Loss: 0.0020479653030633926, G Loss: 0.009337440133094788\n",
      "Epoch: 89/100, Step: 84000, D Loss: 0.0033623026683926582, G Loss: 0.009346130304038525\n",
      "Epoch: 90/100, Step: 85000, D Loss: 0.002185526303946972, G Loss: 0.005995025392621756\n",
      "Epoch: 91/100, Step: 86000, D Loss: 0.002814645878970623, G Loss: 0.007891412824392319\n",
      "Epoch: 92/100, Step: 87000, D Loss: 0.0027331802994012833, G Loss: 0.0076834047213196754\n",
      "Epoch: 93/100, Step: 88000, D Loss: 0.00206817127764225, G Loss: 0.0063540940172970295\n",
      "Epoch: 94/100, Step: 89000, D Loss: 0.002720773220062256, G Loss: 0.0059265075251460075\n",
      "Epoch: 96/100, Step: 90000, D Loss: 0.0029051657766103745, G Loss: 0.00832586083561182\n",
      "Epoch: 97/100, Step: 91000, D Loss: 0.0010594641789793968, G Loss: 0.00798003189265728\n",
      "Epoch: 98/100, Step: 92000, D Loss: 0.0029289154335856438, G Loss: 0.008918529376387596\n",
      "Epoch: 99/100, Step: 93000, D Loss: 0.002474747598171234, G Loss: 0.009879540652036667\n"
     ]
    }
   ],
   "source": [
    "for epoch in range(max_epoch):\n",
    "    for idx, (images, labels) in enumerate(data_loader):\n",
    "        step += 1\n",
    "                   \n",
    "        # Training Discriminator\n",
    "        x = to_cuda(images)\n",
    "        x_outputs = D(x)\n",
    "\n",
    "        z = to_cuda(torch.randn(batch_size, n_noise))\n",
    "        z_outputs = D(G(z))\n",
    "        D_x_loss = torch.mean(x_outputs)\n",
    "        D_z_loss = torch.mean(z_outputs)\n",
    "        D_loss = (D_x_loss - D_z_loss) * -1\n",
    "        \n",
    "        D.zero_grad()\n",
    "        D_loss.backward()\n",
    "        D_opt.step()\n",
    "        # Parameter(Weight) Clipping for K-Lipshitz constraint\n",
    "        for p in D.parameters():\n",
    "            p.data.clamp_(-0.01, 0.01)\n",
    "                    \n",
    "        if step % n_critic(g_step) == 0:\n",
    "            g_step += 1\n",
    "            # Training Generator\n",
    "            z = to_cuda(torch.randn(batch_size, n_noise))\n",
    "            z_outputs = D(G(z))\n",
    "            G_loss = -torch.mean(z_outputs, 0)\n",
    "\n",
    "            D.zero_grad()\n",
    "            G.zero_grad()\n",
    "            G_loss.backward()\n",
    "            G_opt.step()\n",
    "        \n",
    "        if step % 1000 == 0:\n",
    "            print('Epoch: {}/{}, Step: {}, D Loss: {}, G Loss: {}'.format(epoch, max_epoch, step, -D_loss.data[0], -G_loss.data[0]))"
   ]
  },
  {
   "cell_type": "code",
   "execution_count": null,
   "metadata": {
    "collapsed": true
   },
   "outputs": [],
   "source": []
  },
  {
   "cell_type": "markdown",
   "metadata": {},
   "source": [
    "## Sample"
   ]
  },
  {
   "cell_type": "code",
   "execution_count": 17,
   "metadata": {
    "collapsed": true
   },
   "outputs": [],
   "source": [
    "import scipy.misc"
   ]
  },
  {
   "cell_type": "code",
   "execution_count": 27,
   "metadata": {},
   "outputs": [
    {
     "name": "stderr",
     "output_type": "stream",
     "text": [
      "/home/yangyangii/anaconda3/lib/python3.6/site-packages/ipykernel_launcher.py:3: DeprecationWarning: `toimage` is deprecated!\n",
      "`toimage` is deprecated in SciPy 1.0.0, and will be removed in 1.2.0.\n",
      "Use Pillow's ``Image.fromarray`` directly instead.\n",
      "  This is separate from the ipykernel package so we can avoid doing imports until\n"
     ]
    },
    {
     "data": {
      "image/png": "[encoded data removed]",
      "text/plain": [
       "<PIL.Image.Image image mode=L size=280x280 at 0x7F8DADB7F2B0>"
      ]
     },
     "execution_count": 27,
     "metadata": {},
     "output_type": "execute_result"
    }
   ],
   "source": [
    "# generation to image\n",
    "G.eval()\n",
    "scipy.misc.toimage(get_sample_image(G))"
   ]
  },
  {
   "cell_type": "code",
   "execution_count": 34,
   "metadata": {},
   "outputs": [
    {
     "name": "stderr",
     "output_type": "stream",
     "text": [
      "/home/yangyangii/anaconda3/lib/python3.6/site-packages/ipykernel_launcher.py:5: DeprecationWarning: `toimage` is deprecated!\n",
      "`toimage` is deprecated in SciPy 1.0.0, and will be removed in 1.2.0.\n",
      "Use Pillow's ``Image.fromarray`` directly instead.\n",
      "  \"\"\"\n"
     ]
    },
    {
     "data": {
      "image/png": "[encoded data removed]",
      "text/plain": [
       "<PIL.Image.Image image mode=L size=28x28 at 0x7F8DADB2A748>"
      ]
     },
     "execution_count": 34,
     "metadata": {},
     "output_type": "execute_result"
    }
   ],
   "source": [
    "# generation to image\n",
    "z = to_cuda(torch.randn(1, n_noise))\n",
    "fakeimg = G(z).view(28, 28)\n",
    "img = fakeimg.cpu().data.numpy()\n",
    "scipy.misc.toimage(img)"
   ]
  },
  {
   "cell_type": "code",
   "execution_count": null,
   "metadata": {
    "collapsed": true
   },
   "outputs": [],
   "source": []
  },
  {
   "cell_type": "code",
   "execution_count": 15,
   "metadata": {
    "collapsed": true
   },
   "outputs": [],
   "source": [
    "def save_checkpoint(state, file_name='checkpoint.pth.tar'):\n",
    "    torch.save(state, file_name)"
   ]
  },
  {
   "cell_type": "code",
   "execution_count": 16,
   "metadata": {
    "collapsed": true
   },
   "outputs": [],
   "source": [
    "# Saving params.\n",
    "# torch.save(D.state_dict(), 'D_c.pkl')\n",
    "# torch.save(G.state_dict(), 'G_c.pkl')\n",
    "save_checkpoint({'epoch': epoch + 1, 'state_dict':D.state_dict(), 'optimizer' : D_opt.state_dict()}, 'D_w.pth.tar')\n",
    "save_checkpoint({'epoch': epoch + 1, 'state_dict':G.state_dict(), 'optimizer' : G_opt.state_dict()}, 'G_w.pth.tar')"
   ]
  },
  {
   "cell_type": "code",
   "execution_count": null,
   "metadata": {
    "collapsed": true
   },
   "outputs": [],
   "source": []
  }
 ],
 "metadata": {
  "kernelspec": {
   "display_name": "Python 3",
   "language": "python",
   "name": "python3"
  },
  "language_info": {
   "codemirror_mode": {
    "name": "ipython",
    "version": 3
   },
   "file_extension": ".py",
   "mimetype": "text/x-python",
   "name": "python",
   "nbconvert_exporter": "python",
   "pygments_lexer": "ipython3",
   "version": "3.6.1"
  }
 },
 "nbformat": 4,
 "nbformat_minor": 2
}
