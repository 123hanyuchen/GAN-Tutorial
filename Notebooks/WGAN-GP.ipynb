{
 "cells": [
  {
   "cell_type": "markdown",
   "metadata": {},
   "source": [
    "# Implementation of WGAN-GP\n",
    "Reference: https://arxiv.org/pdf/1704.00028.pdf\n"
   ]
  },
  {
   "cell_type": "code",
   "execution_count": 1,
   "metadata": {
    "collapsed": true
   },
   "outputs": [],
   "source": [
    "import torch\n",
    "import torchvision\n",
    "import torch.nn as nn\n",
    "import torch.nn.functional as F\n",
    "import torch.autograd as autograd"
   ]
  },
  {
   "cell_type": "code",
   "execution_count": 2,
   "metadata": {
    "collapsed": true
   },
   "outputs": [],
   "source": [
    "from torch.utils.data import DataLoader\n",
    "from torchvision import datasets\n",
    "from torchvision import transforms\n",
    "from torchvision.utils import save_image"
   ]
  },
  {
   "cell_type": "code",
   "execution_count": 3,
   "metadata": {
    "collapsed": true
   },
   "outputs": [],
   "source": [
    "import numpy as np\n",
    "import datetime\n",
    "import scipy.misc"
   ]
  },
  {
   "cell_type": "code",
   "execution_count": 4,
   "metadata": {
    "collapsed": true
   },
   "outputs": [],
   "source": [
    "MODEL_NAME = 'WGAN-gp'\n",
    "DEVICE = torch.device(\"cuda:0\" if torch.cuda.is_available() else \"cpu\")"
   ]
  },
  {
   "cell_type": "code",
   "execution_count": 5,
   "metadata": {
    "collapsed": true
   },
   "outputs": [],
   "source": [
    "def to_cuda(x):\n",
    "    return x.to(DEVICE)"
   ]
  },
  {
   "cell_type": "code",
   "execution_count": 18,
   "metadata": {
    "collapsed": true
   },
   "outputs": [],
   "source": [
    "def get_sample_image(G, n_noise=100):\n",
    "    \"\"\"\n",
    "        save sample 100 images\n",
    "    \"\"\"\n",
    "    for num in range(10):\n",
    "        for i in range(10):\n",
    "            z = to_cuda(torch.randn(1, n_noise))\n",
    "            y_hat = G(z)\n",
    "            line_img = torch.cat((line_img, y_hat.view(28, 28)), dim=1) if i > 0 else y_hat.view(28, 28)\n",
    "        all_img = torch.cat((all_img, line_img), dim=0) if num > 0 else line_img\n",
    "    img = all_img.cpu().data.numpy()\n",
    "    return img"
   ]
  },
  {
   "cell_type": "code",
   "execution_count": 6,
   "metadata": {
    "collapsed": true
   },
   "outputs": [],
   "source": [
    "def n_critic(step, nc=5):\n",
    "    if step < 25 or step % 500 == 0:\n",
    "        return 100\n",
    "    return nc"
   ]
  },
  {
   "cell_type": "code",
   "execution_count": 7,
   "metadata": {
    "collapsed": true
   },
   "outputs": [],
   "source": [
    "class Discriminator(nn.Module):\n",
    "    \"\"\"\n",
    "        Convolutional Discriminator for MNIST\n",
    "    \"\"\"\n",
    "    def __init__(self, input_size=784, num_classes=1):\n",
    "        super(Discriminator, self).__init__()\n",
    "        self.layer1 = nn.Sequential(\n",
    "            nn.Linear(input_size, 512),\n",
    "            nn.ReLU(),\n",
    "        )\n",
    "        self.layer2 = nn.Sequential(\n",
    "            nn.Linear(512, 512),\n",
    "            nn.ReLU(),\n",
    "        )\n",
    "        self.layer3 = nn.Sequential(\n",
    "            nn.Linear(512, num_classes),\n",
    "        )\n",
    "    \n",
    "    def forward(self, x):\n",
    "        y_ = x.view(x.size(0), -1)\n",
    "        y_ = self.layer1(y_)\n",
    "        y_ = self.layer2(y_)\n",
    "        y_ = self.layer3(y_)\n",
    "        return y_"
   ]
  },
  {
   "cell_type": "code",
   "execution_count": 8,
   "metadata": {
    "collapsed": true
   },
   "outputs": [],
   "source": [
    "class Generator(nn.Module):\n",
    "    \"\"\"\n",
    "        Convolutional Generator for MNIST\n",
    "    \"\"\"\n",
    "    def __init__(self, input_size=100, num_classes=784):\n",
    "        super(Generator, self).__init__()\n",
    "        self.layer = nn.Sequential(\n",
    "            nn.Linear(input_size, 512),\n",
    "            nn.ReLU(),\n",
    "            nn.Linear(512, 512),\n",
    "            nn.ReLU(),\n",
    "            nn.Linear(512, num_classes),\n",
    "            nn.Tanh()\n",
    "        )\n",
    "        \n",
    "    def forward(self, x):\n",
    "        y_ = self.layer(x)\n",
    "        y_ = y_.view(x.size(0), 1, 28, 28)\n",
    "        return y_"
   ]
  },
  {
   "cell_type": "code",
   "execution_count": 9,
   "metadata": {
    "collapsed": true
   },
   "outputs": [],
   "source": [
    "D = to_cuda(Discriminator())\n",
    "G = to_cuda(Generator())"
   ]
  },
  {
   "cell_type": "code",
   "execution_count": 10,
   "metadata": {
    "collapsed": true
   },
   "outputs": [],
   "source": [
    "transform = transforms.Compose([transforms.ToTensor(),\n",
    "                                transforms.Normalize(mean=(0.5, 0.5, 0.5),\n",
    "                                std=(0.5, 0.5, 0.5))]\n",
    ")"
   ]
  },
  {
   "cell_type": "code",
   "execution_count": 11,
   "metadata": {
    "collapsed": true
   },
   "outputs": [],
   "source": [
    "mnist = datasets.MNIST(root='../data/', train=True, transform=transform, download=True)"
   ]
  },
  {
   "cell_type": "code",
   "execution_count": 12,
   "metadata": {
    "collapsed": true
   },
   "outputs": [],
   "source": [
    "batch_size = 64"
   ]
  },
  {
   "cell_type": "code",
   "execution_count": 13,
   "metadata": {
    "collapsed": true
   },
   "outputs": [],
   "source": [
    "data_loader = DataLoader(dataset=mnist, batch_size=batch_size, shuffle=True, drop_last=True)"
   ]
  },
  {
   "cell_type": "code",
   "execution_count": 14,
   "metadata": {
    "collapsed": true
   },
   "outputs": [],
   "source": [
    "D_opt = torch.optim.Adam(D.parameters(), lr=0.0001, betas=(0.0, 0.9))\n",
    "G_opt = torch.optim.Adam(G.parameters(), lr=0.0001, betas=(0.0, 0.9))"
   ]
  },
  {
   "cell_type": "code",
   "execution_count": 15,
   "metadata": {
    "collapsed": true
   },
   "outputs": [],
   "source": [
    "max_epoch = 300 # need more than 300 epochs for training\n",
    "step = 0\n",
    "g_step = 0\n",
    "n_noise = 100\n",
    "p_coeff = 10 # lambda"
   ]
  },
  {
   "cell_type": "code",
   "execution_count": 16,
   "metadata": {
    "collapsed": true
   },
   "outputs": [],
   "source": [
    "D_labels = to_cuda(torch.ones(batch_size, 1)) # Discriminator Label to real\n",
    "D_fakes = to_cuda(torch.zeros(batch_size, 1)) # Discriminator Label to fake"
   ]
  },
  {
   "cell_type": "code",
   "execution_count": 19,
   "metadata": {
    "scrolled": true
   },
   "outputs": [
    {
     "name": "stderr",
     "output_type": "stream",
     "text": [
      "/home/yangyangii/anaconda3/lib/python3.6/site-packages/ipykernel_launcher.py:51: DeprecationWarning: `imsave` is deprecated!\n",
      "`imsave` is deprecated in SciPy 1.0.0, and will be removed in 1.2.0.\n",
      "Use ``imageio.imwrite`` instead.\n",
      "/home/yangyangii/anaconda3/lib/python3.6/site-packages/ipykernel_launcher.py:46: UserWarning: invalid index of a 0-dim tensor. This will be an error in PyTorch 0.5. Use tensor.item() to convert a 0-dim tensor to a Python number\n"
     ]
    },
    {
     "name": "stdout",
     "output_type": "stream",
     "text": [
      "Epoch: 1/300, Step: 1000, D Loss: 32.421409606933594, G Loss: 3.8607895374298096\n",
      "Epoch: 2/300, Step: 2000, D Loss: 27.481861114501953, G Loss: 10.427570343017578\n",
      "Epoch: 3/300, Step: 3000, D Loss: 11.777752876281738, G Loss: 2.700834274291992\n",
      "Epoch: 4/300, Step: 4000, D Loss: 7.606339931488037, G Loss: 5.339910984039307\n",
      "Epoch: 5/300, Step: 5000, D Loss: 4.887202739715576, G Loss: 5.274722099304199\n",
      "Epoch: 6/300, Step: 6000, D Loss: 3.8848841190338135, G Loss: 5.174000263214111\n",
      "Epoch: 7/300, Step: 7000, D Loss: 3.308317184448242, G Loss: 4.30143928527832\n",
      "Epoch: 8/300, Step: 8000, D Loss: 3.177185297012329, G Loss: 4.367456436157227\n",
      "Epoch: 9/300, Step: 9000, D Loss: 3.2354133129119873, G Loss: 4.0006184577941895\n",
      "Epoch: 10/300, Step: 10000, D Loss: 3.361888885498047, G Loss: 1.377447485923767\n",
      "Epoch: 11/300, Step: 11000, D Loss: 3.348159074783325, G Loss: 0.1197112575173378\n",
      "Epoch: 12/300, Step: 12000, D Loss: 3.595661163330078, G Loss: -1.8982950448989868\n",
      "Epoch: 13/300, Step: 13000, D Loss: 3.6365489959716797, G Loss: -2.7927193641662598\n",
      "Epoch: 14/300, Step: 14000, D Loss: 3.9287943840026855, G Loss: -3.301938533782959\n",
      "Epoch: 16/300, Step: 15000, D Loss: 4.183434963226318, G Loss: -4.082812786102295\n",
      "Epoch: 17/300, Step: 16000, D Loss: 3.542468786239624, G Loss: -4.222323417663574\n",
      "Epoch: 18/300, Step: 17000, D Loss: 4.039976119995117, G Loss: -3.919867515563965\n",
      "Epoch: 19/300, Step: 18000, D Loss: 3.873723268508911, G Loss: -4.1823625564575195\n",
      "Epoch: 20/300, Step: 19000, D Loss: 3.6665940284729004, G Loss: -4.038271903991699\n",
      "Epoch: 21/300, Step: 20000, D Loss: 4.451939582824707, G Loss: -4.236079692840576\n",
      "Epoch: 22/300, Step: 21000, D Loss: 4.376417636871338, G Loss: -3.4889016151428223\n",
      "Epoch: 23/300, Step: 22000, D Loss: 4.381105899810791, G Loss: -3.0868330001831055\n",
      "Epoch: 24/300, Step: 23000, D Loss: 3.7750043869018555, G Loss: -2.5699222087860107\n",
      "Epoch: 25/300, Step: 24000, D Loss: 3.7586891651153564, G Loss: -1.6765483617782593\n",
      "Epoch: 26/300, Step: 25000, D Loss: 3.5253610610961914, G Loss: -2.1852455139160156\n",
      "Epoch: 27/300, Step: 26000, D Loss: 3.7845711708068848, G Loss: -1.3773407936096191\n",
      "Epoch: 28/300, Step: 27000, D Loss: 3.8178157806396484, G Loss: -1.1030356884002686\n",
      "Epoch: 29/300, Step: 28000, D Loss: 3.735079288482666, G Loss: -1.0059388875961304\n",
      "Epoch: 30/300, Step: 29000, D Loss: 3.4524989128112793, G Loss: -0.462942898273468\n",
      "Epoch: 32/300, Step: 30000, D Loss: 2.889742136001587, G Loss: 0.218442901968956\n",
      "Epoch: 33/300, Step: 31000, D Loss: 3.14844012260437, G Loss: -0.05789870768785477\n",
      "Epoch: 34/300, Step: 32000, D Loss: 3.154585599899292, G Loss: 0.6278604865074158\n",
      "Epoch: 35/300, Step: 33000, D Loss: 2.8002519607543945, G Loss: 0.7735441327095032\n",
      "Epoch: 36/300, Step: 34000, D Loss: 3.204956531524658, G Loss: 1.1102113723754883\n",
      "Epoch: 37/300, Step: 35000, D Loss: 3.008026123046875, G Loss: 1.5974217653274536\n",
      "Epoch: 38/300, Step: 36000, D Loss: 2.999030828475952, G Loss: 1.709375023841858\n",
      "Epoch: 39/300, Step: 37000, D Loss: 3.241734743118286, G Loss: 1.2717686891555786\n",
      "Epoch: 40/300, Step: 38000, D Loss: 3.143605947494507, G Loss: 2.0020663738250732\n",
      "Epoch: 41/300, Step: 39000, D Loss: 2.837859869003296, G Loss: 1.6578396558761597\n",
      "Epoch: 42/300, Step: 40000, D Loss: 3.0577447414398193, G Loss: 1.5177868604660034\n",
      "Epoch: 43/300, Step: 41000, D Loss: 2.9056057929992676, G Loss: 2.1005852222442627\n",
      "Epoch: 44/300, Step: 42000, D Loss: 2.9653210639953613, G Loss: 1.2738940715789795\n",
      "Epoch: 45/300, Step: 43000, D Loss: 2.8149986267089844, G Loss: 2.1147236824035645\n",
      "Epoch: 46/300, Step: 44000, D Loss: 3.3345320224761963, G Loss: 1.714762568473816\n",
      "Epoch: 48/300, Step: 45000, D Loss: 2.8984203338623047, G Loss: 1.397825837135315\n",
      "Epoch: 49/300, Step: 46000, D Loss: 2.482057809829712, G Loss: 1.5865315198898315\n",
      "Epoch: 50/300, Step: 47000, D Loss: 3.1983158588409424, G Loss: 1.97225821018219\n",
      "Epoch: 51/300, Step: 48000, D Loss: 2.3107104301452637, G Loss: 2.567016363143921\n",
      "Epoch: 52/300, Step: 49000, D Loss: 2.8543810844421387, G Loss: 1.7287124395370483\n",
      "Epoch: 53/300, Step: 50000, D Loss: 2.328178644180298, G Loss: 2.183250904083252\n",
      "Epoch: 54/300, Step: 51000, D Loss: 2.619094133377075, G Loss: 1.303652286529541\n",
      "Epoch: 55/300, Step: 52000, D Loss: 2.5716772079467773, G Loss: 2.644907236099243\n",
      "Epoch: 56/300, Step: 53000, D Loss: 2.6405086517333984, G Loss: 2.070549964904785\n",
      "Epoch: 57/300, Step: 54000, D Loss: 2.285449266433716, G Loss: 2.156777858734131\n",
      "Epoch: 58/300, Step: 55000, D Loss: 2.4016923904418945, G Loss: 1.8263062238693237\n",
      "Epoch: 59/300, Step: 56000, D Loss: 2.593858480453491, G Loss: 2.1942880153656006\n",
      "Epoch: 60/300, Step: 57000, D Loss: 2.2813608646392822, G Loss: 2.4275505542755127\n",
      "Epoch: 61/300, Step: 58000, D Loss: 2.2888593673706055, G Loss: 2.3920140266418457\n",
      "Epoch: 62/300, Step: 59000, D Loss: 2.461364984512329, G Loss: 1.6284611225128174\n",
      "Epoch: 64/300, Step: 60000, D Loss: 2.8129730224609375, G Loss: 1.9865692853927612\n",
      "Epoch: 65/300, Step: 61000, D Loss: 2.5914344787597656, G Loss: 1.832440733909607\n",
      "Epoch: 66/300, Step: 62000, D Loss: 2.1336586475372314, G Loss: 2.6509106159210205\n",
      "Epoch: 67/300, Step: 63000, D Loss: 2.39650297164917, G Loss: 2.0819311141967773\n",
      "Epoch: 68/300, Step: 64000, D Loss: 2.504051446914673, G Loss: 2.251042127609253\n",
      "Epoch: 69/300, Step: 65000, D Loss: 2.234142780303955, G Loss: 2.355961799621582\n",
      "Epoch: 70/300, Step: 66000, D Loss: 2.2400336265563965, G Loss: 2.3387537002563477\n",
      "Epoch: 71/300, Step: 67000, D Loss: 2.2636938095092773, G Loss: 2.264864444732666\n",
      "Epoch: 72/300, Step: 68000, D Loss: 2.169161319732666, G Loss: 2.638399600982666\n",
      "Epoch: 73/300, Step: 69000, D Loss: 2.3904342651367188, G Loss: 2.045255184173584\n",
      "Epoch: 74/300, Step: 70000, D Loss: 2.1460981369018555, G Loss: 2.4711759090423584\n",
      "Epoch: 75/300, Step: 71000, D Loss: 1.9801005125045776, G Loss: 1.9942618608474731\n",
      "Epoch: 76/300, Step: 72000, D Loss: 2.049837350845337, G Loss: 2.2197890281677246\n",
      "Epoch: 77/300, Step: 73000, D Loss: 1.9498835802078247, G Loss: 1.7732126712799072\n",
      "Epoch: 78/300, Step: 74000, D Loss: 2.279026985168457, G Loss: 1.6262502670288086\n",
      "Epoch: 80/300, Step: 75000, D Loss: 2.061816692352295, G Loss: 1.668623685836792\n",
      "Epoch: 81/300, Step: 76000, D Loss: 1.9321938753128052, G Loss: 2.6618664264678955\n",
      "Epoch: 82/300, Step: 77000, D Loss: 1.8186547756195068, G Loss: 2.5728466510772705\n",
      "Epoch: 83/300, Step: 78000, D Loss: 2.2602624893188477, G Loss: 1.6686285734176636\n",
      "Epoch: 84/300, Step: 79000, D Loss: 1.9092140197753906, G Loss: 1.1070083379745483\n",
      "Epoch: 85/300, Step: 80000, D Loss: 2.1958417892456055, G Loss: 2.950847625732422\n",
      "Epoch: 86/300, Step: 81000, D Loss: 2.1782007217407227, G Loss: 2.103454113006592\n",
      "Epoch: 87/300, Step: 82000, D Loss: 1.9508424997329712, G Loss: 2.541583776473999\n",
      "Epoch: 88/300, Step: 83000, D Loss: 2.04935622215271, G Loss: 1.6190142631530762\n",
      "Epoch: 89/300, Step: 84000, D Loss: 2.1941096782684326, G Loss: 2.457246780395508\n",
      "Epoch: 90/300, Step: 85000, D Loss: 1.7197028398513794, G Loss: 2.380582094192505\n",
      "Epoch: 91/300, Step: 86000, D Loss: 1.8913500308990479, G Loss: 1.3418654203414917\n",
      "Epoch: 92/300, Step: 87000, D Loss: 1.9453155994415283, G Loss: 1.2188494205474854\n",
      "Epoch: 93/300, Step: 88000, D Loss: 2.023373603820801, G Loss: 1.8369605541229248\n",
      "Epoch: 94/300, Step: 89000, D Loss: 1.7993230819702148, G Loss: 2.12699031829834\n",
      "Epoch: 96/300, Step: 90000, D Loss: 2.1856038570404053, G Loss: 1.958314061164856\n",
      "Epoch: 97/300, Step: 91000, D Loss: 1.7982702255249023, G Loss: 2.2310407161712646\n",
      "Epoch: 98/300, Step: 92000, D Loss: 1.7931902408599854, G Loss: 2.0448849201202393\n",
      "Epoch: 99/300, Step: 93000, D Loss: 1.7221027612686157, G Loss: 2.8167667388916016\n",
      "Epoch: 100/300, Step: 94000, D Loss: 2.2178092002868652, G Loss: 1.7435911893844604\n",
      "Epoch: 101/300, Step: 95000, D Loss: 1.9209327697753906, G Loss: 2.5950400829315186\n",
      "Epoch: 102/300, Step: 96000, D Loss: 2.0349578857421875, G Loss: 1.6067625284194946\n",
      "Epoch: 103/300, Step: 97000, D Loss: 1.7588257789611816, G Loss: 1.8586820363998413\n",
      "Epoch: 104/300, Step: 98000, D Loss: 1.9308979511260986, G Loss: 1.6302529573440552\n",
      "Epoch: 105/300, Step: 99000, D Loss: 1.9893743991851807, G Loss: 1.9053421020507812\n",
      "Epoch: 106/300, Step: 100000, D Loss: 1.625538945198059, G Loss: 1.1553394794464111\n"
     ]
    },
    {
     "name": "stdout",
     "output_type": "stream",
     "text": [
      "Epoch: 107/300, Step: 101000, D Loss: 1.688525915145874, G Loss: 3.0105607509613037\n",
      "Epoch: 108/300, Step: 102000, D Loss: 2.071834087371826, G Loss: 1.4367623329162598\n",
      "Epoch: 109/300, Step: 103000, D Loss: 1.7366586923599243, G Loss: 2.517975330352783\n",
      "Epoch: 110/300, Step: 104000, D Loss: 2.246958017349243, G Loss: 2.3840577602386475\n",
      "Epoch: 112/300, Step: 105000, D Loss: 2.078842878341675, G Loss: 2.1413705348968506\n",
      "Epoch: 113/300, Step: 106000, D Loss: 2.2253687381744385, G Loss: 1.3380357027053833\n",
      "Epoch: 114/300, Step: 107000, D Loss: 1.9181996583938599, G Loss: 0.7760651111602783\n",
      "Epoch: 115/300, Step: 108000, D Loss: 2.185868740081787, G Loss: 2.3104326725006104\n",
      "Epoch: 116/300, Step: 109000, D Loss: 1.8771471977233887, G Loss: 2.297456741333008\n",
      "Epoch: 117/300, Step: 110000, D Loss: 1.6639037132263184, G Loss: 2.6569411754608154\n",
      "Epoch: 118/300, Step: 111000, D Loss: 1.8093984127044678, G Loss: 1.5812029838562012\n",
      "Epoch: 119/300, Step: 112000, D Loss: 1.9695311784744263, G Loss: 2.727433681488037\n",
      "Epoch: 120/300, Step: 113000, D Loss: 1.976604700088501, G Loss: 2.276919364929199\n",
      "Epoch: 121/300, Step: 114000, D Loss: 1.9380759000778198, G Loss: 2.2640676498413086\n",
      "Epoch: 122/300, Step: 115000, D Loss: 1.8661350011825562, G Loss: 2.1873514652252197\n",
      "Epoch: 123/300, Step: 116000, D Loss: 1.843045949935913, G Loss: 2.1439411640167236\n",
      "Epoch: 124/300, Step: 117000, D Loss: 1.7598026990890503, G Loss: 1.759399652481079\n",
      "Epoch: 125/300, Step: 118000, D Loss: 1.6985875368118286, G Loss: 1.7848753929138184\n",
      "Epoch: 126/300, Step: 119000, D Loss: 1.791172742843628, G Loss: 1.8180798292160034\n",
      "Epoch: 128/300, Step: 120000, D Loss: 1.619347333908081, G Loss: 1.5083281993865967\n",
      "Epoch: 129/300, Step: 121000, D Loss: 2.4362542629241943, G Loss: 1.4423165321350098\n",
      "Epoch: 130/300, Step: 122000, D Loss: 1.6169735193252563, G Loss: 1.6805932521820068\n",
      "Epoch: 131/300, Step: 123000, D Loss: 1.7717549800872803, G Loss: 1.7713583707809448\n",
      "Epoch: 132/300, Step: 124000, D Loss: 1.7397867441177368, G Loss: 1.8575748205184937\n",
      "Epoch: 133/300, Step: 125000, D Loss: 1.9872174263000488, G Loss: 1.739208459854126\n",
      "Epoch: 134/300, Step: 126000, D Loss: 2.0390238761901855, G Loss: 2.0960464477539062\n",
      "Epoch: 135/300, Step: 127000, D Loss: 2.1068172454833984, G Loss: 0.7868956923484802\n",
      "Epoch: 136/300, Step: 128000, D Loss: 1.340127944946289, G Loss: 2.712625503540039\n",
      "Epoch: 137/300, Step: 129000, D Loss: 2.205498695373535, G Loss: 2.579035758972168\n",
      "Epoch: 138/300, Step: 130000, D Loss: 2.0561065673828125, G Loss: 2.2632791996002197\n",
      "Epoch: 139/300, Step: 131000, D Loss: 1.598515510559082, G Loss: 1.751245379447937\n",
      "Epoch: 140/300, Step: 132000, D Loss: 1.5870977640151978, G Loss: 2.1237893104553223\n",
      "Epoch: 141/300, Step: 133000, D Loss: 1.9809412956237793, G Loss: 1.446307897567749\n",
      "Epoch: 143/300, Step: 134000, D Loss: 1.4367473125457764, G Loss: 1.4737626314163208\n",
      "Epoch: 144/300, Step: 135000, D Loss: 1.5249375104904175, G Loss: 1.5479249954223633\n",
      "Epoch: 145/300, Step: 136000, D Loss: 1.5780390501022339, G Loss: 1.8620525598526\n",
      "Epoch: 146/300, Step: 137000, D Loss: 1.7772024869918823, G Loss: 1.3953560590744019\n",
      "Epoch: 147/300, Step: 138000, D Loss: 2.0007920265197754, G Loss: 1.0311397314071655\n",
      "Epoch: 148/300, Step: 139000, D Loss: 1.409652829170227, G Loss: 1.4566311836242676\n",
      "Epoch: 149/300, Step: 140000, D Loss: 1.7678734064102173, G Loss: 1.874530553817749\n",
      "Epoch: 150/300, Step: 141000, D Loss: 1.7193984985351562, G Loss: 1.7772222757339478\n",
      "Epoch: 151/300, Step: 142000, D Loss: 1.5421266555786133, G Loss: 2.0896191596984863\n",
      "Epoch: 152/300, Step: 143000, D Loss: 1.952681064605713, G Loss: 2.0840036869049072\n",
      "Epoch: 153/300, Step: 144000, D Loss: 1.5731176137924194, G Loss: 1.5338237285614014\n",
      "Epoch: 154/300, Step: 145000, D Loss: 1.4355506896972656, G Loss: 2.1495797634124756\n",
      "Epoch: 155/300, Step: 146000, D Loss: 1.1407123804092407, G Loss: 1.7596720457077026\n",
      "Epoch: 156/300, Step: 147000, D Loss: 1.9871861934661865, G Loss: 1.5605096817016602\n",
      "Epoch: 157/300, Step: 148000, D Loss: 1.4860827922821045, G Loss: 1.3948233127593994\n",
      "Epoch: 159/300, Step: 149000, D Loss: 1.9371631145477295, G Loss: 1.462904453277588\n",
      "Epoch: 160/300, Step: 150000, D Loss: 1.543148398399353, G Loss: 1.0604609251022339\n",
      "Epoch: 161/300, Step: 151000, D Loss: 1.6113903522491455, G Loss: 2.6249840259552\n",
      "Epoch: 162/300, Step: 152000, D Loss: 1.7531230449676514, G Loss: 1.374248743057251\n",
      "Epoch: 163/300, Step: 153000, D Loss: 1.893376111984253, G Loss: 1.8268680572509766\n",
      "Epoch: 164/300, Step: 154000, D Loss: 1.4805396795272827, G Loss: 1.5295239686965942\n",
      "Epoch: 165/300, Step: 155000, D Loss: 2.1739351749420166, G Loss: 2.512023687362671\n",
      "Epoch: 166/300, Step: 156000, D Loss: 1.5205618143081665, G Loss: 1.9069857597351074\n",
      "Epoch: 167/300, Step: 157000, D Loss: 1.5641343593597412, G Loss: 1.4138681888580322\n",
      "Epoch: 168/300, Step: 158000, D Loss: 2.059786558151245, G Loss: 2.0894038677215576\n",
      "Epoch: 169/300, Step: 159000, D Loss: 1.6311362981796265, G Loss: 1.2110681533813477\n",
      "Epoch: 170/300, Step: 160000, D Loss: 1.5189708471298218, G Loss: 1.8475217819213867\n",
      "Epoch: 171/300, Step: 161000, D Loss: 1.6891908645629883, G Loss: 2.534611701965332\n",
      "Epoch: 172/300, Step: 162000, D Loss: 1.435321569442749, G Loss: 1.210602879524231\n",
      "Epoch: 173/300, Step: 163000, D Loss: 1.4236531257629395, G Loss: 1.7297303676605225\n",
      "Epoch: 175/300, Step: 164000, D Loss: 1.3523616790771484, G Loss: 1.5222089290618896\n",
      "Epoch: 176/300, Step: 165000, D Loss: 1.706963300704956, G Loss: 1.3505582809448242\n",
      "Epoch: 177/300, Step: 166000, D Loss: 1.3412458896636963, G Loss: 2.0815463066101074\n",
      "Epoch: 178/300, Step: 167000, D Loss: 1.8073515892028809, G Loss: 1.8926979303359985\n",
      "Epoch: 179/300, Step: 168000, D Loss: 1.6792218685150146, G Loss: 2.2389307022094727\n",
      "Epoch: 180/300, Step: 169000, D Loss: 1.8503092527389526, G Loss: 1.7115164995193481\n",
      "Epoch: 181/300, Step: 170000, D Loss: 1.8164262771606445, G Loss: 1.983832597732544\n",
      "Epoch: 182/300, Step: 171000, D Loss: 1.610850214958191, G Loss: 0.880027174949646\n",
      "Epoch: 183/300, Step: 172000, D Loss: 1.5714374780654907, G Loss: 2.0651097297668457\n",
      "Epoch: 184/300, Step: 173000, D Loss: 1.2634104490280151, G Loss: 1.1062592267990112\n",
      "Epoch: 185/300, Step: 174000, D Loss: 1.549072027206421, G Loss: 2.101595878601074\n",
      "Epoch: 186/300, Step: 175000, D Loss: 1.275848150253296, G Loss: 1.8603768348693848\n",
      "Epoch: 187/300, Step: 176000, D Loss: 1.5626487731933594, G Loss: 1.5990642309188843\n",
      "Epoch: 188/300, Step: 177000, D Loss: 1.3747535943984985, G Loss: 1.9219980239868164\n",
      "Epoch: 189/300, Step: 178000, D Loss: 1.904274821281433, G Loss: 0.9359809160232544\n",
      "Epoch: 191/300, Step: 179000, D Loss: 1.5611958503723145, G Loss: 2.4050986766815186\n",
      "Epoch: 192/300, Step: 180000, D Loss: 1.4581806659698486, G Loss: 2.063706159591675\n",
      "Epoch: 193/300, Step: 181000, D Loss: 1.1966331005096436, G Loss: 1.3716421127319336\n",
      "Epoch: 194/300, Step: 182000, D Loss: 1.525113821029663, G Loss: 1.642288327217102\n",
      "Epoch: 195/300, Step: 183000, D Loss: 1.35630202293396, G Loss: 1.8804820775985718\n",
      "Epoch: 196/300, Step: 184000, D Loss: 1.5059988498687744, G Loss: 2.1371803283691406\n",
      "Epoch: 197/300, Step: 185000, D Loss: 1.5308135747909546, G Loss: 2.13374400138855\n",
      "Epoch: 198/300, Step: 186000, D Loss: 1.3678842782974243, G Loss: 1.4799480438232422\n",
      "Epoch: 199/300, Step: 187000, D Loss: 1.222024917602539, G Loss: 2.537475824356079\n",
      "Epoch: 200/300, Step: 188000, D Loss: 1.6432437896728516, G Loss: 1.7324031591415405\n",
      "Epoch: 201/300, Step: 189000, D Loss: 1.4666616916656494, G Loss: 1.6065409183502197\n",
      "Epoch: 202/300, Step: 190000, D Loss: 1.379746437072754, G Loss: 1.6746768951416016\n",
      "Epoch: 203/300, Step: 191000, D Loss: 1.8862825632095337, G Loss: 1.1378296613693237\n",
      "Epoch: 204/300, Step: 192000, D Loss: 1.4471828937530518, G Loss: 1.7887475490570068\n",
      "Epoch: 205/300, Step: 193000, D Loss: 1.65283203125, G Loss: 1.9460961818695068\n",
      "Epoch: 207/300, Step: 194000, D Loss: 1.3560839891433716, G Loss: 2.494173049926758\n",
      "Epoch: 208/300, Step: 195000, D Loss: 1.7047755718231201, G Loss: 2.1178455352783203\n",
      "Epoch: 209/300, Step: 196000, D Loss: 1.8087692260742188, G Loss: 1.687799334526062\n",
      "Epoch: 210/300, Step: 197000, D Loss: 1.711640477180481, G Loss: 2.001962423324585\n",
      "Epoch: 211/300, Step: 198000, D Loss: 1.6124731302261353, G Loss: 2.3095223903656006\n"
     ]
    },
    {
     "name": "stdout",
     "output_type": "stream",
     "text": [
      "Epoch: 212/300, Step: 199000, D Loss: 1.6205874681472778, G Loss: 1.7785515785217285\n",
      "Epoch: 213/300, Step: 200000, D Loss: 1.9641838073730469, G Loss: 1.1473100185394287\n",
      "Epoch: 214/300, Step: 201000, D Loss: 1.2453465461730957, G Loss: 1.3317583799362183\n",
      "Epoch: 215/300, Step: 202000, D Loss: 1.8684091567993164, G Loss: 1.5077457427978516\n",
      "Epoch: 216/300, Step: 203000, D Loss: 1.5113515853881836, G Loss: 0.852348804473877\n",
      "Epoch: 217/300, Step: 204000, D Loss: 1.5024529695510864, G Loss: 1.3097288608551025\n",
      "Epoch: 218/300, Step: 205000, D Loss: 1.7717453241348267, G Loss: 1.8582208156585693\n",
      "Epoch: 219/300, Step: 206000, D Loss: 1.3914272785186768, G Loss: 1.7953325510025024\n",
      "Epoch: 220/300, Step: 207000, D Loss: 1.3503193855285645, G Loss: 1.3766549825668335\n",
      "Epoch: 221/300, Step: 208000, D Loss: 1.1814839839935303, G Loss: 2.0843772888183594\n",
      "Epoch: 223/300, Step: 209000, D Loss: 1.7548142671585083, G Loss: 1.7744446992874146\n",
      "Epoch: 224/300, Step: 210000, D Loss: 1.4989140033721924, G Loss: 2.0758774280548096\n",
      "Epoch: 225/300, Step: 211000, D Loss: 1.7784698009490967, G Loss: 1.5330721139907837\n",
      "Epoch: 226/300, Step: 212000, D Loss: 0.7806247472763062, G Loss: 1.5452587604522705\n",
      "Epoch: 227/300, Step: 213000, D Loss: 1.6834654808044434, G Loss: 1.9827626943588257\n",
      "Epoch: 228/300, Step: 214000, D Loss: 1.1581984758377075, G Loss: 1.8389301300048828\n",
      "Epoch: 229/300, Step: 215000, D Loss: 1.821482539176941, G Loss: 1.8553920984268188\n",
      "Epoch: 230/300, Step: 216000, D Loss: 1.4286367893218994, G Loss: 1.8563579320907593\n",
      "Epoch: 231/300, Step: 217000, D Loss: 1.8034729957580566, G Loss: 1.6474381685256958\n",
      "Epoch: 232/300, Step: 218000, D Loss: 1.416000485420227, G Loss: 1.5440229177474976\n",
      "Epoch: 233/300, Step: 219000, D Loss: 1.3393810987472534, G Loss: 1.2289808988571167\n",
      "Epoch: 234/300, Step: 220000, D Loss: 1.5153833627700806, G Loss: 1.6022930145263672\n",
      "Epoch: 235/300, Step: 221000, D Loss: 1.3669267892837524, G Loss: 1.597522258758545\n",
      "Epoch: 236/300, Step: 222000, D Loss: 1.0856916904449463, G Loss: 1.8039342164993286\n",
      "Epoch: 237/300, Step: 223000, D Loss: 1.204289436340332, G Loss: 1.7535392045974731\n",
      "Epoch: 239/300, Step: 224000, D Loss: 1.2622363567352295, G Loss: 2.1055123805999756\n",
      "Epoch: 240/300, Step: 225000, D Loss: 1.2101179361343384, G Loss: 1.9670085906982422\n",
      "Epoch: 241/300, Step: 226000, D Loss: 1.8275576829910278, G Loss: 1.285841464996338\n",
      "Epoch: 242/300, Step: 227000, D Loss: 1.1296483278274536, G Loss: 1.241722822189331\n",
      "Epoch: 243/300, Step: 228000, D Loss: 1.0723916292190552, G Loss: 1.8665508031845093\n",
      "Epoch: 244/300, Step: 229000, D Loss: 1.7333189249038696, G Loss: 1.6988389492034912\n",
      "Epoch: 245/300, Step: 230000, D Loss: 1.6326780319213867, G Loss: 1.820880651473999\n",
      "Epoch: 246/300, Step: 231000, D Loss: 1.7228232622146606, G Loss: 2.0528926849365234\n",
      "Epoch: 247/300, Step: 232000, D Loss: 1.5420918464660645, G Loss: 1.9082990884780884\n",
      "Epoch: 248/300, Step: 233000, D Loss: 1.2565184831619263, G Loss: 1.5914748907089233\n",
      "Epoch: 249/300, Step: 234000, D Loss: 1.3347594738006592, G Loss: 1.4834944009780884\n",
      "Epoch: 250/300, Step: 235000, D Loss: 1.5293488502502441, G Loss: 1.1147699356079102\n",
      "Epoch: 251/300, Step: 236000, D Loss: 1.3905010223388672, G Loss: 2.037867784500122\n",
      "Epoch: 252/300, Step: 237000, D Loss: 1.4334628582000732, G Loss: 1.4065808057785034\n",
      "Epoch: 254/300, Step: 238000, D Loss: 1.4296011924743652, G Loss: 1.1307066679000854\n",
      "Epoch: 255/300, Step: 239000, D Loss: 1.6846462488174438, G Loss: 1.6748889684677124\n",
      "Epoch: 256/300, Step: 240000, D Loss: 1.4306632280349731, G Loss: 1.6860064268112183\n",
      "Epoch: 257/300, Step: 241000, D Loss: 1.4787838459014893, G Loss: 1.8849620819091797\n",
      "Epoch: 258/300, Step: 242000, D Loss: 1.222196102142334, G Loss: 1.4067946672439575\n",
      "Epoch: 259/300, Step: 243000, D Loss: 1.173553705215454, G Loss: 1.2195966243743896\n",
      "Epoch: 260/300, Step: 244000, D Loss: 1.3066842555999756, G Loss: 1.9727445840835571\n",
      "Epoch: 261/300, Step: 245000, D Loss: 1.7416317462921143, G Loss: 1.9208550453186035\n",
      "Epoch: 262/300, Step: 246000, D Loss: 1.1526364088058472, G Loss: 1.8409364223480225\n",
      "Epoch: 263/300, Step: 247000, D Loss: 1.0231900215148926, G Loss: 0.9494013786315918\n",
      "Epoch: 264/300, Step: 248000, D Loss: 1.3549782037734985, G Loss: 2.2474679946899414\n",
      "Epoch: 265/300, Step: 249000, D Loss: 1.4163628816604614, G Loss: 2.2160816192626953\n",
      "Epoch: 266/300, Step: 250000, D Loss: 1.1012396812438965, G Loss: 1.3360717296600342\n",
      "Epoch: 267/300, Step: 251000, D Loss: 1.3310261964797974, G Loss: 2.0554752349853516\n",
      "Epoch: 268/300, Step: 252000, D Loss: 1.288074254989624, G Loss: 0.7074187397956848\n",
      "Epoch: 270/300, Step: 253000, D Loss: 1.9022650718688965, G Loss: 1.2635408639907837\n",
      "Epoch: 271/300, Step: 254000, D Loss: 0.9415063858032227, G Loss: 1.228484869003296\n",
      "Epoch: 272/300, Step: 255000, D Loss: 1.4938102960586548, G Loss: 2.089738368988037\n",
      "Epoch: 273/300, Step: 256000, D Loss: 1.6645768880844116, G Loss: 0.7119671702384949\n",
      "Epoch: 274/300, Step: 257000, D Loss: 1.2927534580230713, G Loss: 1.2020745277404785\n",
      "Epoch: 275/300, Step: 258000, D Loss: 1.273518443107605, G Loss: 2.0407352447509766\n",
      "Epoch: 276/300, Step: 259000, D Loss: 1.1706340312957764, G Loss: 1.8082797527313232\n",
      "Epoch: 277/300, Step: 260000, D Loss: 1.2023826837539673, G Loss: 1.371077537536621\n",
      "Epoch: 278/300, Step: 261000, D Loss: 1.2239900827407837, G Loss: 1.9741926193237305\n",
      "Epoch: 279/300, Step: 262000, D Loss: 1.4759494066238403, G Loss: 0.7943252921104431\n",
      "Epoch: 280/300, Step: 263000, D Loss: 1.2884435653686523, G Loss: 1.5838266611099243\n",
      "Epoch: 281/300, Step: 264000, D Loss: 1.2708492279052734, G Loss: 1.445771336555481\n",
      "Epoch: 282/300, Step: 265000, D Loss: 0.9124244451522827, G Loss: 1.197651982307434\n",
      "Epoch: 283/300, Step: 266000, D Loss: 1.371101975440979, G Loss: 1.501841425895691\n",
      "Epoch: 284/300, Step: 267000, D Loss: 1.2150616645812988, G Loss: 1.3555524349212646\n",
      "Epoch: 286/300, Step: 268000, D Loss: 1.8354450464248657, G Loss: 1.896274209022522\n",
      "Epoch: 287/300, Step: 269000, D Loss: 1.6050910949707031, G Loss: 2.379845142364502\n",
      "Epoch: 288/300, Step: 270000, D Loss: 1.312198519706726, G Loss: 1.3272862434387207\n",
      "Epoch: 289/300, Step: 271000, D Loss: 1.261145830154419, G Loss: 2.360563039779663\n",
      "Epoch: 290/300, Step: 272000, D Loss: 1.0771600008010864, G Loss: 1.8700745105743408\n",
      "Epoch: 291/300, Step: 273000, D Loss: 1.3115041255950928, G Loss: 2.2330541610717773\n",
      "Epoch: 292/300, Step: 274000, D Loss: 1.160628318786621, G Loss: 2.2823731899261475\n",
      "Epoch: 293/300, Step: 275000, D Loss: 1.5935695171356201, G Loss: 1.7499960660934448\n",
      "Epoch: 294/300, Step: 276000, D Loss: 1.1880650520324707, G Loss: 1.1532912254333496\n",
      "Epoch: 295/300, Step: 277000, D Loss: 1.6126630306243896, G Loss: 1.7433022260665894\n",
      "Epoch: 296/300, Step: 278000, D Loss: 1.228559970855713, G Loss: 1.494549036026001\n",
      "Epoch: 297/300, Step: 279000, D Loss: 1.2255005836486816, G Loss: 1.3585950136184692\n",
      "Epoch: 298/300, Step: 280000, D Loss: 1.0279393196105957, G Loss: 1.5785027742385864\n",
      "Epoch: 299/300, Step: 281000, D Loss: 1.48585844039917, G Loss: 1.8695032596588135\n"
     ]
    }
   ],
   "source": [
    "for epoch in range(max_epoch):\n",
    "    for idx, (images, labels) in enumerate(data_loader):\n",
    "        step += 1\n",
    "                   \n",
    "        ## Training Discriminator\n",
    "        # Real data\n",
    "        x = to_cuda(images)\n",
    "        \n",
    "        # Sampling\n",
    "        z = to_cuda(torch.randn(batch_size, n_noise))\n",
    "        x_fake = G(z)\n",
    "                \n",
    "        # Gradient Penalty (e.g. gradients w.r.t x_penalty)\n",
    "        eps = to_cuda(torch.rand(batch_size, 1, 1, 1)) # x shape: (64, 1, 28, 28)\n",
    "        x_penalty = eps*x + (1-eps)*x_fake\n",
    "        x_penalty = x_penalty.view(x_penalty.size(0), -1)\n",
    "        p_outputs = D(x_penalty)\n",
    "        xp_grad = autograd.grad(outputs=p_outputs, inputs=x_penalty, grad_outputs=D_labels,\n",
    "                                create_graph=True, retain_graph=True, only_inputs=True)\n",
    "        grad_penalty = p_coeff * torch.mean(torch.pow(torch.norm(xp_grad[0], 2, 1) - 1, 2))\n",
    "        \n",
    "        # Wasserstein loss\n",
    "        x_outputs = D(x)\n",
    "        z_outputs = D(x_fake)\n",
    "        D_x_loss = torch.mean(x_outputs)\n",
    "        D_z_loss = torch.mean(z_outputs)\n",
    "        D_loss = D_z_loss - D_x_loss + grad_penalty\n",
    "        \n",
    "        D.zero_grad()\n",
    "        D_loss.backward()\n",
    "        D_opt.step()\n",
    "                    \n",
    "        if step % n_critic(g_step) == 0:\n",
    "            g_step += 1\n",
    "            # Training Generator\n",
    "            z = to_cuda(torch.randn(batch_size, n_noise))\n",
    "            z_outputs = D(G(z))\n",
    "            G_loss = torch.mean(-z_outputs, 0)\n",
    "\n",
    "            D.zero_grad()\n",
    "            G.zero_grad()\n",
    "            G_loss.backward()\n",
    "            G_opt.step()\n",
    "        \n",
    "        if step % 1000 == 0:\n",
    "            print('Epoch: {}/{}, Step: {}, D Loss: {}, G Loss: {}'.format(epoch, max_epoch, step, -D_loss.data[0], -G_loss.data[0]))\n",
    "            \n",
    "        if epoch % 5 == 0:\n",
    "            G.eval()\n",
    "            img = get_sample_image(G)\n",
    "            scipy.misc.imsave('sample/{}_epoch_{}_type1.jpg'.format(MODEL_NAME, epoch), img)\n",
    "            G.train()"
   ]
  },
  {
   "cell_type": "code",
   "execution_count": null,
   "metadata": {
    "collapsed": true
   },
   "outputs": [],
   "source": []
  },
  {
   "cell_type": "markdown",
   "metadata": {},
   "source": [
    "## Sample"
   ]
  },
  {
   "cell_type": "code",
   "execution_count": 20,
   "metadata": {
    "collapsed": true
   },
   "outputs": [],
   "source": [
    "import scipy.misc"
   ]
  },
  {
   "cell_type": "code",
   "execution_count": 25,
   "metadata": {},
   "outputs": [
    {
     "name": "stderr",
     "output_type": "stream",
     "text": [
      "/home/yangyangii/anaconda3/lib/python3.6/site-packages/ipykernel_launcher.py:3: DeprecationWarning: `toimage` is deprecated!\n",
      "`toimage` is deprecated in SciPy 1.0.0, and will be removed in 1.2.0.\n",
      "Use Pillow's ``Image.fromarray`` directly instead.\n",
      "  This is separate from the ipykernel package so we can avoid doing imports until\n"
     ]
    },
    {
     "data": {
      "image/png": "[encoded data removed]",
      "text/plain": [
       "<PIL.Image.Image image mode=L size=280x280 at 0x7FFAA80411D0>"
      ]
     },
     "execution_count": 25,
     "metadata": {},
     "output_type": "execute_result"
    }
   ],
   "source": [
    "# generation to image\n",
    "G.eval()\n",
    "scipy.misc.toimage(get_sample_image(G))"
   ]
  },
  {
   "cell_type": "code",
   "execution_count": 160,
   "metadata": {
    "scrolled": true
   },
   "outputs": [
    {
     "name": "stderr",
     "output_type": "stream",
     "text": [
      "/home/yangyangii/anaconda3/lib/python3.6/site-packages/ipykernel_launcher.py:5: DeprecationWarning: `toimage` is deprecated!\n",
      "`toimage` is deprecated in SciPy 1.0.0, and will be removed in 1.2.0.\n",
      "Use Pillow's ``Image.fromarray`` directly instead.\n",
      "  \"\"\"\n"
     ]
    },
    {
     "data": {
      "image/png": "[encoded data removed]",
      "text/plain": [
       "<PIL.Image.Image image mode=L size=28x28 at 0x7F403EB41550>"
      ]
     },
     "execution_count": 160,
     "metadata": {},
     "output_type": "execute_result"
    }
   ],
   "source": [
    "# generation to image\n",
    "z = to_cuda(torch.randn(1, n_noise))\n",
    "fakeimg = G(z).view(28, 28)\n",
    "img = fakeimg.cpu().data.numpy()\n",
    "scipy.misc.toimage(img)"
   ]
  },
  {
   "cell_type": "code",
   "execution_count": 15,
   "metadata": {
    "collapsed": true
   },
   "outputs": [],
   "source": [
    "def save_checkpoint(state, file_name='checkpoint.pth.tar'):\n",
    "    torch.save(state, file_name)"
   ]
  },
  {
   "cell_type": "code",
   "execution_count": 16,
   "metadata": {
    "collapsed": true
   },
   "outputs": [],
   "source": [
    "# Saving params.\n",
    "# torch.save(D.state_dict(), 'D_c.pkl')\n",
    "# torch.save(G.state_dict(), 'G_c.pkl')\n",
    "save_checkpoint({'epoch': epoch + 1, 'state_dict':D.state_dict(), 'optimizer' : D_opt.state_dict()}, 'D_gp.pth.tar')\n",
    "save_checkpoint({'epoch': epoch + 1, 'state_dict':G.state_dict(), 'optimizer' : G_opt.state_dict()}, 'G_gp.pth.tar')"
   ]
  },
  {
   "cell_type": "code",
   "execution_count": null,
   "metadata": {
    "collapsed": true
   },
   "outputs": [],
   "source": []
  }
 ],
 "metadata": {
  "kernelspec": {
   "display_name": "Python 3",
   "language": "python",
   "name": "python3"
  },
  "language_info": {
   "codemirror_mode": {
    "name": "ipython",
    "version": 3
   },
   "file_extension": ".py",
   "mimetype": "text/x-python",
   "name": "python",
   "nbconvert_exporter": "python",
   "pygments_lexer": "ipython3",
   "version": "3.6.1"
  }
 },
 "nbformat": 4,
 "nbformat_minor": 2
}
