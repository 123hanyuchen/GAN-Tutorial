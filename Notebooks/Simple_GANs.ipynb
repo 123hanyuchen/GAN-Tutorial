{
 "cells": [
  {
   "cell_type": "markdown",
   "metadata": {},
   "source": [
    "# Implementation of Vanilla GANs model\n",
    "Reference: https://arxiv.org/pdf/1406.2661.pdf"
   ]
  },
  {
   "cell_type": "code",
   "execution_count": 1,
   "metadata": {
    "collapsed": true
   },
   "outputs": [],
   "source": [
    "import torch\n",
    "import torchvision\n",
    "import torch.nn as nn\n",
    "import torch.nn.functional as F"
   ]
  },
  {
   "cell_type": "code",
   "execution_count": 2,
   "metadata": {
    "collapsed": true
   },
   "outputs": [],
   "source": [
    "from torch.utils.data import DataLoader\n",
    "from torchvision import datasets\n",
    "from torchvision import transforms\n",
    "from torchvision.utils import save_image"
   ]
  },
  {
   "cell_type": "code",
   "execution_count": 3,
   "metadata": {
    "collapsed": true
   },
   "outputs": [],
   "source": [
    "import numpy as np\n",
    "import datetime\n",
    "import scipy.misc"
   ]
  },
  {
   "cell_type": "code",
   "execution_count": 4,
   "metadata": {
    "collapsed": true
   },
   "outputs": [],
   "source": [
    "MODEL_NAME = 'VanillaGAN'\n",
    "DEVICE = torch.device(\"cuda:0\" if torch.cuda.is_available() else \"cpu\")"
   ]
  },
  {
   "cell_type": "code",
   "execution_count": 5,
   "metadata": {
    "collapsed": true
   },
   "outputs": [],
   "source": [
    "def to_cuda(x):\n",
    "    return x.to(DEVICE)"
   ]
  },
  {
   "cell_type": "code",
   "execution_count": 6,
   "metadata": {
    "collapsed": true
   },
   "outputs": [],
   "source": [
    "def get_sample_image(G, n_noise=100):\n",
    "    \"\"\"\n",
    "        save sample 100 images\n",
    "    \"\"\"\n",
    "    for num in range(10):\n",
    "        for i in range(10):\n",
    "            z = to_cuda(torch.randn(1, n_noise))\n",
    "            y_hat = G(z)\n",
    "            line_img = torch.cat((line_img, y_hat.view(28, 28)), dim=1) if i > 0 else y_hat.view(28, 28)\n",
    "        all_img = torch.cat((all_img, line_img), dim=0) if num > 0 else line_img\n",
    "    img = all_img.cpu().data.numpy()\n",
    "    return img"
   ]
  },
  {
   "cell_type": "code",
   "execution_count": 7,
   "metadata": {
    "collapsed": true
   },
   "outputs": [],
   "source": [
    "class Discriminator(nn.Module):\n",
    "    \"\"\"\n",
    "        Simple Discriminator w/ MLP\n",
    "    \"\"\"\n",
    "    def __init__(self, input_size=784, num_classes=1):\n",
    "        super(Discriminator, self).__init__()\n",
    "        self.layer1 = nn.Sequential(\n",
    "            nn.Linear(input_size, 200),\n",
    "            nn.ReLU(),\n",
    "            nn.Dropout(),\n",
    "        )\n",
    "        self.layer2 = nn.Sequential(\n",
    "            nn.Linear(200, 200),\n",
    "            nn.ReLU(),\n",
    "            nn.Dropout(),\n",
    "        )\n",
    "        self.layer3 = nn.Sequential(\n",
    "            nn.Linear(200, num_classes),\n",
    "            nn.Sigmoid(),\n",
    "        )\n",
    "    \n",
    "    def forward(self, x):\n",
    "        y_ = x.view(x.size(0), -1)\n",
    "        y_ = self.layer1(y_)\n",
    "        y_ = self.layer2(y_)\n",
    "        y_ = self.layer3(y_)\n",
    "        return y_"
   ]
  },
  {
   "cell_type": "code",
   "execution_count": 8,
   "metadata": {
    "collapsed": true
   },
   "outputs": [],
   "source": [
    "class Generator(nn.Module):\n",
    "    \"\"\"\n",
    "        Simple Generator w/ MLP\n",
    "    \"\"\"\n",
    "    def __init__(self, input_size=100, num_classes=784):\n",
    "        super(Generator, self).__init__()\n",
    "        self.layer = nn.Sequential(\n",
    "            nn.Linear(input_size, 200),\n",
    "            nn.LeakyReLU(0.2),\n",
    "            nn.Linear(200, 200),\n",
    "            nn.LeakyReLU(0.2),\n",
    "            nn.Linear(200, num_classes),\n",
    "            nn.Tanh()\n",
    "        )\n",
    "        \n",
    "    def forward(self, x):\n",
    "        y_ = self.layer(x)\n",
    "        y_ = y_.view(x.size(0), 1, 28, 28)\n",
    "        return y_"
   ]
  },
  {
   "cell_type": "code",
   "execution_count": 9,
   "metadata": {
    "collapsed": true
   },
   "outputs": [],
   "source": [
    "D = to_cuda(Discriminator())\n",
    "G = to_cuda(Generator())"
   ]
  },
  {
   "cell_type": "code",
   "execution_count": 10,
   "metadata": {
    "collapsed": true
   },
   "outputs": [],
   "source": [
    "transform = transforms.Compose([transforms.ToTensor(),\n",
    "                                transforms.Normalize(mean=(0.5, 0.5, 0.5),\n",
    "                                std=(0.5, 0.5, 0.5))]\n",
    ")"
   ]
  },
  {
   "cell_type": "code",
   "execution_count": 11,
   "metadata": {
    "collapsed": true
   },
   "outputs": [],
   "source": [
    "mnist = datasets.MNIST(root='../data/', train=True, transform=transform, download=True)"
   ]
  },
  {
   "cell_type": "code",
   "execution_count": 12,
   "metadata": {
    "collapsed": true
   },
   "outputs": [],
   "source": [
    "batch_size = 64"
   ]
  },
  {
   "cell_type": "code",
   "execution_count": 13,
   "metadata": {
    "collapsed": true
   },
   "outputs": [],
   "source": [
    "data_loader = DataLoader(dataset=mnist, batch_size=batch_size, shuffle=True, drop_last=True)"
   ]
  },
  {
   "cell_type": "code",
   "execution_count": 14,
   "metadata": {
    "collapsed": true
   },
   "outputs": [],
   "source": [
    "criterion = nn.BCELoss()\n",
    "D_opt = torch.optim.Adam(D.parameters())\n",
    "G_opt = torch.optim.Adam(G.parameters())"
   ]
  },
  {
   "cell_type": "code",
   "execution_count": 15,
   "metadata": {
    "collapsed": true
   },
   "outputs": [],
   "source": [
    "max_epoch = 100 # need more than 200 epochs for training generator\n",
    "step = 0\n",
    "n_critic = 3 # for training more k steps about Discriminator\n",
    "n_noise = 100"
   ]
  },
  {
   "cell_type": "code",
   "execution_count": 16,
   "metadata": {
    "collapsed": true
   },
   "outputs": [],
   "source": [
    "D_labels = to_cuda(torch.ones(batch_size)) # Discriminator Label to real\n",
    "D_fakes = to_cuda(torch.zeros(batch_size)) # Discriminator Label to fake"
   ]
  },
  {
   "cell_type": "code",
   "execution_count": 17,
   "metadata": {
    "scrolled": false
   },
   "outputs": [
    {
     "name": "stderr",
     "output_type": "stream",
     "text": [
      "/home/yangyangii/anaconda3/lib/python3.6/site-packages/torch/nn/functional.py:1474: UserWarning: Using a target size (torch.Size([64])) that is different to the input size (torch.Size([64, 1])) is deprecated. Please ensure they have the same size.\n",
      "  \"Please ensure they have the same size.\".format(target.size(), input.size()))\n",
      "/home/yangyangii/anaconda3/lib/python3.6/site-packages/ipykernel_launcher.py:34: DeprecationWarning: `imsave` is deprecated!\n",
      "`imsave` is deprecated in SciPy 1.0.0, and will be removed in 1.2.0.\n",
      "Use ``imageio.imwrite`` instead.\n",
      "/home/yangyangii/anaconda3/lib/python3.6/site-packages/ipykernel_launcher.py:29: UserWarning: invalid index of a 0-dim tensor. This will be an error in PyTorch 0.5. Use tensor.item() to convert a 0-dim tensor to a Python number\n"
     ]
    },
    {
     "name": "stdout",
     "output_type": "stream",
     "text": [
      "Epoch: 1/100, Step: 1000, D Loss: 0.33541572093963623, G Loss: 4.296747207641602\n",
      "Epoch: 2/100, Step: 2000, D Loss: 0.17448781430721283, G Loss: 3.1404049396514893\n",
      "Epoch: 3/100, Step: 3000, D Loss: 0.5423572063446045, G Loss: 2.0660290718078613\n",
      "Epoch: 4/100, Step: 4000, D Loss: 0.6583614349365234, G Loss: 1.8657095432281494\n",
      "Epoch: 5/100, Step: 5000, D Loss: 0.6916021108627319, G Loss: 1.7841814756393433\n",
      "Epoch: 6/100, Step: 6000, D Loss: 0.9657713174819946, G Loss: 1.2007020711898804\n",
      "Epoch: 7/100, Step: 7000, D Loss: 1.004629373550415, G Loss: 1.7700988054275513\n",
      "Epoch: 8/100, Step: 8000, D Loss: 0.8277862071990967, G Loss: 1.6284986734390259\n",
      "Epoch: 9/100, Step: 9000, D Loss: 1.0285593271255493, G Loss: 1.280022382736206\n",
      "Epoch: 10/100, Step: 10000, D Loss: 1.001978874206543, G Loss: 1.2980926036834717\n",
      "Epoch: 11/100, Step: 11000, D Loss: 0.9797093272209167, G Loss: 1.4614322185516357\n",
      "Epoch: 12/100, Step: 12000, D Loss: 0.932427167892456, G Loss: 1.3135441541671753\n",
      "Epoch: 13/100, Step: 13000, D Loss: 1.0070964097976685, G Loss: 1.1417344808578491\n",
      "Epoch: 14/100, Step: 14000, D Loss: 1.0529357194900513, G Loss: 1.0742533206939697\n",
      "Epoch: 16/100, Step: 15000, D Loss: 1.0413744449615479, G Loss: 1.0105440616607666\n",
      "Epoch: 17/100, Step: 16000, D Loss: 1.0693957805633545, G Loss: 1.237642765045166\n",
      "Epoch: 18/100, Step: 17000, D Loss: 1.1302183866500854, G Loss: 1.254404067993164\n",
      "Epoch: 19/100, Step: 18000, D Loss: 1.1051514148712158, G Loss: 1.2412358522415161\n",
      "Epoch: 20/100, Step: 19000, D Loss: 1.0191771984100342, G Loss: 1.7538810968399048\n",
      "Epoch: 21/100, Step: 20000, D Loss: 1.1269415616989136, G Loss: 1.3303426504135132\n",
      "Epoch: 22/100, Step: 21000, D Loss: 1.076927900314331, G Loss: 1.265721082687378\n",
      "Epoch: 23/100, Step: 22000, D Loss: 1.1565126180648804, G Loss: 1.2093470096588135\n",
      "Epoch: 24/100, Step: 23000, D Loss: 1.269554615020752, G Loss: 0.9212818741798401\n",
      "Epoch: 25/100, Step: 24000, D Loss: 1.276546835899353, G Loss: 0.9991540908813477\n",
      "Epoch: 26/100, Step: 25000, D Loss: 1.2940003871917725, G Loss: 0.8659529089927673\n",
      "Epoch: 27/100, Step: 26000, D Loss: 1.2455294132232666, G Loss: 0.9920907020568848\n",
      "Epoch: 28/100, Step: 27000, D Loss: 1.257861852645874, G Loss: 0.8210558891296387\n",
      "Epoch: 29/100, Step: 28000, D Loss: 1.3031527996063232, G Loss: 0.8139501810073853\n",
      "Epoch: 30/100, Step: 29000, D Loss: 1.3672798871994019, G Loss: 0.9126179218292236\n",
      "Epoch: 32/100, Step: 30000, D Loss: 1.3119386434555054, G Loss: 0.8340334296226501\n",
      "Epoch: 33/100, Step: 31000, D Loss: 1.3173191547393799, G Loss: 0.755363941192627\n",
      "Epoch: 34/100, Step: 32000, D Loss: 1.3010660409927368, G Loss: 0.9414328336715698\n",
      "Epoch: 35/100, Step: 33000, D Loss: 1.2385668754577637, G Loss: 0.8860032558441162\n",
      "Epoch: 36/100, Step: 34000, D Loss: 1.3345303535461426, G Loss: 0.7803632020950317\n",
      "Epoch: 37/100, Step: 35000, D Loss: 1.0567357540130615, G Loss: 1.2446317672729492\n",
      "Epoch: 38/100, Step: 36000, D Loss: 1.2649149894714355, G Loss: 0.903980016708374\n",
      "Epoch: 39/100, Step: 37000, D Loss: 1.1907529830932617, G Loss: 1.0777784585952759\n",
      "Epoch: 40/100, Step: 38000, D Loss: 1.301168441772461, G Loss: 0.754113495349884\n",
      "Epoch: 41/100, Step: 39000, D Loss: 1.366837501525879, G Loss: 0.7369341254234314\n",
      "Epoch: 42/100, Step: 40000, D Loss: 1.3273979425430298, G Loss: 0.7921909093856812\n",
      "Epoch: 43/100, Step: 41000, D Loss: 1.3342441320419312, G Loss: 0.9263901710510254\n",
      "Epoch: 44/100, Step: 42000, D Loss: 1.1687464714050293, G Loss: 0.9459753036499023\n",
      "Epoch: 45/100, Step: 43000, D Loss: 1.146549940109253, G Loss: 1.0379095077514648\n",
      "Epoch: 46/100, Step: 44000, D Loss: 1.3724238872528076, G Loss: 0.7276468873023987\n",
      "Epoch: 48/100, Step: 45000, D Loss: 1.3202253580093384, G Loss: 0.801790714263916\n",
      "Epoch: 49/100, Step: 46000, D Loss: 1.3052127361297607, G Loss: 1.060706615447998\n",
      "Epoch: 50/100, Step: 47000, D Loss: 1.3122508525848389, G Loss: 1.1973159313201904\n",
      "Epoch: 51/100, Step: 48000, D Loss: 1.2493222951889038, G Loss: 1.1083061695098877\n",
      "Epoch: 52/100, Step: 49000, D Loss: 1.2977705001831055, G Loss: 0.7889262437820435\n",
      "Epoch: 53/100, Step: 50000, D Loss: 1.3168460130691528, G Loss: 0.9422966837882996\n",
      "Epoch: 54/100, Step: 51000, D Loss: 1.5015685558319092, G Loss: 0.7084969282150269\n",
      "Epoch: 55/100, Step: 52000, D Loss: 1.4497182369232178, G Loss: 0.8155665993690491\n",
      "Epoch: 56/100, Step: 53000, D Loss: 1.3741121292114258, G Loss: 0.9890022873878479\n",
      "Epoch: 57/100, Step: 54000, D Loss: 1.3694007396697998, G Loss: 0.7426652908325195\n",
      "Epoch: 58/100, Step: 55000, D Loss: 1.344496726989746, G Loss: 0.7577282190322876\n",
      "Epoch: 59/100, Step: 56000, D Loss: 1.1876683235168457, G Loss: 0.9285181760787964\n",
      "Epoch: 60/100, Step: 57000, D Loss: 1.2726624011993408, G Loss: 0.7605369091033936\n",
      "Epoch: 61/100, Step: 58000, D Loss: 1.437772512435913, G Loss: 0.8398436307907104\n",
      "Epoch: 62/100, Step: 59000, D Loss: 1.2829346656799316, G Loss: 0.8243404626846313\n",
      "Epoch: 64/100, Step: 60000, D Loss: 1.1858506202697754, G Loss: 1.058357834815979\n",
      "Epoch: 65/100, Step: 61000, D Loss: 1.2970623970031738, G Loss: 0.7687842845916748\n",
      "Epoch: 66/100, Step: 62000, D Loss: 1.3422051668167114, G Loss: 0.7603018283843994\n",
      "Epoch: 67/100, Step: 63000, D Loss: 1.362657070159912, G Loss: 0.903199315071106\n",
      "Epoch: 68/100, Step: 64000, D Loss: 1.303397297859192, G Loss: 1.1727988719940186\n",
      "Epoch: 69/100, Step: 65000, D Loss: 1.342481017112732, G Loss: 0.8451741933822632\n",
      "Epoch: 70/100, Step: 66000, D Loss: 1.306968092918396, G Loss: 0.9785751104354858\n",
      "Epoch: 71/100, Step: 67000, D Loss: 1.3228604793548584, G Loss: 1.1817412376403809\n",
      "Epoch: 72/100, Step: 68000, D Loss: 1.2414534091949463, G Loss: 1.2619707584381104\n",
      "Epoch: 73/100, Step: 69000, D Loss: 1.232683539390564, G Loss: 0.8204315900802612\n",
      "Epoch: 74/100, Step: 70000, D Loss: 1.241443157196045, G Loss: 1.1504805088043213\n",
      "Epoch: 75/100, Step: 71000, D Loss: 1.3349261283874512, G Loss: 0.8155630230903625\n",
      "Epoch: 76/100, Step: 72000, D Loss: 1.2736510038375854, G Loss: 0.7912524938583374\n",
      "Epoch: 77/100, Step: 73000, D Loss: 1.2076865434646606, G Loss: 1.4237871170043945\n",
      "Epoch: 78/100, Step: 74000, D Loss: 1.4664087295532227, G Loss: 0.7709718942642212\n",
      "Epoch: 80/100, Step: 75000, D Loss: 1.3590915203094482, G Loss: 0.7499979734420776\n",
      "Epoch: 81/100, Step: 76000, D Loss: 1.2466061115264893, G Loss: 0.8471932411193848\n",
      "Epoch: 82/100, Step: 77000, D Loss: 1.299725890159607, G Loss: 0.7612779140472412\n",
      "Epoch: 83/100, Step: 78000, D Loss: 1.2820560932159424, G Loss: 0.7790352702140808\n",
      "Epoch: 84/100, Step: 79000, D Loss: 1.2800095081329346, G Loss: 0.7935656309127808\n",
      "Epoch: 85/100, Step: 80000, D Loss: 1.3376413583755493, G Loss: 1.106579303741455\n",
      "Epoch: 86/100, Step: 81000, D Loss: 1.3319146633148193, G Loss: 0.7973967790603638\n",
      "Epoch: 87/100, Step: 82000, D Loss: 1.2273207902908325, G Loss: 1.1352903842926025\n",
      "Epoch: 88/100, Step: 83000, D Loss: 1.2263191938400269, G Loss: 1.0006468296051025\n",
      "Epoch: 89/100, Step: 84000, D Loss: 1.2883129119873047, G Loss: 0.8553783893585205\n",
      "Epoch: 90/100, Step: 85000, D Loss: 1.4308363199234009, G Loss: 0.7444121241569519\n",
      "Epoch: 91/100, Step: 86000, D Loss: 1.3078866004943848, G Loss: 0.7252355813980103\n",
      "Epoch: 92/100, Step: 87000, D Loss: 1.2835605144500732, G Loss: 0.8034579753875732\n",
      "Epoch: 93/100, Step: 88000, D Loss: 1.4394447803497314, G Loss: 0.8665168285369873\n",
      "Epoch: 94/100, Step: 89000, D Loss: 1.3342225551605225, G Loss: 0.8002001047134399\n",
      "Epoch: 96/100, Step: 90000, D Loss: 1.350936770439148, G Loss: 0.7366143465042114\n",
      "Epoch: 97/100, Step: 91000, D Loss: 1.2687678337097168, G Loss: 0.984544038772583\n",
      "Epoch: 98/100, Step: 92000, D Loss: 1.340162754058838, G Loss: 0.7270733714103699\n",
      "Epoch: 99/100, Step: 93000, D Loss: 1.3444583415985107, G Loss: 0.7315884828567505\n"
     ]
    }
   ],
   "source": [
    "for epoch in range(max_epoch):\n",
    "    for idx, (images, _) in enumerate(data_loader):\n",
    "        step += 1\n",
    "        # Training Discriminator\n",
    "        x = to_cuda(images)\n",
    "        x_outputs = D(x)\n",
    "        D_x_loss = criterion(x_outputs, D_labels)\n",
    "\n",
    "        z = to_cuda(torch.randn(batch_size, n_noise))\n",
    "        z_outputs = D(G(z))\n",
    "        D_z_loss = criterion(z_outputs, D_fakes)\n",
    "        D_loss = D_x_loss + D_z_loss\n",
    "        \n",
    "        D.zero_grad()\n",
    "        D_loss.backward()\n",
    "        D_opt.step()\n",
    "\n",
    "        if step % n_critic == 0:\n",
    "            # Training Generator\n",
    "            z = to_cuda(torch.randn(batch_size, n_noise))\n",
    "            z_outputs = D(G(z))\n",
    "            G_loss = criterion(z_outputs, D_labels)\n",
    "\n",
    "            G.zero_grad()\n",
    "            G_loss.backward()\n",
    "            G_opt.step()\n",
    "        \n",
    "        if step % 1000 == 0:\n",
    "            print('Epoch: {}/{}, Step: {}, D Loss: {}, G Loss: {}'.format(epoch, max_epoch, step, D_loss.data[0], G_loss.data[0]))\n",
    "        \n",
    "        if epoch % 5 == 0:\n",
    "            G.eval()\n",
    "            img = get_sample_image(G)\n",
    "            scipy.misc.imsave('sample/{}_epoch_{}_type1.jpg'.format(MODEL_NAME, epoch), img)\n",
    "            G.train()"
   ]
  },
  {
   "cell_type": "code",
   "execution_count": null,
   "metadata": {
    "collapsed": true
   },
   "outputs": [],
   "source": []
  },
  {
   "cell_type": "markdown",
   "metadata": {},
   "source": [
    "## Sample"
   ]
  },
  {
   "cell_type": "code",
   "execution_count": 18,
   "metadata": {},
   "outputs": [
    {
     "name": "stderr",
     "output_type": "stream",
     "text": [
      "/home/yangyangii/anaconda3/lib/python3.6/site-packages/ipykernel_launcher.py:3: DeprecationWarning: `toimage` is deprecated!\n",
      "`toimage` is deprecated in SciPy 1.0.0, and will be removed in 1.2.0.\n",
      "Use Pillow's ``Image.fromarray`` directly instead.\n",
      "  This is separate from the ipykernel package so we can avoid doing imports until\n"
     ]
    },
    {
     "data": {
      "image/png": "[encoded data removed]",
      "text/plain": [
       "<PIL.Image.Image image mode=L size=280x280 at 0x7F8B084F9438>"
      ]
     },
     "execution_count": 18,
     "metadata": {},
     "output_type": "execute_result"
    }
   ],
   "source": [
    "# generation to image\n",
    "G.eval()\n",
    "scipy.misc.toimage(get_sample_image(G))"
   ]
  },
  {
   "cell_type": "code",
   "execution_count": null,
   "metadata": {
    "collapsed": true
   },
   "outputs": [],
   "source": []
  },
  {
   "cell_type": "code",
   "execution_count": null,
   "metadata": {
    "collapsed": true
   },
   "outputs": [],
   "source": []
  },
  {
   "cell_type": "code",
   "execution_count": 14,
   "metadata": {
    "collapsed": true
   },
   "outputs": [],
   "source": [
    "# Saving params.\n",
    "torch.save(D.state_dict(), 'D.pkl')\n",
    "torch.save(G.state_dict(), 'G.pkl')"
   ]
  },
  {
   "cell_type": "code",
   "execution_count": null,
   "metadata": {
    "collapsed": true
   },
   "outputs": [],
   "source": []
  }
 ],
 "metadata": {
  "kernelspec": {
   "display_name": "Python 3",
   "language": "python",
   "name": "python3"
  },
  "language_info": {
   "codemirror_mode": {
    "name": "ipython",
    "version": 3
   },
   "file_extension": ".py",
   "mimetype": "text/x-python",
   "name": "python",
   "nbconvert_exporter": "python",
   "pygments_lexer": "ipython3",
   "version": "3.6.1"
  }
 },
 "nbformat": 4,
 "nbformat_minor": 2
}
